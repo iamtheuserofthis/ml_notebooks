{
 "cells": [
  {
   "cell_type": "markdown",
   "metadata": {},
   "source": [
    "### CUSTOM TRAINING LOOPS \n",
    "\n",
    "1. Loops programmed by self which are provided by default with `fit()` and `evaluate()` function.\n",
    "\n",
    "2. GradientTape: Calling a model inside a GradientTape scope enables you to retrieve the gradients of the trainable weights of the layer with respect to a loss value. Using an optimizer instance, you can use these gradients to update these variables"
   ]
  },
  {
   "cell_type": "code",
   "execution_count": 1,
   "metadata": {},
   "outputs": [],
   "source": [
    "import tensorflow as tf\n",
    "from tensorflow import keras\n",
    "from tensorflow.keras import layers\n",
    "import numpy as np"
   ]
  },
  {
   "cell_type": "code",
   "execution_count": 2,
   "metadata": {},
   "outputs": [],
   "source": [
    "inputs = keras.Input(shape=(784,), name=\"digits\")\n",
    "x1 = layers.Dense(64, activation='relu')(inputs)\n",
    "x2 = layers.Dense(64, activation='relu')(x1)\n",
    "outputs = layers.Dense(10, name='predictions')(x2)\n",
    "model = keras.Model(inputs=inputs, outputs=outputs)\n",
    "\n",
    "optimizer = keras.optimizers.SGD(learning_rate=1e-3)\n",
    "loss_fn  = keras.losses.SparseCategoricalCrossentropy"
   ]
  },
  {
   "cell_type": "markdown",
   "metadata": {},
   "source": [
    "`SparseCategoricalCrossentropy` and `CategoricalCrossentropy` both compute categorical cross-entropy. The only difference is in how the targets/labels should be encoded.\n",
    "\n",
    "When using SparseCategoricalCrossentropy the targets are represented by the index of the category (starting from 0)."
   ]
  },
  {
   "cell_type": "code",
   "execution_count": 3,
   "metadata": {},
   "outputs": [],
   "source": [
    "batch_size=16\n",
    "(x_train, y_train), (x_test,y_test) = keras.datasets.mnist.load_data()\n",
    "\n",
    "x_train.shape\n",
    "x_train = np.reshape(x_train, (-1, 784))\n",
    "x_test = np.reshape(x_test, (-1, 784))\n",
    "train_dataset = tf.data.Dataset.from_tensor_slices((x_train, y_train))\n"
   ]
  },
  {
   "cell_type": "code",
   "execution_count": 81,
   "metadata": {},
   "outputs": [
    {
     "ename": "TypeError",
     "evalue": "list_files() missing 1 required positional argument: 'file_pattern'",
     "output_type": "error",
     "traceback": [
      "\u001b[0;31m---------------------------------------------------------------------------\u001b[0m",
      "\u001b[0;31mTypeError\u001b[0m                                 Traceback (most recent call last)",
      "\u001b[0;32m<ipython-input-81-8699a61feb07>\u001b[0m in \u001b[0;36m<module>\u001b[0;34m\u001b[0m\n\u001b[0;32m----> 1\u001b[0;31m \u001b[0mtrain_dataset\u001b[0m\u001b[0;34m.\u001b[0m\u001b[0mlist_files\u001b[0m\u001b[0;34m(\u001b[0m\u001b[0;34m)\u001b[0m\u001b[0;34m\u001b[0m\u001b[0;34m\u001b[0m\u001b[0m\n\u001b[0m\u001b[1;32m      2\u001b[0m \u001b[0;34m\u001b[0m\u001b[0m\n",
      "\u001b[0;31mTypeError\u001b[0m: list_files() missing 1 required positional argument: 'file_pattern'"
     ]
    }
   ],
   "source": [
    "train_dataset\n",
    "    "
   ]
  },
  {
   "cell_type": "markdown",
   "metadata": {},
   "source": [
    "### GradientTape\n",
    "\n",
    "Record operations for automatic differentiation.\n",
    "\n",
    "Operations are recorded if they are executed within this context manager and at least one of their inputs is being \"watched\".\n",
    "Trainable variables are both watched.\n",
    "\n",
    "GradientTape are removed as soon as the GradientTape.gradient() method is called.\n",
    "\n",
    "To compute multiple gradients over the same computation, create a persistent gradient tape. This allows multiple calls to the gradient() method as resources are released when the tape object is garbage collected. "
   ]
  },
  {
   "cell_type": "code",
   "execution_count": 68,
   "metadata": {
    "scrolled": true
   },
   "outputs": [
    {
     "name": "stdout",
     "output_type": "stream",
     "text": [
      "tf.Tensor(27.0, shape=(), dtype=float32)\n",
      "first order derivatives: tf.Tensor(27.0, shape=(), dtype=float32)\n",
      "second order derivatives: tf.Tensor(18.0, shape=(), dtype=float32)\n",
      "tf.Tensor(48.0, shape=(), dtype=float32) tf.Tensor(6144.0, shape=(), dtype=float32)\n"
     ]
    }
   ],
   "source": [
    "# computing gradient with GradientTape\n",
    "\n",
    "x = tf.constant(3.0)\n",
    "with tf.GradientTape() as g:\n",
    "    g.watch(x)\n",
    "    y=x*x*x\n",
    "    dy_dx = g.gradient(y,x)\n",
    "    print(dy_dx)\n",
    "    \n",
    "\n",
    "# nesting the Gradient tape for higher order derivatives\n",
    "x = tf.constant(3.0)\n",
    "with tf.GradientTape() as g:\n",
    "    g.watch(x)\n",
    "    with tf.GradientTape() as gg:\n",
    "        gg.watch(x)\n",
    "        y = x*x*x\n",
    "        dy_dx = gg.gradient(y,x)\n",
    "        print(\"first order derivatives:\",dy_dx)\n",
    "    dy_dx2 = g.gradient(dy_dx,x)\n",
    "    print(\"second order derivatives:\",dy_dx2)\n",
    "    \n",
    "\n",
    "# calculating multiple gradients with a persistently \n",
    "x = tf.constant(4.0)\n",
    "with tf.GradientTape(persistent=True) as g:\n",
    "    g.watch(x)\n",
    "    y = x*x*x\n",
    "    z = y*y\n",
    "    \n",
    "dy_dx = g.gradient(y, x)\n",
    "dz_dx = g.gradient(z, x)\n",
    "print(dy_dx, dz_dx)\n",
    "    \n"
   ]
  },
  {
   "cell_type": "code",
   "execution_count": 71,
   "metadata": {
    "collapsed": true
   },
   "outputs": [
    {
     "ename": "ValueError",
     "evalue": "Input 0 of layer dense_4 is incompatible with the layer: : expected min_ndim=2, found ndim=1. Full shape received: [31]",
     "output_type": "error",
     "traceback": [
      "\u001b[0;31m---------------------------------------------------------------------------\u001b[0m",
      "\u001b[0;31mValueError\u001b[0m                                Traceback (most recent call last)",
      "\u001b[0;32m<ipython-input-71-2aae20dc3607>\u001b[0m in \u001b[0;36m<module>\u001b[0;34m\u001b[0m\n\u001b[1;32m      6\u001b[0m \u001b[0;32mwith\u001b[0m \u001b[0mtf\u001b[0m\u001b[0;34m.\u001b[0m\u001b[0mGradientTape\u001b[0m\u001b[0;34m(\u001b[0m\u001b[0mwatch_accessed_variables\u001b[0m\u001b[0;34m=\u001b[0m\u001b[0;32mFalse\u001b[0m\u001b[0;34m)\u001b[0m \u001b[0;32mas\u001b[0m \u001b[0mtape\u001b[0m\u001b[0;34m:\u001b[0m\u001b[0;34m\u001b[0m\u001b[0;34m\u001b[0m\u001b[0m\n\u001b[1;32m      7\u001b[0m     \u001b[0mtape\u001b[0m\u001b[0;34m.\u001b[0m\u001b[0mwatch\u001b[0m\u001b[0;34m(\u001b[0m\u001b[0ma\u001b[0m\u001b[0;34m.\u001b[0m\u001b[0mvariables\u001b[0m\u001b[0;34m)\u001b[0m\u001b[0;34m\u001b[0m\u001b[0;34m\u001b[0m\u001b[0m\n\u001b[0;32m----> 8\u001b[0;31m     \u001b[0mresult\u001b[0m \u001b[0;34m=\u001b[0m \u001b[0mb\u001b[0m\u001b[0;34m(\u001b[0m\u001b[0ma\u001b[0m\u001b[0;34m(\u001b[0m\u001b[0minputs\u001b[0m\u001b[0;34m)\u001b[0m\u001b[0;34m)\u001b[0m\u001b[0;34m\u001b[0m\u001b[0;34m\u001b[0m\u001b[0m\n\u001b[0m\u001b[1;32m      9\u001b[0m \u001b[0;31m#     tape.gradient(result, a.variables)\u001b[0m\u001b[0;34m\u001b[0m\u001b[0;34m\u001b[0m\u001b[0;34m\u001b[0m\u001b[0m\n",
      "\u001b[0;32m~/anaconda3/envs/tf_dev/lib/python3.7/site-packages/tensorflow_core/python/keras/engine/base_layer.py\u001b[0m in \u001b[0;36m__call__\u001b[0;34m(self, inputs, *args, **kwargs)\u001b[0m\n\u001b[1;32m    885\u001b[0m         \u001b[0;31m# Eager execution on data tensors.\u001b[0m\u001b[0;34m\u001b[0m\u001b[0;34m\u001b[0m\u001b[0;34m\u001b[0m\u001b[0m\n\u001b[1;32m    886\u001b[0m         \u001b[0;32mwith\u001b[0m \u001b[0mbackend\u001b[0m\u001b[0;34m.\u001b[0m\u001b[0mname_scope\u001b[0m\u001b[0;34m(\u001b[0m\u001b[0mself\u001b[0m\u001b[0;34m.\u001b[0m\u001b[0m_name_scope\u001b[0m\u001b[0;34m(\u001b[0m\u001b[0;34m)\u001b[0m\u001b[0;34m)\u001b[0m\u001b[0;34m:\u001b[0m\u001b[0;34m\u001b[0m\u001b[0;34m\u001b[0m\u001b[0m\n\u001b[0;32m--> 887\u001b[0;31m           \u001b[0mself\u001b[0m\u001b[0;34m.\u001b[0m\u001b[0m_maybe_build\u001b[0m\u001b[0;34m(\u001b[0m\u001b[0minputs\u001b[0m\u001b[0;34m)\u001b[0m\u001b[0;34m\u001b[0m\u001b[0;34m\u001b[0m\u001b[0m\n\u001b[0m\u001b[1;32m    888\u001b[0m           \u001b[0mcast_inputs\u001b[0m \u001b[0;34m=\u001b[0m \u001b[0mself\u001b[0m\u001b[0;34m.\u001b[0m\u001b[0m_maybe_cast_inputs\u001b[0m\u001b[0;34m(\u001b[0m\u001b[0minputs\u001b[0m\u001b[0;34m)\u001b[0m\u001b[0;34m\u001b[0m\u001b[0;34m\u001b[0m\u001b[0m\n\u001b[1;32m    889\u001b[0m           with base_layer_utils.autocast_context_manager(\n",
      "\u001b[0;32m~/anaconda3/envs/tf_dev/lib/python3.7/site-packages/tensorflow_core/python/keras/engine/base_layer.py\u001b[0m in \u001b[0;36m_maybe_build\u001b[0;34m(self, inputs)\u001b[0m\n\u001b[1;32m   2120\u001b[0m     \u001b[0;32mif\u001b[0m \u001b[0;32mnot\u001b[0m \u001b[0mself\u001b[0m\u001b[0;34m.\u001b[0m\u001b[0mbuilt\u001b[0m\u001b[0;34m:\u001b[0m\u001b[0;34m\u001b[0m\u001b[0;34m\u001b[0m\u001b[0m\n\u001b[1;32m   2121\u001b[0m       input_spec.assert_input_compatibility(\n\u001b[0;32m-> 2122\u001b[0;31m           self.input_spec, inputs, self.name)\n\u001b[0m\u001b[1;32m   2123\u001b[0m       \u001b[0minput_list\u001b[0m \u001b[0;34m=\u001b[0m \u001b[0mnest\u001b[0m\u001b[0;34m.\u001b[0m\u001b[0mflatten\u001b[0m\u001b[0;34m(\u001b[0m\u001b[0minputs\u001b[0m\u001b[0;34m)\u001b[0m\u001b[0;34m\u001b[0m\u001b[0;34m\u001b[0m\u001b[0m\n\u001b[1;32m   2124\u001b[0m       \u001b[0;32mif\u001b[0m \u001b[0minput_list\u001b[0m \u001b[0;32mand\u001b[0m \u001b[0mself\u001b[0m\u001b[0;34m.\u001b[0m\u001b[0m_dtype_policy\u001b[0m\u001b[0;34m.\u001b[0m\u001b[0mcompute_dtype\u001b[0m \u001b[0;32mis\u001b[0m \u001b[0;32mNone\u001b[0m\u001b[0;34m:\u001b[0m\u001b[0;34m\u001b[0m\u001b[0;34m\u001b[0m\u001b[0m\n",
      "\u001b[0;32m~/anaconda3/envs/tf_dev/lib/python3.7/site-packages/tensorflow_core/python/keras/engine/input_spec.py\u001b[0m in \u001b[0;36massert_input_compatibility\u001b[0;34m(input_spec, inputs, layer_name)\u001b[0m\n\u001b[1;32m    191\u001b[0m                          \u001b[0;34m', found ndim='\u001b[0m \u001b[0;34m+\u001b[0m \u001b[0mstr\u001b[0m\u001b[0;34m(\u001b[0m\u001b[0mndim\u001b[0m\u001b[0;34m)\u001b[0m \u001b[0;34m+\u001b[0m\u001b[0;34m\u001b[0m\u001b[0;34m\u001b[0m\u001b[0m\n\u001b[1;32m    192\u001b[0m                          \u001b[0;34m'. Full shape received: '\u001b[0m \u001b[0;34m+\u001b[0m\u001b[0;34m\u001b[0m\u001b[0;34m\u001b[0m\u001b[0m\n\u001b[0;32m--> 193\u001b[0;31m                          str(x.shape.as_list()))\n\u001b[0m\u001b[1;32m    194\u001b[0m     \u001b[0;31m# Check dtype.\u001b[0m\u001b[0;34m\u001b[0m\u001b[0;34m\u001b[0m\u001b[0;34m\u001b[0m\u001b[0m\n\u001b[1;32m    195\u001b[0m     \u001b[0;32mif\u001b[0m \u001b[0mspec\u001b[0m\u001b[0;34m.\u001b[0m\u001b[0mdtype\u001b[0m \u001b[0;32mis\u001b[0m \u001b[0;32mnot\u001b[0m \u001b[0;32mNone\u001b[0m\u001b[0;34m:\u001b[0m\u001b[0;34m\u001b[0m\u001b[0;34m\u001b[0m\u001b[0m\n",
      "\u001b[0;31mValueError\u001b[0m: Input 0 of layer dense_4 is incompatible with the layer: : expected min_ndim=2, found ndim=1. Full shape received: [31]"
     ]
    }
   ],
   "source": [
    "# common error\n",
    "inputs = tf.Variable(np.arange(1,32))\n",
    "a = tf.keras.layers.Dense(32)\n",
    "b = tf.keras.layers.Dense(32)\n",
    "\n",
    "with tf.GradientTape(watch_accessed_variables=False) as tape:\n",
    "    tape.watch(a.variables) \n",
    "    result = b(a(inputs))\n",
    "    tape.gradient(result, a.variables)"
   ]
  },
  {
   "cell_type": "code",
   "execution_count": 4,
   "metadata": {},
   "outputs": [],
   "source": [
    "import pandas as pd\n",
    "import numpy as np\n",
    "import tensorflow as tf\n",
    "import matplotlib.pyplot as plt"
   ]
  },
  {
   "cell_type": "code",
   "execution_count": 5,
   "metadata": {},
   "outputs": [],
   "source": [
    "df = pd.read_csv('/home/iamtheuserofthis/python_workspace/data_for_ml/car_evaluation.csv')"
   ]
  },
  {
   "cell_type": "code",
   "execution_count": 9,
   "metadata": {},
   "outputs": [],
   "source": [
    "df.columns = ['price', 'maint', 'doors',  'persons', 'lug_capacity', 'safety', 'output']"
   ]
  },
  {
   "cell_type": "code",
   "execution_count": 18,
   "metadata": {},
   "outputs": [
    {
     "data": {
      "text/plain": [
       "<matplotlib.axes._subplots.AxesSubplot at 0x7facbc346190>"
      ]
     },
     "execution_count": 18,
     "metadata": {},
     "output_type": "execute_result"
    },
    {
     "data": {
      "image/png": "[encoded data removed]",
      "text/plain": [
       "<Figure size 432x288 with 1 Axes>"
      ]
     },
     "metadata": {},
     "output_type": "display_data"
    }
   ],
   "source": [
    "df.output.value_counts().plot(kind='pie', autopct='%0.05f%%', explode=(0.05,0.05,0.05,0.05))"
   ]
  },
  {
   "cell_type": "code",
   "execution_count": 31,
   "metadata": {},
   "outputs": [],
   "source": [
    "comp_dict = {}\n",
    "for col in df.columns:\n",
    "    comp_dict[col] = pd.get_dummies(df[col], prefix=col)\n",
    "   \n",
    "X = pd.concat(\n",
    "          [comp_dict['price'], \n",
    "          comp_dict['maint'], \n",
    "          comp_dict['doors'], \n",
    "          comp_dict['persons'], \n",
    "          comp_dict['lug_capacity'], \n",
    "          comp_dict['safety']],\n",
    "    axis=1\n",
    ")\n",
    "y = comp_dict['output'].values"
   ]
  },
  {
   "cell_type": "code",
   "execution_count": 32,
   "metadata": {},
   "outputs": [],
   "source": [
    "from sklearn.model_selection import train_test_split\n",
    "X_train, X_test, y_train, y_test = train_test_split(X, y, test_size=0.20, random_state=42)"
   ]
  },
  {
   "cell_type": "code",
   "execution_count": 135,
   "metadata": {},
   "outputs": [],
   "source": [
    "from tensorflow.keras.layers import Input, Dense, Activation, Dropout, BatchNormalization\n",
    "from tensorflow.keras.models import Model"
   ]
  },
  {
   "cell_type": "code",
   "execution_count": 41,
   "metadata": {},
   "outputs": [],
   "source": [
    "input_layer = Input(shape=(X.shape[1],))\n",
    "dense_1 = Dense(15, activation='relu')(input_layer)\n",
    "dense_2 = Dense(10, activation='relu')(dense_1)\n",
    "output = Dense(y.shape[1], activation='softmax')(dense_2)\n",
    "model = Model(inputs=input_layer, outputs=output)\n",
    "model.compile(loss='categorical_crossentropy', optimizer='adam', metrics=['acc'])"
   ]
  },
  {
   "cell_type": "code",
   "execution_count": 42,
   "metadata": {},
   "outputs": [
    {
     "name": "stdout",
     "output_type": "stream",
     "text": [
      "Model: \"model_1\"\n",
      "_________________________________________________________________\n",
      "Layer (type)                 Output Shape              Param #   \n",
      "=================================================================\n",
      "input_6 (InputLayer)         [(None, 21)]              0         \n",
      "_________________________________________________________________\n",
      "dense_14 (Dense)             (None, 15)                330       \n",
      "_________________________________________________________________\n",
      "dense_15 (Dense)             (None, 10)                160       \n",
      "_________________________________________________________________\n",
      "dense_16 (Dense)             (None, 4)                 44        \n",
      "=================================================================\n",
      "Total params: 534\n",
      "Trainable params: 534\n",
      "Non-trainable params: 0\n",
      "_________________________________________________________________\n"
     ]
    }
   ],
   "source": [
    "model.summary()"
   ]
  },
  {
   "cell_type": "code",
   "execution_count": 43,
   "metadata": {},
   "outputs": [
    {
     "name": "stdout",
     "output_type": "stream",
     "text": [
      "WARNING:tensorflow:Falling back from v2 loop because of error: Failed to find data adapter that can handle input: <class 'pandas.core.frame.DataFrame'>, <class 'NoneType'>\n",
      "Train on 1104 samples, validate on 277 samples\n",
      "Epoch 1/50\n",
      "1104/1104 [==============================] - 1s 746us/sample - loss: 0.9015 - acc: 0.6495 - val_loss: 0.7928 - val_acc: 0.6787\n",
      "Epoch 2/50\n",
      "1104/1104 [==============================] - 0s 88us/sample - loss: 0.6350 - acc: 0.7283 - val_loss: 0.6006 - val_acc: 0.7365\n",
      "Epoch 3/50\n",
      "1104/1104 [==============================] - 0s 87us/sample - loss: 0.4700 - acc: 0.8107 - val_loss: 0.4534 - val_acc: 0.8051\n",
      "Epoch 4/50\n",
      "1104/1104 [==============================] - 0s 85us/sample - loss: 0.3601 - acc: 0.8714 - val_loss: 0.3833 - val_acc: 0.8412\n",
      "Epoch 5/50\n",
      "1104/1104 [==============================] - 0s 88us/sample - loss: 0.2995 - acc: 0.9004 - val_loss: 0.3398 - val_acc: 0.8520\n",
      "Epoch 6/50\n",
      "1104/1104 [==============================] - 0s 85us/sample - loss: 0.2609 - acc: 0.9103 - val_loss: 0.3098 - val_acc: 0.8700\n",
      "Epoch 7/50\n",
      "1104/1104 [==============================] - 0s 85us/sample - loss: 0.2344 - acc: 0.9121 - val_loss: 0.2892 - val_acc: 0.8700\n",
      "Epoch 8/50\n",
      "1104/1104 [==============================] - 0s 88us/sample - loss: 0.2123 - acc: 0.9203 - val_loss: 0.2772 - val_acc: 0.8845\n",
      "Epoch 9/50\n",
      "1104/1104 [==============================] - 0s 89us/sample - loss: 0.1959 - acc: 0.9266 - val_loss: 0.2640 - val_acc: 0.8881\n",
      "Epoch 10/50\n",
      "1104/1104 [==============================] - 0s 88us/sample - loss: 0.1839 - acc: 0.9203 - val_loss: 0.2485 - val_acc: 0.9025\n",
      "Epoch 11/50\n",
      "1104/1104 [==============================] - 0s 86us/sample - loss: 0.1668 - acc: 0.9339 - val_loss: 0.2374 - val_acc: 0.9134\n",
      "Epoch 12/50\n",
      "1104/1104 [==============================] - 0s 88us/sample - loss: 0.1577 - acc: 0.9366 - val_loss: 0.2307 - val_acc: 0.9242\n",
      "Epoch 13/50\n",
      "1104/1104 [==============================] - 0s 88us/sample - loss: 0.1469 - acc: 0.9475 - val_loss: 0.2213 - val_acc: 0.9206\n",
      "Epoch 14/50\n",
      "1104/1104 [==============================] - 0s 89us/sample - loss: 0.1379 - acc: 0.9493 - val_loss: 0.2302 - val_acc: 0.9242\n",
      "Epoch 15/50\n",
      "1104/1104 [==============================] - 0s 89us/sample - loss: 0.1314 - acc: 0.9611 - val_loss: 0.2151 - val_acc: 0.9278\n",
      "Epoch 16/50\n",
      "1104/1104 [==============================] - 0s 89us/sample - loss: 0.1238 - acc: 0.9574 - val_loss: 0.2010 - val_acc: 0.9278\n",
      "Epoch 17/50\n",
      "1104/1104 [==============================] - 0s 88us/sample - loss: 0.1187 - acc: 0.9592 - val_loss: 0.1960 - val_acc: 0.9314\n",
      "Epoch 18/50\n",
      "1104/1104 [==============================] - 0s 88us/sample - loss: 0.1108 - acc: 0.9674 - val_loss: 0.1895 - val_acc: 0.9386\n",
      "Epoch 19/50\n",
      "1104/1104 [==============================] - 0s 90us/sample - loss: 0.1056 - acc: 0.9638 - val_loss: 0.1891 - val_acc: 0.9386\n",
      "Epoch 20/50\n",
      "1104/1104 [==============================] - 0s 91us/sample - loss: 0.0992 - acc: 0.9701 - val_loss: 0.1809 - val_acc: 0.9386\n",
      "Epoch 21/50\n",
      "1104/1104 [==============================] - 0s 90us/sample - loss: 0.0967 - acc: 0.9710 - val_loss: 0.1764 - val_acc: 0.9422\n",
      "Epoch 22/50\n",
      "1104/1104 [==============================] - 0s 88us/sample - loss: 0.0906 - acc: 0.9719 - val_loss: 0.1794 - val_acc: 0.9422\n",
      "Epoch 23/50\n",
      "1104/1104 [==============================] - 0s 89us/sample - loss: 0.0852 - acc: 0.9728 - val_loss: 0.1686 - val_acc: 0.9422\n",
      "Epoch 24/50\n",
      "1104/1104 [==============================] - 0s 87us/sample - loss: 0.0815 - acc: 0.9774 - val_loss: 0.1692 - val_acc: 0.9386\n",
      "Epoch 25/50\n",
      "1104/1104 [==============================] - 0s 87us/sample - loss: 0.0746 - acc: 0.9783 - val_loss: 0.1688 - val_acc: 0.9422\n",
      "Epoch 26/50\n",
      "1104/1104 [==============================] - 0s 88us/sample - loss: 0.0729 - acc: 0.9783 - val_loss: 0.1605 - val_acc: 0.9495\n",
      "Epoch 27/50\n",
      "1104/1104 [==============================] - 0s 89us/sample - loss: 0.0692 - acc: 0.9810 - val_loss: 0.1563 - val_acc: 0.9531\n",
      "Epoch 28/50\n",
      "1104/1104 [==============================] - 0s 87us/sample - loss: 0.0663 - acc: 0.9810 - val_loss: 0.1500 - val_acc: 0.9495\n",
      "Epoch 29/50\n",
      "1104/1104 [==============================] - 0s 90us/sample - loss: 0.0637 - acc: 0.9846 - val_loss: 0.1484 - val_acc: 0.9495\n",
      "Epoch 30/50\n",
      "1104/1104 [==============================] - 0s 88us/sample - loss: 0.0598 - acc: 0.9855 - val_loss: 0.1460 - val_acc: 0.9531\n",
      "Epoch 31/50\n",
      "1104/1104 [==============================] - 0s 87us/sample - loss: 0.0577 - acc: 0.9837 - val_loss: 0.1463 - val_acc: 0.9531\n",
      "Epoch 32/50\n",
      "1104/1104 [==============================] - 0s 89us/sample - loss: 0.0541 - acc: 0.9900 - val_loss: 0.1478 - val_acc: 0.9495\n",
      "Epoch 33/50\n",
      "1104/1104 [==============================] - 0s 89us/sample - loss: 0.0535 - acc: 0.9855 - val_loss: 0.1389 - val_acc: 0.9567\n",
      "Epoch 34/50\n",
      "1104/1104 [==============================] - 0s 87us/sample - loss: 0.0500 - acc: 0.9891 - val_loss: 0.1455 - val_acc: 0.9531\n",
      "Epoch 35/50\n",
      "1104/1104 [==============================] - 0s 89us/sample - loss: 0.0513 - acc: 0.9882 - val_loss: 0.1401 - val_acc: 0.9531\n",
      "Epoch 36/50\n",
      "1104/1104 [==============================] - 0s 86us/sample - loss: 0.0463 - acc: 0.9909 - val_loss: 0.1518 - val_acc: 0.9495\n",
      "Epoch 37/50\n",
      "1104/1104 [==============================] - 0s 86us/sample - loss: 0.0451 - acc: 0.9918 - val_loss: 0.1317 - val_acc: 0.9567\n",
      "Epoch 38/50\n",
      "1104/1104 [==============================] - 0s 86us/sample - loss: 0.0436 - acc: 0.9909 - val_loss: 0.1314 - val_acc: 0.9567\n",
      "Epoch 39/50\n",
      "1104/1104 [==============================] - 0s 87us/sample - loss: 0.0418 - acc: 0.9891 - val_loss: 0.1302 - val_acc: 0.9675\n",
      "Epoch 40/50\n",
      "1104/1104 [==============================] - 0s 86us/sample - loss: 0.0411 - acc: 0.9882 - val_loss: 0.1287 - val_acc: 0.9567\n",
      "Epoch 41/50\n",
      "1104/1104 [==============================] - 0s 85us/sample - loss: 0.0381 - acc: 0.9918 - val_loss: 0.1232 - val_acc: 0.9603\n",
      "Epoch 42/50\n",
      "1104/1104 [==============================] - 0s 87us/sample - loss: 0.0370 - acc: 0.9918 - val_loss: 0.1226 - val_acc: 0.9603\n",
      "Epoch 43/50\n",
      "1104/1104 [==============================] - 0s 87us/sample - loss: 0.0369 - acc: 0.9918 - val_loss: 0.1191 - val_acc: 0.9675\n",
      "Epoch 44/50\n",
      "1104/1104 [==============================] - 0s 87us/sample - loss: 0.0336 - acc: 0.9946 - val_loss: 0.1221 - val_acc: 0.9567\n",
      "Epoch 45/50\n",
      "1104/1104 [==============================] - 0s 87us/sample - loss: 0.0336 - acc: 0.9946 - val_loss: 0.1220 - val_acc: 0.9567\n",
      "Epoch 46/50\n",
      "1104/1104 [==============================] - 0s 86us/sample - loss: 0.0324 - acc: 0.9946 - val_loss: 0.1137 - val_acc: 0.9675\n",
      "Epoch 47/50\n",
      "1104/1104 [==============================] - 0s 89us/sample - loss: 0.0306 - acc: 0.9946 - val_loss: 0.1152 - val_acc: 0.9603\n",
      "Epoch 48/50\n",
      "1104/1104 [==============================] - 0s 88us/sample - loss: 0.0291 - acc: 0.9964 - val_loss: 0.1142 - val_acc: 0.9603\n",
      "Epoch 49/50\n",
      "1104/1104 [==============================] - 0s 87us/sample - loss: 0.0286 - acc: 0.9955 - val_loss: 0.1181 - val_acc: 0.9567\n",
      "Epoch 50/50\n",
      "1104/1104 [==============================] - 0s 88us/sample - loss: 0.0275 - acc: 0.9955 - val_loss: 0.1095 - val_acc: 0.9639\n"
     ]
    }
   ],
   "source": [
    "history = model.fit(X_train, y_train, batch_size=8, epochs=50, verbose=1, validation_split=0.2)"
   ]
  },
  {
   "cell_type": "code",
   "execution_count": 44,
   "metadata": {},
   "outputs": [
    {
     "name": "stdout",
     "output_type": "stream",
     "text": [
      "WARNING:tensorflow:Falling back from v2 loop because of error: Failed to find data adapter that can handle input: <class 'pandas.core.frame.DataFrame'>, <class 'NoneType'>\n",
      "346/346 [==============================] - 0s 34us/sample - loss: 0.0617 - acc: 0.9653\n"
     ]
    }
   ],
   "source": [
    "score = model.evaluate(X_test, y_test, verbose=1)"
   ]
  },
  {
   "cell_type": "code",
   "execution_count": 186,
   "metadata": {},
   "outputs": [],
   "source": [
    "# shubham's dataset\n",
    "df2s = pd.read_csv('/home/iamtheuserofthis/grafana_backup_icg/BudgetFood.csv')\n",
    "df2s = df2s[df2s['wfood']!=0]\n",
    "sex_cols = pd.get_dummies(df2s['sex'], prefix='sex')\n",
    "town = pd.get_dummies(df2s['town'], prefix='town')"
   ]
  },
  {
   "cell_type": "code",
   "execution_count": 187,
   "metadata": {},
   "outputs": [
    {
     "data": {
      "text/html": [
       "<div>\n",
       "<style scoped>\n",
       "    .dataframe tbody tr th:only-of-type {\n",
       "        vertical-align: middle;\n",
       "    }\n",
       "\n",
       "    .dataframe tbody tr th {\n",
       "        vertical-align: top;\n",
       "    }\n",
       "\n",
       "    .dataframe thead th {\n",
       "        text-align: right;\n",
       "    }\n",
       "</style>\n",
       "<table border=\"1\" class=\"dataframe\">\n",
       "  <thead>\n",
       "    <tr style=\"text-align: right;\">\n",
       "      <th></th>\n",
       "      <th>wfood</th>\n",
       "      <th>totexp</th>\n",
       "      <th>age</th>\n",
       "      <th>size</th>\n",
       "      <th>sex_man</th>\n",
       "      <th>sex_woman</th>\n",
       "      <th>town_1</th>\n",
       "      <th>town_2</th>\n",
       "      <th>town_3</th>\n",
       "      <th>town_4</th>\n",
       "      <th>town_5</th>\n",
       "    </tr>\n",
       "  </thead>\n",
       "  <tbody>\n",
       "    <tr>\n",
       "      <th>0</th>\n",
       "      <td>0.467699</td>\n",
       "      <td>1290941</td>\n",
       "      <td>43</td>\n",
       "      <td>5</td>\n",
       "      <td>1</td>\n",
       "      <td>0</td>\n",
       "      <td>0</td>\n",
       "      <td>1</td>\n",
       "      <td>0</td>\n",
       "      <td>0</td>\n",
       "      <td>0</td>\n",
       "    </tr>\n",
       "    <tr>\n",
       "      <th>1</th>\n",
       "      <td>0.313023</td>\n",
       "      <td>1277978</td>\n",
       "      <td>40</td>\n",
       "      <td>3</td>\n",
       "      <td>1</td>\n",
       "      <td>0</td>\n",
       "      <td>0</td>\n",
       "      <td>1</td>\n",
       "      <td>0</td>\n",
       "      <td>0</td>\n",
       "      <td>0</td>\n",
       "    </tr>\n",
       "    <tr>\n",
       "      <th>2</th>\n",
       "      <td>0.376482</td>\n",
       "      <td>845852</td>\n",
       "      <td>28</td>\n",
       "      <td>3</td>\n",
       "      <td>1</td>\n",
       "      <td>0</td>\n",
       "      <td>0</td>\n",
       "      <td>1</td>\n",
       "      <td>0</td>\n",
       "      <td>0</td>\n",
       "      <td>0</td>\n",
       "    </tr>\n",
       "    <tr>\n",
       "      <th>3</th>\n",
       "      <td>0.439691</td>\n",
       "      <td>527698</td>\n",
       "      <td>60</td>\n",
       "      <td>1</td>\n",
       "      <td>0</td>\n",
       "      <td>1</td>\n",
       "      <td>0</td>\n",
       "      <td>1</td>\n",
       "      <td>0</td>\n",
       "      <td>0</td>\n",
       "      <td>0</td>\n",
       "    </tr>\n",
       "    <tr>\n",
       "      <th>4</th>\n",
       "      <td>0.403615</td>\n",
       "      <td>1103220</td>\n",
       "      <td>37</td>\n",
       "      <td>5</td>\n",
       "      <td>1</td>\n",
       "      <td>0</td>\n",
       "      <td>0</td>\n",
       "      <td>1</td>\n",
       "      <td>0</td>\n",
       "      <td>0</td>\n",
       "      <td>0</td>\n",
       "    </tr>\n",
       "    <tr>\n",
       "      <th>...</th>\n",
       "      <td>...</td>\n",
       "      <td>...</td>\n",
       "      <td>...</td>\n",
       "      <td>...</td>\n",
       "      <td>...</td>\n",
       "      <td>...</td>\n",
       "      <td>...</td>\n",
       "      <td>...</td>\n",
       "      <td>...</td>\n",
       "      <td>...</td>\n",
       "      <td>...</td>\n",
       "    </tr>\n",
       "    <tr>\n",
       "      <th>23965</th>\n",
       "      <td>0.656829</td>\n",
       "      <td>257376</td>\n",
       "      <td>81</td>\n",
       "      <td>2</td>\n",
       "      <td>1</td>\n",
       "      <td>0</td>\n",
       "      <td>0</td>\n",
       "      <td>0</td>\n",
       "      <td>0</td>\n",
       "      <td>1</td>\n",
       "      <td>0</td>\n",
       "    </tr>\n",
       "    <tr>\n",
       "      <th>23966</th>\n",
       "      <td>0.556862</td>\n",
       "      <td>432818</td>\n",
       "      <td>87</td>\n",
       "      <td>4</td>\n",
       "      <td>1</td>\n",
       "      <td>0</td>\n",
       "      <td>0</td>\n",
       "      <td>0</td>\n",
       "      <td>0</td>\n",
       "      <td>1</td>\n",
       "      <td>0</td>\n",
       "    </tr>\n",
       "    <tr>\n",
       "      <th>23967</th>\n",
       "      <td>0.433276</td>\n",
       "      <td>1096826</td>\n",
       "      <td>45</td>\n",
       "      <td>2</td>\n",
       "      <td>1</td>\n",
       "      <td>0</td>\n",
       "      <td>0</td>\n",
       "      <td>0</td>\n",
       "      <td>0</td>\n",
       "      <td>1</td>\n",
       "      <td>0</td>\n",
       "    </tr>\n",
       "    <tr>\n",
       "      <th>23968</th>\n",
       "      <td>0.572559</td>\n",
       "      <td>807030</td>\n",
       "      <td>36</td>\n",
       "      <td>3</td>\n",
       "      <td>1</td>\n",
       "      <td>0</td>\n",
       "      <td>0</td>\n",
       "      <td>0</td>\n",
       "      <td>0</td>\n",
       "      <td>1</td>\n",
       "      <td>0</td>\n",
       "    </tr>\n",
       "    <tr>\n",
       "      <th>23970</th>\n",
       "      <td>0.390722</td>\n",
       "      <td>342832</td>\n",
       "      <td>54</td>\n",
       "      <td>2</td>\n",
       "      <td>1</td>\n",
       "      <td>0</td>\n",
       "      <td>0</td>\n",
       "      <td>0</td>\n",
       "      <td>0</td>\n",
       "      <td>1</td>\n",
       "      <td>0</td>\n",
       "    </tr>\n",
       "  </tbody>\n",
       "</table>\n",
       "<p>23911 rows × 11 columns</p>\n",
       "</div>"
      ],
      "text/plain": [
       "          wfood   totexp  age  size  sex_man  sex_woman  town_1  town_2  \\\n",
       "0      0.467699  1290941   43     5        1          0       0       1   \n",
       "1      0.313023  1277978   40     3        1          0       0       1   \n",
       "2      0.376482   845852   28     3        1          0       0       1   \n",
       "3      0.439691   527698   60     1        0          1       0       1   \n",
       "4      0.403615  1103220   37     5        1          0       0       1   \n",
       "...         ...      ...  ...   ...      ...        ...     ...     ...   \n",
       "23965  0.656829   257376   81     2        1          0       0       0   \n",
       "23966  0.556862   432818   87     4        1          0       0       0   \n",
       "23967  0.433276  1096826   45     2        1          0       0       0   \n",
       "23968  0.572559   807030   36     3        1          0       0       0   \n",
       "23970  0.390722   342832   54     2        1          0       0       0   \n",
       "\n",
       "       town_3  town_4  town_5  \n",
       "0           0       0       0  \n",
       "1           0       0       0  \n",
       "2           0       0       0  \n",
       "3           0       0       0  \n",
       "4           0       0       0  \n",
       "...       ...     ...     ...  \n",
       "23965       0       1       0  \n",
       "23966       0       1       0  \n",
       "23967       0       1       0  \n",
       "23968       0       1       0  \n",
       "23970       0       1       0  \n",
       "\n",
       "[23911 rows x 11 columns]"
      ]
     },
     "execution_count": 187,
     "metadata": {},
     "output_type": "execute_result"
    }
   ],
   "source": [
    "dfx2 = df2s.drop(columns=['sex','town'])\n",
    "data_set = pd.concat([dfx2, sex_cols, town], axis=1)\n",
    "data_set"
   ]
  },
  {
   "cell_type": "code",
   "execution_count": 188,
   "metadata": {},
   "outputs": [
    {
     "name": "stdout",
     "output_type": "stream",
     "text": [
      "(19128, 10) (19128, 1)\n"
     ]
    }
   ],
   "source": [
    "from sklearn.preprocessing import StandardScaler\n",
    "from sklearn.model_selection import train_test_split\n",
    "X_train, X_test, y_train, y_test = train_test_split(data_set.drop(columns=['wfood']), data_set[['wfood']], test_size=0.2, random_state=0)\n",
    "print(X_train.shape, y_train.shape)"
   ]
  },
  {
   "cell_type": "code",
   "execution_count": 189,
   "metadata": {},
   "outputs": [],
   "source": [
    "# preprocessing the numerical values\n",
    "numerical_cols = ['totexp','age', 'size']\n",
    "categorical_cols = [ col for col in X_train.columns.to_list() if col not in numerical_cols]\n",
    "\n",
    "X_train_num = X_train[numerical_cols]\n",
    "X_train_cat = X_train[categorical_cols]\n",
    "\n",
    "sc = StandardScaler()\n",
    "X_train_fin_num = sc.fit_transform(X_train_num)"
   ]
  },
  {
   "cell_type": "code",
   "execution_count": 190,
   "metadata": {},
   "outputs": [
    {
     "name": "stdout",
     "output_type": "stream",
     "text": [
      "(19128, 3) (19128, 7) (19128, 10)\n"
     ]
    }
   ],
   "source": [
    "X_train_num_standard = pd.DataFrame(X_train_fin_num)\n",
    "X_train_num_standard.columns = numerical_cols\n",
    "\n",
    "fin_values = np.hstack([X_train_num_standard.values, X_train_cat.values])\n",
    "\n",
    "X_train_final_SS = pd.DataFrame(fin_values, columns=[numerical_cols+categorical_cols])\n",
    "\n",
    "print(X_train_num_standard.shape, X_train_cat.shape,X_train_final_SS.shape)"
   ]
  },
  {
   "cell_type": "code",
   "execution_count": 191,
   "metadata": {},
   "outputs": [
    {
     "name": "stdout",
     "output_type": "stream",
     "text": [
      "Model: \"model_13\"\n",
      "_________________________________________________________________\n",
      "Layer (type)                 Output Shape              Param #   \n",
      "=================================================================\n",
      "input_18 (InputLayer)        [(None, 10)]              0         \n",
      "_________________________________________________________________\n",
      "dense_85 (Dense)             (None, 400)               4400      \n",
      "_________________________________________________________________\n",
      "dense_86 (Dense)             (None, 400)               160400    \n",
      "_________________________________________________________________\n",
      "batch_normalization_9 (Batch (None, 400)               1600      \n",
      "_________________________________________________________________\n",
      "dense_87 (Dense)             (None, 400)               160400    \n",
      "_________________________________________________________________\n",
      "dense_88 (Dense)             (None, 400)               160400    \n",
      "_________________________________________________________________\n",
      "batch_normalization_10 (Batc (None, 400)               1600      \n",
      "_________________________________________________________________\n",
      "dense_89 (Dense)             (None, 100)               40100     \n",
      "_________________________________________________________________\n",
      "dense_90 (Dense)             (None, 100)               10100     \n",
      "_________________________________________________________________\n",
      "dense_91 (Dense)             (None, 1)                 101       \n",
      "=================================================================\n",
      "Total params: 539,101\n",
      "Trainable params: 535,901\n",
      "Non-trainable params: 3,200\n",
      "_________________________________________________________________\n"
     ]
    }
   ],
   "source": [
    "# multilayer perceptron/ deep neural network\n",
    "input_layer_1 = Input(shape=(X_train_final_SS.shape[1],))\n",
    "dense_1_1 = Dense(400, activation='relu')(input_layer_1)\n",
    "dense_2_1 = Dense(400, activation=None)(dense_1_1)\n",
    "bn1 = BatchNormalization(trainable=False)(dense_2_1)\n",
    "dense_3_1 = Dense(400, activation='relu')(bn1)\n",
    "dense_4_1 = Dense(400, activation='relu')(dense_3_1)\n",
    "bn2 = BatchNormalization(trainable=False)(dense_4_1)\n",
    "dense_5_1 = Dense(100, activation='relu')(bn2)\n",
    "dense_6_1 = Dense(100, activation='relu')(dense_5_1)\n",
    "output_1 = Dense(1, activation='sigmoid')(dense_6_1)\n",
    "model_r = Model(inputs= input_layer_1, outputs = output_1)\n",
    "model_r.compile(loss=\"mean_squared_error\", optimizer= keras.optimizers.Adam(learning_rate=0.001), metrics=[\"mean_squared_error\"])\n",
    "model_r.summary()"
   ]
  },
  {
   "cell_type": "code",
   "execution_count": 192,
   "metadata": {},
   "outputs": [
    {
     "name": "stdout",
     "output_type": "stream",
     "text": [
      "Train on 15302 samples, validate on 3826 samples\n",
      "Epoch 1/45\n",
      "15302/15302 [==============================] - 2s 129us/sample - loss: 0.0170 - mean_squared_error: 0.0170 - val_loss: 0.0154 - val_mean_squared_error: 0.0154\n",
      "Epoch 2/45\n",
      "15302/15302 [==============================] - 2s 102us/sample - loss: 0.0162 - mean_squared_error: 0.0162 - val_loss: 0.0155 - val_mean_squared_error: 0.0155\n",
      "Epoch 3/45\n",
      "15302/15302 [==============================] - 2s 103us/sample - loss: 0.0161 - mean_squared_error: 0.0161 - val_loss: 0.0161 - val_mean_squared_error: 0.0161\n",
      "Epoch 4/45\n",
      "15302/15302 [==============================] - 2s 102us/sample - loss: 0.0159 - mean_squared_error: 0.0159 - val_loss: 0.0158 - val_mean_squared_error: 0.0158\n",
      "Epoch 5/45\n",
      "15302/15302 [==============================] - 2s 102us/sample - loss: 0.0159 - mean_squared_error: 0.0159 - val_loss: 0.0153 - val_mean_squared_error: 0.0153\n",
      "Epoch 6/45\n",
      "15302/15302 [==============================] - 2s 105us/sample - loss: 0.0158 - mean_squared_error: 0.0158 - val_loss: 0.0154 - val_mean_squared_error: 0.0154\n",
      "Epoch 7/45\n",
      "15302/15302 [==============================] - 2s 102us/sample - loss: 0.0158 - mean_squared_error: 0.0158 - val_loss: 0.0156 - val_mean_squared_error: 0.0156\n",
      "Epoch 8/45\n",
      "15302/15302 [==============================] - 2s 105us/sample - loss: 0.0158 - mean_squared_error: 0.0158 - val_loss: 0.0155 - val_mean_squared_error: 0.0155\n",
      "Epoch 9/45\n",
      "15302/15302 [==============================] - 2s 103us/sample - loss: 0.0157 - mean_squared_error: 0.0157 - val_loss: 0.0158 - val_mean_squared_error: 0.0158\n",
      "Epoch 10/45\n",
      "15302/15302 [==============================] - 2s 104us/sample - loss: 0.0158 - mean_squared_error: 0.0158 - val_loss: 0.0155 - val_mean_squared_error: 0.0155\n",
      "Epoch 11/45\n",
      "15302/15302 [==============================] - 2s 102us/sample - loss: 0.0157 - mean_squared_error: 0.0157 - val_loss: 0.0152 - val_mean_squared_error: 0.0152\n",
      "Epoch 12/45\n",
      "15302/15302 [==============================] - 2s 103us/sample - loss: 0.0156 - mean_squared_error: 0.0156 - val_loss: 0.0151 - val_mean_squared_error: 0.0151\n",
      "Epoch 13/45\n",
      "15302/15302 [==============================] - 2s 107us/sample - loss: 0.0156 - mean_squared_error: 0.0156 - val_loss: 0.0158 - val_mean_squared_error: 0.0158\n",
      "Epoch 14/45\n",
      "15302/15302 [==============================] - 2s 103us/sample - loss: 0.0156 - mean_squared_error: 0.0156 - val_loss: 0.0155 - val_mean_squared_error: 0.0155\n",
      "Epoch 15/45\n",
      "15302/15302 [==============================] - 2s 104us/sample - loss: 0.0156 - mean_squared_error: 0.0156 - val_loss: 0.0153 - val_mean_squared_error: 0.0153\n",
      "Epoch 16/45\n",
      "15302/15302 [==============================] - 2s 109us/sample - loss: 0.0156 - mean_squared_error: 0.0156 - val_loss: 0.0153 - val_mean_squared_error: 0.0153\n",
      "Epoch 17/45\n",
      "15302/15302 [==============================] - 2s 106us/sample - loss: 0.0156 - mean_squared_error: 0.0156 - val_loss: 0.0154 - val_mean_squared_error: 0.0154\n",
      "Epoch 18/45\n",
      "15302/15302 [==============================] - 2s 104us/sample - loss: 0.0155 - mean_squared_error: 0.0155 - val_loss: 0.0159 - val_mean_squared_error: 0.0159\n",
      "Epoch 19/45\n",
      "15302/15302 [==============================] - 2s 104us/sample - loss: 0.0155 - mean_squared_error: 0.0155 - val_loss: 0.0154 - val_mean_squared_error: 0.0154\n",
      "Epoch 20/45\n",
      "15302/15302 [==============================] - 2s 104us/sample - loss: 0.0155 - mean_squared_error: 0.0155 - val_loss: 0.0151 - val_mean_squared_error: 0.0151\n",
      "Epoch 21/45\n",
      "15302/15302 [==============================] - 2s 105us/sample - loss: 0.0154 - mean_squared_error: 0.0154 - val_loss: 0.0153 - val_mean_squared_error: 0.0153\n",
      "Epoch 22/45\n",
      "15302/15302 [==============================] - 2s 106us/sample - loss: 0.0154 - mean_squared_error: 0.0154 - val_loss: 0.0153 - val_mean_squared_error: 0.0153\n",
      "Epoch 23/45\n",
      "15302/15302 [==============================] - 2s 109us/sample - loss: 0.0155 - mean_squared_error: 0.0155 - val_loss: 0.0155 - val_mean_squared_error: 0.0155\n",
      "Epoch 24/45\n",
      "15302/15302 [==============================] - 2s 104us/sample - loss: 0.0155 - mean_squared_error: 0.0155 - val_loss: 0.0154 - val_mean_squared_error: 0.0154\n",
      "Epoch 25/45\n",
      "15302/15302 [==============================] - 2s 104us/sample - loss: 0.0155 - mean_squared_error: 0.0155 - val_loss: 0.0156 - val_mean_squared_error: 0.0156\n",
      "Epoch 26/45\n",
      "15302/15302 [==============================] - 2s 104us/sample - loss: 0.0154 - mean_squared_error: 0.0154 - val_loss: 0.0157 - val_mean_squared_error: 0.0157\n",
      "Epoch 27/45\n",
      "15302/15302 [==============================] - 2s 105us/sample - loss: 0.0154 - mean_squared_error: 0.0154 - val_loss: 0.0153 - val_mean_squared_error: 0.0153\n",
      "Epoch 28/45\n",
      "15302/15302 [==============================] - 2s 105us/sample - loss: 0.0154 - mean_squared_error: 0.0154 - val_loss: 0.0154 - val_mean_squared_error: 0.0154\n",
      "Epoch 29/45\n",
      "15302/15302 [==============================] - 2s 106us/sample - loss: 0.0154 - mean_squared_error: 0.0154 - val_loss: 0.0153 - val_mean_squared_error: 0.0153\n",
      "Epoch 30/45\n",
      "15302/15302 [==============================] - 2s 105us/sample - loss: 0.0153 - mean_squared_error: 0.0153 - val_loss: 0.0160 - val_mean_squared_error: 0.0160\n",
      "Epoch 31/45\n",
      "15302/15302 [==============================] - 2s 109us/sample - loss: 0.0154 - mean_squared_error: 0.0154 - val_loss: 0.0153 - val_mean_squared_error: 0.0153\n",
      "Epoch 32/45\n",
      "15302/15302 [==============================] - 2s 105us/sample - loss: 0.0154 - mean_squared_error: 0.0154 - val_loss: 0.0155 - val_mean_squared_error: 0.0155\n",
      "Epoch 33/45\n",
      "15302/15302 [==============================] - 2s 109us/sample - loss: 0.0153 - mean_squared_error: 0.0153 - val_loss: 0.0154 - val_mean_squared_error: 0.0154\n",
      "Epoch 34/45\n",
      "15302/15302 [==============================] - 2s 106us/sample - loss: 0.0153 - mean_squared_error: 0.0153 - val_loss: 0.0153 - val_mean_squared_error: 0.0153\n",
      "Epoch 35/45\n",
      "15302/15302 [==============================] - 2s 107us/sample - loss: 0.0154 - mean_squared_error: 0.0154 - val_loss: 0.0157 - val_mean_squared_error: 0.0157\n",
      "Epoch 36/45\n",
      "15302/15302 [==============================] - 2s 104us/sample - loss: 0.0153 - mean_squared_error: 0.0153 - val_loss: 0.0153 - val_mean_squared_error: 0.0153\n",
      "Epoch 37/45\n",
      "15302/15302 [==============================] - 2s 101us/sample - loss: 0.0153 - mean_squared_error: 0.0153 - val_loss: 0.0155 - val_mean_squared_error: 0.0155\n",
      "Epoch 38/45\n",
      "15302/15302 [==============================] - 2s 103us/sample - loss: 0.0153 - mean_squared_error: 0.0153 - val_loss: 0.0155 - val_mean_squared_error: 0.0155\n",
      "Epoch 39/45\n",
      "15302/15302 [==============================] - 2s 100us/sample - loss: 0.0152 - mean_squared_error: 0.0152 - val_loss: 0.0155 - val_mean_squared_error: 0.0155\n",
      "Epoch 40/45\n",
      "15302/15302 [==============================] - 2s 98us/sample - loss: 0.0153 - mean_squared_error: 0.0153 - val_loss: 0.0156 - val_mean_squared_error: 0.0156\n",
      "Epoch 41/45\n",
      "15302/15302 [==============================] - 2s 101us/sample - loss: 0.0153 - mean_squared_error: 0.0153 - val_loss: 0.0154 - val_mean_squared_error: 0.0154\n",
      "Epoch 42/45\n",
      "15302/15302 [==============================] - 2s 103us/sample - loss: 0.0152 - mean_squared_error: 0.0152 - val_loss: 0.0154 - val_mean_squared_error: 0.0154\n",
      "Epoch 43/45\n",
      "15302/15302 [==============================] - 2s 99us/sample - loss: 0.0152 - mean_squared_error: 0.0152 - val_loss: 0.0156 - val_mean_squared_error: 0.0156\n",
      "Epoch 44/45\n",
      "15302/15302 [==============================] - 2s 107us/sample - loss: 0.0152 - mean_squared_error: 0.0152 - val_loss: 0.0160 - val_mean_squared_error: 0.0160\n",
      "Epoch 45/45\n",
      "15302/15302 [==============================] - 2s 103us/sample - loss: 0.0152 - mean_squared_error: 0.0152 - val_loss: 0.0156 - val_mean_squared_error: 0.0156\n"
     ]
    },
    {
     "data": {
      "text/plain": [
       "<tensorflow.python.keras.callbacks.History at 0x7fabe847b7d0>"
      ]
     },
     "execution_count": 192,
     "metadata": {},
     "output_type": "execute_result"
    }
   ],
   "source": [
    "model_r.fit(X_train_final_SS.values, y_train.values, batch_size=32, epochs=45, verbose=1, validation_split=0.2)"
   ]
  },
  {
   "cell_type": "code",
   "execution_count": 193,
   "metadata": {},
   "outputs": [],
   "source": [
    "X_test_num = X_test[numerical_cols]\n",
    "X_test_cat = X_test[categorical_cols]\n",
    "num_cols = sc.transform(X_test_num)\n",
    "X_test_com = pd.DataFrame(np.hstack([num_cols, X_test_cat.values]), columns=[numerical_cols+categorical_cols])\n"
   ]
  },
  {
   "cell_type": "code",
   "execution_count": 194,
   "metadata": {},
   "outputs": [],
   "source": [
    "preds = model_r.predict(X_test_com.values)"
   ]
  },
  {
   "cell_type": "code",
   "execution_count": 195,
   "metadata": {},
   "outputs": [],
   "source": [
    "res_df = pd.DataFrame({'preds':preds[:,0], 'tv':y_test.values[:,0]})\n"
   ]
  },
  {
   "cell_type": "code",
   "execution_count": 196,
   "metadata": {
    "scrolled": true
   },
   "outputs": [
    {
     "name": "stdout",
     "output_type": "stream",
     "text": [
      "\r",
      "4783/1 [==================================================================================================================================================================================================================================================================================================================================================================================================================================================================================================================================================================================================================================================================================================================================================================================================================================================================================================================================================================================================================================================================================================================================================================================================================================================================================================================================================================================================================================================================================================================================================================================================================================================================================================================================================================================================================================================================================================================================================================================================================================================================================================================================================================================================================================================================================================================================================================================================================================================================================================================================================================================================================================================================================================================================================================================================================================================================================================================================================================================================================================================================================================================================================================================================================================================================================================================================================================================================================================================================================================================================================================================================================================================================================================================================================================================================================================================================================================================================================================================================================================================================================================================================================================================================================================================================================================================================================================================================================================================================================================================================================================================================================================================================================================================================================================================================================================================================================================================================================================================================================================================================================================================================================================================================================================================================================================================================================================================================================================================================================================================================================================================================================================================================================================================================================================================================================================================================================================================================================================================================================================================================================================================================================================================================================================================================================================================================================================================================================================================================================================================================================================================================================================================================================================================================================================================================================================================================================================================================================================================================================================================================================================================================================================================================================================================================================================================================================================================================================================================================================================================================================================================================================================================================================================================================================================================================================================================================================================================================================================================================================================================================================================================================================================================================================================================================================================================================================================================================================================================================================================================================================================================================================================================================================================================================================================================================================================================================================================================================================================================================================================================================================================================================================================================================================================================================================================================================================================================================================================================================================================================================================================================================================================================================================================================================================================================================================================================================================================================================================================================================================================================================================================================================================================================================================================================================================================================================================================================================================================================================================================================================================================================================================================================================================================================================================================================================================================================================================================================================================================================================================================================================================================================================================================================================================================================================================================================================================================================================================================================================================================================================================================================================================================================================================================================================================================================================================================================================================================================================================================================================================================================================================================================================================================================================================================================================================================================================================================================================================================================================================================================================================================================================================================================================================================================================================================================================================================================================================================================================================================================================================================================================================================================================================================================================================================================================================================================================================================================================================================================================================================================================================================================================================================================================================================================================================================================================================================================================================================================================================================================================================================================================================================================================================================================================================================================================================================================================================================================================================================================================================================================================================================================================================================================================================================================================================================================================================================================================================================================================================================================================================================================================================================================================================================================================================================================================================================================================================================================================================================================================================================================================================================================================================================================================================================================================================================================================================================================================================================================================================================================================================================================================================================================================================================================================================================================================================================================================================================================================================================================================================================================================================================================================================================================================================================================================================================================================================================================================================================================================================================================================================================================================================================================================================================================================================================================================================================================================================================================================================================================================================================================================================================================================================================================================================================================================================================================================================================================================================================================================================================================================================================================================================================================================================================================================================================================================================================================================================================================================================================================================================================================================================================================================================================================================================================================================================================================================================================================================================================================================================================================================================================================================================================================================================================================================================================================================================================================================================================================================================================================================================================================================================================================================================================================================================================================================================================================================================================================================================================================================================================================================================================================================================================================================================================================================================================================================================================================================================================================================================================================================================================================================================================================================================================================================================================================================================================================================================================================================================================================================================================================================================================================================================================================================================================================================================================================================================================================================================================================================================================================================================================================================================================================================================================================================================================================================================================================================================================================================================================================================================================================================================================================================================================================================================================================================================================================================================================================================================================================================================================================================================================================================================================================================================================================================================================================================================================================================================================================================================================================================================================================================================================================================================================================================================================================================================================================================================================================================================================================================================================================================================================================================================================================================================================================================================================================================================================================================================================================================================================================================================================================================================================================================================================================================================================================================================================================================================================================================================================================================================================================================================================================================================================================================================================================================================================================================================================================================================================================================================================================================================================================================================================================================================================================================================================================================================================================================================================================================================================================================================================================================================================================================================================================================================================================================================================================================================================================================================================================================================================================================================================================================================================================================================================================================================================================================================================================================================================================================================================================================================================================================================================================================================================================================================================================================================================================================================================================================================================================================================================================================================================================================================================================================================================================================================================================================================================================================================================================================================================================================================================================================================================================================================================================================================================================================================================================================================================================================================================================================================================================================================================================================================================================================================================================================================================================================================================================================================================================================================================================================================================================================================================================================================================================================================================================================================================================================================================================================================================================================================================================================================================================================================================================================================================================================================================================================================================================================================================================================================================================================================================================================================================================================================================================================================================================================================================================================================================================================================================================================================================================================================================================================================================================================================================================================================================================================================================================================================================================================================================================================================================================================================================================================================================================================================================================================================================================================================================================================================================================================================================================================================================================================================================================================================================================================================================================================================================================================================================================================================================================================================================================================================================================================================================================================================================================================================================================================================================================================================================================================================================================================================================================================================================================================================================================================================================================================================================================================================================================================================================================================================================================================================================================================================================================================================================================================================================================================================================================================================================================================================================================================================================================================================================================================================================================================================================================================================================================================================================================================================================================================================================================================================================================================================================================================================================================================================================================================================================================================================================================================================================================================================================================================================================================================================================================================================================================================================================================================================================================================================================================================================================================================================================================================================================================================================================================================================================================================================================================================================================================================================================================================================================================================================================================================================================================================================================================================================================================================================================================================================================================================================================================================================================================================================================================================================================================================================================================================================================================================================================================================================================================================================================================================================================================================================================================================================================================================================================================================================================================================================================================================================================================================================================================================================================================================================================================================================================================================================================================================================================================================================================================================================================================================================================================================================================================================================================================================================================================================================================================================================================================================================================================================================================================================================================================================================================================================================================================================================================================================================================================================================================================================================================================================================================================================================================================================================================================================================================================================================================================================================================================================================================================================================================================================================================================================================================================================================================================================================================================================================================================================================================================================================================================================================================================================================================================================================================================================================================================================================================================================================================================================================================================================================================================================================================================================================================================================================================================================================================================================================================================================================================================================================================================================================================================================================================================================================================================================================================================================================================================================================================================================================================================================================================================================================================================================================================================================================================================================================================================================================================================================================================================================================================================================================================================================================================================================================================================================================================================================================================================================================================================================================================================================================================================================================================================================================================================================================================================================================================================================================================================================================================================================================================================================================================================================================================================================================================================================================================================================================================================================================================================================================================================================================================================================================================================================================================================================================================================================================================================================================================================================================================================================================================================================================================================================================================================================================================================================================================================================================================================================================================================================================================================================================================================================================================================================================================================================================================================================================================================================================================================================================================================================================================================================================================================================================================================================================================================================================================================================================================================================================================================================================================================================================================================================================================================================================================================================================================================================================================================================================================================================================================================================================================================================================================================================================================================================================================================================================================================================================================================================================================================================================================================================================================================================================================================================================================================================================================================================================================================================================================================================================================================================================================================================================================================================================================================================================================================================================================================================================================================================================================================================================================================================================================================================================================================================================================================================================================================================================================================================================================================================================================================================================================================================================================================================================================================================================================================================================================================================================================================================================================================================================================================================================================================================================================================================================================================================================================================================================================================================================================================================================================================================================================================================================================================================================================================================================================================================================================================================================================================================================================================================================================================================================================================================================================================================================================================================================================================================================================================================================================================================================================================================================================================================================================================================================================================================================================================================================================================================================================================================================================================================================================================================================================================================================================================================================================================================================================================================================================================================================================================================================================================================================================================================================================================================================================================================================================================================================================================================================================================================================================================================================================================================================================================================================================================================================================================================================================================================================================================================================================================================================================================================================================================================================================================================================================================================================================================================================================================================================================================================================================================================================================================================================================================================================================================================================================================================================================================================================================================================================================================================================================================================================================================================================================================================================================================================================================================================================================================================================================================================================================================================================================================================================================================================================================================================================================================================================================================================================================================================================================================================================================================================================================================================================================================================================================================================================================================================================================================================================================================================================================================================================================================================================================================================================================================================================================================================================================================================================================================================================================================================================================================================================================================================================================================================================================================================================================================================================================================================================================================================================================================================================================================================================================================================================================================================================================================================================================================================================================================================================================================================================================================================================================================================================================================================================================================================================================================================================================================================================================================================================================================================================================================================================================================================================================================================================================================================================================================================================================================================================================================================================================================================================================================================================================================================================================================================================================================================================================================================================================================================================================================================================================================================================================================================================================================================================================================================================================================================================================================================================================================================================================================================================================================================================================================================================================================================================================================================================================================================================================================================================================================================================================================================================================================================================================================================================================================================================================================================================================================================================================================================================================================================================================================================================================================================================================================================================================================================================================================================================================================================================================================================================================================================================================================================================================================================================================================================================================================================================================================================================================================================================================================================================================================================================================================================================================================================================================================================================================================================================================================================================================================================================================================================================================================================================================================================================================================================================================================================================================================================================================================================================================================================================================================================================================================================================================================================================================================================================================================================================================================================================================================================================================================================================================================================================================================================================================================================================================================================================================================================================================================================================================================================================================================================================================================================================================================================================================================================================================================================================================================================================================================================================================================================================================================================================================================================================================================================================================================================================================================================================================================================================================================================================================================================================================================================================================================================================================================================================================================================================================================================================================================================================================================================================================================================================================================================================================================================================================================================================================================================================================================================================================================================================================================================================================================================================================================================================================================================================================================================================================================================================================================================================================================================================================================================================================================================================================================================================================================================================================================================================================================================================================================================================================================================================================================================================================================================================================================================================================================================================================================================================================================================================================================================================================================================================================================================================================================================================================================================================================================================================================================================================================================================================================================================================================================================================================================================================================================================================================================================================================================================================================================================================================================================================================================================================================================================================================================================================================================================================================================================================================================================================================================================================================================================================================================================================================================================================================================================================================================================================================================================================================================================================================================================================================================================================================================================================================================================================================================================================================================================================================================================================================================================================================================================================================================================================================================================================================================================================================================================================================================================================================================================================================================================================================================================================================================================================================================================================================================================================================================================================================================================================================================================================================================================================================================================================================================================================================================================================================================================================================================================================================================================================================================================================================================================================================================================================================================================================================================================================================================================================================================================================================================================================================================================================================================================================================================================================================================================================================================================================================================================================================================================================================================================================================================================================================================================================================================================================================================================================================================================================================================================================================================================================================================================================================================================================================================================================================================================================================================================================================================================================================================================================================================================================================================================================================================================================================================================================================================================================================================================================================================================================================================================================================================================================================================================================================================================================================================================================================================================================================================================================================================================================================================================================================================================================================================================================================================================================================================================================================================================================================================================================================================================================================================================================================================================================================================================================================================================================================================================================================================================================================================================================================================================================================================================================================================================================================================================================================================================================================================================================================================================================================================================================================================================================================================================================================================================================================================================================================================================================================================================================================================================================================================================================================================================================================================================================================================================================================================================================================================================================================================================================================================================================================================================================================================================================================================================================================================================================================================================================================================================================================================================================================================================================================================================================================================================================================================================================================================================================================================================================================================================================================================================================================================================================================================================================================================================================================================================================================================================================================================================================================================================================================================================================================================================================================================================================================================================================================================================================================================================================================================================================================================================================================================================================================================================================================================================================================================================================================================================================================================================================================================================================================================================================================================================================================================================================================================================================================================================================================================================================================================================================================================================================================================================================================================================================================================================================================================================================================================================================================================================================================================================================================================================================================================================================================================================================================================================================================================================================================================================================================================================================================================================================================================================================================================================================================================================================================================================================================================================================================================================================================================================================================================================================================================================================================================================================================================================================================================================================================================================================================================================================================================================================================================================================================================================================================================================================================================================================================================================================================================================================================================================================================================================================================================================================================================================================================================================================================================================================================================================================================================================================================================================================================================================================================================================================================================================================================================================================================================================================================================================================================================================================================================================================================================================================================================================================================================================================================================================================================================================================================================================================================================================================================================================================================================================================================================================================================================================================================================================================================================================================================================================================================================================================================================================================================================================================================================================================================================================================================================================================================================================================================================================================================================================================================================================================================================================================================================================================================================================================================================================================================================================================================================================================================================================================================================================================================================================================================================================================================================================================================================================================================================================================================================================================================================================================================================================================================================================================================================================================================================================================================================================================================================================================================================================================================================================================================================================================================================================================================================================================================================================================================================================================================================================================================================================================================================================================================================================================================================================================================================================================================================================================================================================================================================================================================================================================================================================================================================================================================================================================================================================================================================================================================================================================================================================================================================================================================================================================================================================================================================================================================================================================================================================================================================================================================================================================================================================================================================================================================================================================================================================================================================================================================================================================================================================================================================================================================================================================================================================================================================================================================================================================================================================================================================================================================================================================================================================================================================================================================================================================================================================================================================================================================================================================================================================================================================================================================================================================================================================================================================================================================================================================================================================================================================================================================================================================================================================================================================================================================================================================================================================================================================================================================================================================================================================================================================================================================================================================================================================================================================================================================================================================================================================================================================================================================================================================================================================================================================================================================================================================================================================================================================================================================================================================================================================================================================================================================================================================================================================================================================================================================================================================================================================================================================================================================================================================================================================================================================================================================================================================================================================================================================================================================================================================================================================================================================================================================================================================================================================================================================================================================================================================================================================================================================================================================================================================================================================================================================================================================================================================================================================================================================================================================================================================================================================================================================================================================================================================================================================================================================================================================================================================================================================================================================================================================================================================================================================================================================================================================================================================================================================================================================================================================================================================================================================================================================================================================================================================================================================================================================================================================================================================================================================================================================================================================================================================================================================================================================================================================================================================================================================================================================================================================================================================================================================================================================================================================================================================================================================================================================================================================================================================================================================================================================================================================================================================================================================================================================================================================================================================================================================================================================================================================================================================================================================================================================================================================================================================================================================================================================================================================================================================================================================================================================================================================================================================================================================================================================================================================================================================================================================================================================================================================================================================================================================================================================================================================================================================================================================================================================================================================================================================================================================================================================================================================================================================================================================================================================================================================================================================================================================================================================================================================================================================================================================================================================================================================================================================================================================================================================================================================================================================================================================================================================================================================================================================================================================================================================================================================================================================================================================================================================================================================================================================================================================================================================================================================================================================================================================================================================================================================================================================================================================================================================================================================================================================================================================================================================================================================================================================================================================================================================================================================================================================================================================================================================================================================================================================================================================================================================================================================================================================================================================================================================================================================================================================================================================================================================================================================================================================================================================================================================================================================================================================================================================================================================================================================================================================================================================================================================================================================================================================================================================================================================================================================================================================================================================================================================================================================================================================================================================================================================================================================================================================================================================================================================================================================================================================================================================================================================================================================================================================================================================================================================================================================================================================================================================================================================================================================================================================================================================================================================================================================================================================================================================================================================================================================================================================================================================================================================================================================================================================================================================================================================================================================================================================================================================================================================================================================================================================================================================================================================================================================================================================================================================================================================================================================================================================================================================================================================================================================================================================================================================================================================================================================================================================================================================================================================================================================================================================================================================================================================================================================================================================================================================================================================================================================================================================================================================================================================================================================================================================================================================================================================================================================================================================================================================================================================================================================================================================================================================================================================================================================================================================================================================================================================================================================================================================================================================================================================================================================================================================================================================================================================================================================================================================================================================================================================================================================================================================================================================================================================================================================================================================================================================================================================================================================================================================================================================================================================================================================================================================================================================================================================================================================================================================================================================================================================================================================================================================================================================================================================================================================================================================================================================================================================================================================================================================================================================================================================================================================================================================================================================================================================================================================================================================================================================================================================================================================================================================================================================================================================================================================================================================================================================================================================================================================================================================================================================================================================================================================================================================================================================================================================================================================================================================================================================================================================================================================================================================================================================================================================================================================================================================================================================================================================================================================================================================================================================================================================================================================================================================================================================================================================================================================================================================================================================================================================================================================================================================================================================================================================================================================================================================================================================================================================================================================================================================================================================================================================================================================================================================================================================================================================================================================================================================================================================================================================================================================================================================================================================================================================================================================================================================================================================================================================================================================================================================================================================================================================================================================================================================================================================================================================================================================================================================================================================================================================================================================================================================================================================================================================================================================================================================================================================================================================================================================================================================================================================================================================================================================================================================================================================================================================================================================================================================================================================================================================================================================================================================================================================================================================================================================================================================================================================================================================================================================================================================================================================================================================================================================================================================================================================================================================================================================================================================================================================================================================================================================================================================================================================================================================================================================================================================================================================================================================================================================================================================================================================================================================================================================================================================================================================================================================================================================================================================================================================================================================================================================================================================================================================================================================================================================================================================================================================================================================================================================================================================================================================================================================================================================================================================================================================================================================================================================================================================================================================================================================================================================================================================================================================================================================================================================================================================================================================================================================================================================================================================================================================================================================================================================================================================================================================================================================================================================================================================================================================================================================================================================================================================================================================================================================================================================================================================================================================================================================================================================================================================================================================================================================================================================================================================================================================================================================================================================================================================================================================================================================================================================================================================================================================================================================================================================================================================================================================================================================================================================================================================================================================================================================================================================================================================================================================================================================================================================================================================================================================================================================================================================================================================================================================================================================================================================================================================================================================================================================================================================================================================================================================================================================================================================================================================================================================================================================================================================================================================================================================================================================================================================================================================================================================================================================================================================================================================================================================================================================================================================================================================================================================================================================================================================================================================================================================================================================================================================================================================================================================================================================================================================================================================================================================================================================================================================================================================================================================================================================================================================================================================================================================================================================================================================================================================================================================================================================================================================================================================================================================================================================================================================================================================================================================================================================================================================================================================================================================================================================================================================================================================================================================================================================================================================================================================================================================================================================================================================================================================================================================================================================================================================================================================================================================================================================================================================================================================================================================================================================================================================================================================================================================================================================================================================================================================================================================================================================================================================================================================================================================================================================================================================================================================================================================================================================================================================================================================================================================================================================================================================================================================================================================================================================================================================================================================================================================================================================================================================================================================================================================================================================================================================================================================================================================================================================================================================================================================================================================================================================================================================================================================================================================================================================================================================================================================================================================================================================================================================================================================================================================================================================================================================================================================================================================================================================================================================================================================================================================================================================================================================================================================================================================================================================================================================================================================================================================================================================================================================================================================================================================================================================================================================================================================================================================================================================================================================================================================================================================================================================================================================================================================================================================================================================================================================================================================================================================================================================================================================================================================================================================================================================================================================================================================================================================================================================================================================================================================================================================================================================================================================================================================================================================================================================================================================================================================================================================================================================================================================================================================================================================================================================================================================================================================================================================================================================================================================================================================================================================================================================================================================================================================================================================================================================================================================================================================================================================================================================================================================================================================================================================================================================================================================================================================================================================================================================================================================================================================================================================================================================================================================================================================================================================================================================================================================================================================================================================================================================================================================================================================================================================================================================================================================================================================================================================================================================================================================================================================================================================================================================================================================================================================================================================================================================================================================================================================================================================================================================================================================================================================================================================================================================================================================================================================================================================================================================================================================================================================================================================================================================================================================================================================================================================================================================================================================================================================================================================================================================================================================================================================================================================================================================================================================================================================================================================================================================================================================================================================================================================================================================================================================================================================================================================================================================================================================================================================================================================================================================================================================================================================================================================================================================================================================================================================================================================================================================================================================================================================================================================================================================================================================================================================================================================================================================================================================================================================================================================================================================================================================================================================================================================================================================================================================================================================================================================================================================================================================================================================================================================================================================================================================================================================================================================================================================================================================================================================================================================================================================================================================================================================================================================================================================================================================================================================================================================================================================================================================================================================================================================================================================================================================================================================================================================================================================================================================================================================================================================================================================================================================================================================================================================================================================================================================================================================================================================================================================================================================================================================================================================================================================================================================================================================================================================================================================================================================================================================================================================================================================================================================================================================================================================================================================================================================================================================================================================================================================================================================================================================================================================================================================================================================================================================================================================================================================================================================================================================================================================================================================================================================================================================================================================================================================================================================================================================================================================================================================================================================================================================================================================================================================================================================================================================================================================================================================================================================================================================================================================================================================================================================================================================================================================================================================================================================================================================================================================================================================================================================================================================================================================================================================================================================================================================================================================================================================================================================================================================================================================================================================================================================================================================================================================================================================================================================================================================================================================================================================================================================================================================================================================================================================================================================================================================================================================================================================================================================================================================================================================================================================================================================================================================================================================================================================================================================================================================================================================================================================================================================================================================================================================================================================================================================================================================================================================================================================================================================================================================================================================================================================================================================================================================================================================================================================================================================================================================================================================================================================================================================================================================================================================================================================================================================================================================================================================================================================================================================================================================================================================================================================================================================================================================================================================================================================================================================================================================================================================================================================================================================================================================================================================================================================================================================================================================================================================================================================================================================================================================================================================================================================================================================================================================================================================================================================================================================================================================================================================================================================================================================================================================================================================================================================================================================================================================================================================================================================================================================================================================================================================================================================================================================================================================================================================================================================================================================================================================================================================================================================================================================================================================================================================================================================================================================================================================================================================================================================================================================================================================================================================================================================================================================================================================================================================================================================================================================================================================================================================================================================================================================================================================================================================================================================================================================================================================================================================================================================================================================================================================================================================================================================================================================================================================================================================================================================================================================================================================================================================================================================================================================================================================================================================================================================================================================================================================================================================================================================================================================================================================================================================================================================================================================================================================================================================================================================================================================================================================================================================================================================================================================================================================================================================================================================================================================================================================================================================================================================================================================================================================================================================================================================================================================================================================================================================================================================================================================================================================================================================================================================================================================================================================================================================================================================================================================================================================================================================================================================================================================================================================================================================] - 0s 29us/sample - loss: 0.0124 - mean_squared_error: 0.0154\n"
     ]
    },
    {
     "data": {
      "text/plain": [
       "[0.01535291170119965, 0.0153529085]"
      ]
     },
     "execution_count": 196,
     "metadata": {},
     "output_type": "execute_result"
    }
   ],
   "source": [
    "model_r.evaluate(X_test_com.values, y_test.values)"
   ]
  },
  {
   "cell_type": "code",
   "execution_count": 200,
   "metadata": {},
   "outputs": [],
   "source": [
    "preds = model_r.predict(X_test_com.values)"
   ]
  },
  {
   "cell_type": "code",
   "execution_count": 202,
   "metadata": {},
   "outputs": [],
   "source": [
    "imgs = pd.read_csv('/home/iamtheuserofthis/Videos/data-1611741902097.csv')"
   ]
  },
  {
   "cell_type": "code",
   "execution_count": null,
   "metadata": {},
   "outputs": [],
   "source": []
  }
 ],
 "metadata": {
  "kernelspec": {
   "display_name": "tensorflow_dev",
   "language": "python",
   "name": "tf_dev"
  },
  "language_info": {
   "codemirror_mode": {
    "name": "ipython",
    "version": 3
   },
   "file_extension": ".py",
   "mimetype": "text/x-python",
   "name": "python",
   "nbconvert_exporter": "python",
   "pygments_lexer": "ipython3",
   "version": "3.7.7"
  },
  "varInspector": {
   "cols": {
    "lenName": 16,
    "lenType": 16,
    "lenVar": 40
   },
   "kernels_config": {
    "python": {
     "delete_cmd_postfix": "",
     "delete_cmd_prefix": "del ",
     "library": "var_list.py",
     "varRefreshCmd": "print(var_dic_list())"
    },
    "r": {
     "delete_cmd_postfix": ") ",
     "delete_cmd_prefix": "rm(",
     "library": "var_list.r",
     "varRefreshCmd": "cat(var_dic_list()) "
    }
   },
   "types_to_exclude": [
    "module",
    "function",
    "builtin_function_or_method",
    "instance",
    "_Feature"
   ],
   "window_display": false
  }
 },
 "nbformat": 4,
 "nbformat_minor": 2
}
