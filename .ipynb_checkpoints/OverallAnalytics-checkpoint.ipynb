{
 "cells": [
  {
   "cell_type": "code",
   "execution_count": 25,
   "metadata": {},
   "outputs": [],
   "source": [
    "DBNAMES_STAR = ['starphase1', 'starphase2', 'starphase3', 'starphase4','starphase5']\n",
    "DBNAMES_AFCAT= ['afcat1', 'afcat2_2','afcat3','afcatphase4','afcatphase5']\n",
    "import sqlalchemy\n",
    "from sqlalchemy import engine, text, create_engine\n",
    "import urllib"
   ]
  },
  {
   "cell_type": "code",
   "execution_count": 26,
   "metadata": {},
   "outputs": [],
   "source": [
    "def get_engine(username, password, db_name):\n",
    "    user_name = urllib.parse.quote_plus(username)\n",
    "    passwd = urllib.parse.quote_plus(password)\n",
    "    url_string = 'postgresql://%s:%s@%s:%s/%s' % (user_name, passwd, 'localhost', 5432, db_name)\n",
    "    return create_engine(url_string)"
   ]
  },
  {
   "cell_type": "code",
   "execution_count": 30,
   "metadata": {},
   "outputs": [],
   "source": [
    "star_gen_count_query = \"SELECT count(*) FROM applicant_credential WHERE is_rejected=False AND registration_status_id>=15\"\n",
    "\n",
    "afcat_gen_count_query = \"SELECT COUNT(*) FROM afcat_personal_details WHERE signup_status_id>=14 AND exam_category_id=1  AND (isrejected IS NULL OR isrejected=False)\""
   ]
  },
  {
   "cell_type": "code",
   "execution_count": 39,
   "metadata": {},
   "outputs": [
    {
     "name": "stdout",
     "output_type": "stream",
     "text": [
      "starphase1 409169\n",
      "starphase2 520604\n",
      "starphase3 451691\n",
      "starphase4 573638\n",
      "starphase5 443151\n"
     ]
    }
   ],
   "source": [
    "star_total = 0\n",
    "for dbname, query in map(lambda x:(x,star_gen_count_query), DBNAMES_STAR):\n",
    "    engine = get_engine('scala_user','scala_user', dbname)\n",
    "    result = engine.execute(text(query))\n",
    "    print(dbname,[row[0] for row in result][0])\n",
    "    star_total+=[row[0] for row in result][0]\n",
    "print('total star=%s' % total)"
   ]
  },
  {
   "cell_type": "code",
   "execution_count": 40,
   "metadata": {},
   "outputs": [
    {
     "name": "stdout",
     "output_type": "stream",
     "text": [
      "afcat1 139940\n",
      "afcat2_2 129504\n",
      "afcat3 131103\n",
      "afcatphase4 110170\n",
      "afcatphase5 115282\n"
     ]
    }
   ],
   "source": [
    "total_af = 0\n",
    "for dbname, query in map(lambda x:(x,afcat_gen_count_query), DBNAMES_AFCAT):\n",
    "    engine = get_engine('scala_user','scala_user', dbname)\n",
    "    result = engine.execute(text(query))\n",
    "    print(dbname,[row[0] for row in result][0])\n",
    "    total_af+=[row[0] for row in result][0]\n",
    "print('total AFCAT =%s' % total_af)\n",
    "    "
   ]
  },
  {
   "cell_type": "code",
   "execution_count": null,
   "metadata": {},
   "outputs": [],
   "source": []
  }
 ],
 "metadata": {
  "kernelspec": {
   "display_name": "spac_data_ops",
   "language": "python",
   "name": "spac_data_ops"
  },
  "language_info": {
   "codemirror_mode": {
    "name": "ipython",
    "version": 3
   },
   "file_extension": ".py",
   "mimetype": "text/x-python",
   "name": "python",
   "nbconvert_exporter": "python",
   "pygments_lexer": "ipython3",
   "version": "3.7.3"
  },
  "varInspector": {
   "cols": {
    "lenName": 16,
    "lenType": 16,
    "lenVar": 40
   },
   "kernels_config": {
    "python": {
     "delete_cmd_postfix": "",
     "delete_cmd_prefix": "del ",
     "library": "var_list.py",
     "varRefreshCmd": "print(var_dic_list())"
    },
    "r": {
     "delete_cmd_postfix": ") ",
     "delete_cmd_prefix": "rm(",
     "library": "var_list.r",
     "varRefreshCmd": "cat(var_dic_list()) "
    }
   },
   "types_to_exclude": [
    "module",
    "function",
    "builtin_function_or_method",
    "instance",
    "_Feature"
   ],
   "window_display": false
  }
 },
 "nbformat": 4,
 "nbformat_minor": 2
}
