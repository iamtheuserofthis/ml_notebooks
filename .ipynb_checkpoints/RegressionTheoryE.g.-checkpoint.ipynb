{
 "cells": [
  {
   "cell_type": "markdown",
   "metadata": {},
   "source": [
    "### Linear Regression\n",
    "\n",
    "The linear regression is the simplest regression with a linear equation of type\n",
    "\n",
    "$\\hat{y} = \\theta_{0}+\\theta_{1}x_{1}+\\theta_{2}x_{2}..++\\theta_{n}x_{n}$\n",
    "\n",
    "here,\n",
    "\n",
    "$\\theta_{i} :$ model parameter\n",
    "\n",
    "$n  :$ number of features\n",
    "\n",
    "$x_{i} :$ is the ith feature value\n",
    "\n",
    "Which is essentially a weighted sum of inputs and a bias value i.e. $\\theta_{0}$\n",
    "\n",
    "In the matrix form:\n",
    "\n",
    "$\\hat{y}= h_{\\theta}\\cdot(x)$\n",
    "\n",
    "$\\theta:$ model's parameter vector, $x$: feature vector, $h_{\\theta}$: hypothesis function using $\\theta$\n",
    "\n",
    "Using the optimization or cost function:\n",
    "\n",
    "$MSE(X,h_{\\theta}) = \\frac{1}{m} \\sum_{i=1}^{m} \\big(\\theta^{T}x^{(i)} - y^{i}\\big) ^{2}$\n",
    "\n",
    "### The Normal Equation\n",
    "To find the value of $\\theta$ that minimizes the cost function:\n",
    "$\\hat{\\theta}= (X^{T}X)^{-1} X^{T}y$"
   ]
  },
  {
   "cell_type": "code",
   "execution_count": 3,
   "metadata": {},
   "outputs": [],
   "source": [
    "import numpy as np\n",
    "import matplotlib.pyplot as plt\n",
    "import pandas as pd\n",
    "\n",
    "X = 2 * np.random.rand(100,1)\n",
    "y = 4 + 3*X +np.random.rand(100,1)"
   ]
  },
  {
   "cell_type": "code",
   "execution_count": 4,
   "metadata": {},
   "outputs": [
    {
     "name": "stdout",
     "output_type": "stream",
     "text": [
      "[[4.46613583]\n",
      " [3.03406529]]\n"
     ]
    }
   ],
   "source": [
    "X_b = np.c_[np.ones((100,1)),X]\n",
    "theta_best = np.linalg.inv(X_b.T.dot(X_b)).dot(X_b.T).dot(y)\n",
    "print(theta_best)"
   ]
  },
  {
   "cell_type": "code",
   "execution_count": 5,
   "metadata": {},
   "outputs": [],
   "source": [
    "X_new = np.array([[0],[2]])\n",
    "X_new_b = np.c_[np.ones((2,1)), X_new]"
   ]
  },
  {
   "cell_type": "code",
   "execution_count": 6,
   "metadata": {},
   "outputs": [
    {
     "data": {
      "image/png": "[encoded data removed]",
      "text/plain": [
       "<Figure size 432x288 with 1 Axes>"
      ]
     },
     "metadata": {
      "needs_background": "light"
     },
     "output_type": "display_data"
    }
   ],
   "source": [
    "pred_Xs = X_new_b.dot(theta_best)\n",
    "\n",
    "plt.plot(X_new, pred_Xs, 'r--')\n",
    "plt.plot(X,y, 'g.')\n",
    "plt.show()"
   ]
  },
  {
   "cell_type": "code",
   "execution_count": 7,
   "metadata": {},
   "outputs": [
    {
     "data": {
      "text/plain": [
       "LinearRegression()"
      ]
     },
     "execution_count": 7,
     "metadata": {},
     "output_type": "execute_result"
    }
   ],
   "source": [
    "from sklearn.linear_model import LinearRegression\n",
    "lin_reg = LinearRegression()\n",
    "lin_reg.fit(X,y)"
   ]
  },
  {
   "cell_type": "code",
   "execution_count": 8,
   "metadata": {},
   "outputs": [
    {
     "name": "stdout",
     "output_type": "stream",
     "text": [
      "coef:[[3.03406529]], intercept:[4.46613583]\n"
     ]
    }
   ],
   "source": [
    "print('coef:%s, intercept:%s' % (lin_reg.coef_,lin_reg.intercept_))"
   ]
  },
  {
   "cell_type": "markdown",
   "metadata": {},
   "source": [
    "## Inverse\n",
    "It is not always possible to calculate the conventional inverse of a matrix. \n",
    "Invertible matrix:\n",
    "$$AB = BA = I$$\n",
    "Then B is called the invertible matrix, where I is the identity matrix.\n",
    "Commonly denoted as $A^{-1}$\n",
    "\n",
    "* If there exists an inverse of a square matrix, it is always unique.\n",
    "\n",
    "* If A and B are matrices of the same order and are invertible, then \n",
    "$(AB)^{-1} = B^{-1} A^{-1}$\n",
    "\n",
    "Conventional Inverse only exists for a square matrix\n",
    "\n",
    "### Pseudo Inverse \n",
    "\n",
    "A pseudoinverse is a matrix inverse-like object that may be defined for a complex matrix, even if it is not necessarily square. For any given complex matrix, it is possible to define many possible pseudoinverses. The most commonly encountered pseudoinverse is the Moore-Penrose matrix inverse, which is a special case of a general type of pseudoinverse known as a matrix 1-inverse. \n",
    "\n",
    "_the sklearn's linear regression uses the pseudo inverse too_\n",
    "\n",
    "### Characterstics\n",
    "let $A \\in \\mathbb{R}_{r}^{m * n}$. Then every $A \\in \\mathbb{R}_{r}^{m * n}$ has a pseudoinverse donated by\n",
    "$A^{+} \\in \\mathbb{R}^{n*m}_{r}$ which is unique\n",
    "\n",
    "$G=A^{+}$ if and only if:\n",
    "1. $AGA = A$\n",
    "2. $GAG = G$\n",
    "3. $(AG)^{T} = AG$\n",
    "4. $(GA)^{T} = GA$\n",
    "\n",
    "Definitions in terms of limits\n",
    "$$A^{+}  = \\lim_{\\delta \\to 0} (A^{T}A+ \\delta^{2}I)^{-1}A^{T}$$\n",
    "\n"
   ]
  },
  {
   "cell_type": "code",
   "execution_count": 9,
   "metadata": {},
   "outputs": [
    {
     "data": {
      "text/plain": [
       "LinearRegression()"
      ]
     },
     "execution_count": 9,
     "metadata": {},
     "output_type": "execute_result"
    }
   ],
   "source": [
    "from sklearn.linear_model import LinearRegression\n",
    "lin_reg = LinearRegression()\n",
    "lin_reg.fit(X,y)"
   ]
  },
  {
   "cell_type": "code",
   "execution_count": 10,
   "metadata": {},
   "outputs": [
    {
     "name": "stdout",
     "output_type": "stream",
     "text": [
      "[4.46613583] [[3.03406529]]\n",
      "[[0]\n",
      " [2]]\n",
      "[[6.55389342]]\n"
     ]
    }
   ],
   "source": [
    "print(lin_reg.intercept_, lin_reg.coef_)\n",
    "print(X_new)\n",
    "lin_reg.predict(X_new)\n",
    "\n",
    "# the LinearRegression class is based on the following\n",
    "theta_best_svd, residuals, rank, s = np.linalg.lstsq(X, y , rcond=1e-6)\n",
    "print(theta_best_svd)\n"
   ]
  },
  {
   "cell_type": "markdown",
   "metadata": {},
   "source": [
    "Theta best svd is calculated as per the following equation\n",
    "$$\\hat{\\theta} = X^{+}y$$\n",
    "Where $X^{+}$ is pueudoinverse of X\n",
    "\n",
    "The pseudoinverse itself is computed using a standard matrix factorization technique\n",
    "called Singular Value Decomposition (SVD) that can decompose the training set\n",
    "matrix X into the matrix multiplication of three matrices\n",
    "\n",
    "$X^{+} = V \\sum^{+}U^{T}$\n",
    "\n",
    "To compute\n",
    "the matrix Σ+ , the algorithm takes Σ and sets to zero all values smaller than a tiny\n",
    "threshold value, then it replaces all the non-zero values with their inverse, and finally\n",
    "it transposes the resulting matrix"
   ]
  },
  {
   "cell_type": "markdown",
   "metadata": {},
   "source": [
    "## GRADIENT DESCENT\n",
    "\n",
    "Gradient Descent is a very generic optimization algorithm capable of finding optimal\n",
    "solutions to a wide range of problems. The general idea of Gradient Descent is to\n",
    "tweak parameters iteratively in order to minimize a cost function.\n",
    "\n",
    "It measures the local gradient of the error function with regards to the\n",
    "parameter vector θ, and it goes in the direction of descending gradient. Once the gra‐\n",
    "dient is zero, minima is reached\n",
    "\n",
    "An important parameter in Gradient Descent is the size of the steps, determined by\n",
    "the learning rate hyperparameter.\n",
    "\n",
    "### GRADIENT DESCENT PITFALLS\n",
    "1. Plateau(ing)\n",
    "2. Local Minima\n",
    "\n",
    "__Convex Function__: \n",
    "$f : \\mathbb{R} \\rightarrow \\mathbb{R}$ is convex if \n",
    "\n",
    "for all $a,b, f(k a + (1-k)b) \\leq k f(a) + (1-k) f(b)$\n",
    "\n",
    "where  $0\\leq k \\leq 1$\n",
    "\n",
    "e.g. figure\n",
    "\n",
    "<img src=\"notes_images/convex-function.png\" height=250 width=250>\n",
    "\n",
    "Fortunately, the MSE cost function for a Linear Regression model happens to be a\n",
    "convex function, which means that if you pick any two points on the curve, the line\n",
    "segment joining them never crosses the curve. This implies that **there are no local\n",
    "minima, just one global minimum.**\n",
    "**It is also a continuous function.**\n",
    "\n",
    "When using Gradient Descent, you should ensure that all features\n",
    "have a similar scale , or else it will take much longer to converge.\n",
    "\n",
    "### BATCH GRADIENT DESCENT\n",
    "To implement Gradient Descent, you need to compute the gradient of the cost func‐\n",
    "tion with regards to each model parameter $\\theta_{j}$. To find this figure we calculate the partial derivative of cost function with regards to the parameter $\\theta_{j}$\n",
    "\n",
    "$$\\frac{\\partial}{\\partial\\theta_{j}} MSE(\\theta)= \\frac{2}{m} \\sum_{i=1}^{m}\\bigg(\\theta^{T}x^{(i)}-y^{(i)}\\bigg)x_{j}^{i}$$\n",
    "\n",
    "To do it individually it can also be vectorized for faster computation\n",
    "\n",
    "$$\\Delta_{\\theta}MSE(\\theta) = \\left[ {\\begin{array}{c}\n",
    "    \\frac{\\partial}{\\partial\\theta_{0}} MSE(\\theta)\\\\\n",
    "    \\frac{\\partial}{\\partial\\theta_{1}} MSE(\\theta)\\\\\n",
    "    .\\\\\n",
    "    .\\\\    \n",
    "    \\frac{\\partial}{\\partial\\theta_{n}} MSE(\\theta)\\\\\n",
    " \\end{array} } \\right] = \\frac{2}{m}X^{T}(X\\theta-y)\n",
    "$$\n",
    "\n",
    "The gradient points uphill so going on in the opposite directon is considered as desending down towards the bottom. Thus we subtract $\\Delta_{\\theta} MSE(\\theta)$ from the parameters $\\theta$ to obtain minima\n",
    "\n",
    "$$\\theta^{(next step)} = \\theta - \\eta \\Delta_{\\theta} MSE(\\theta)$$\n",
    "\n",
    "These are for $n$ features and $m$ samples"
   ]
  },
  {
   "cell_type": "markdown",
   "metadata": {},
   "source": [
    "## Stochastic Gradient Descent\n",
    "\n",
    "The main problem with Batch Gradient Descent is the fact that it uses the whole training set to compute the gradients at every step, which makes it very slow when the training set is large. At the opposite extreme, Stochastic Gradient Descent just picks a random instance in the training set at every step and computes the gradients based only on that single instance. Obviously this makes the algorithm much faster since it has very little data to manipulate at every iteration.\n",
    "\n",
    "Due to its stochastic (i.e., random) nature, this algorithm is much less regular than Batch Gradient Descent: instead of gently decreasing until it reaches the minimum, the cost function will bounce up and down, decreasing only on average. Over time it will end up very close to the minimum, but once it gets there it will continue to bounce around, never settling down.\n",
    "\n",
    "So once the algorithm stops, the final parameter values are good, but not optimal.\n",
    "<img src=\"notes_images/sgd_process.png\" height=250 width=250>\n",
    "\n",
    "Since instances are picked randomly, some instances may be picked several times per epoch while others may not be picked at all. If you want to be sure that the algorithm goes through every instance at each epoch, another approach is to shuffle the training set (making sure to shuffle the input features and the labels jointly), then\n",
    "go through it instance by instance, then shuffle it again, and so on. However, this generally converges more slowly.\n",
    "\n",
    "The function that determines the learning rate at each iteration is called the learning schedule.\n",
    "\n",
    "When using Stochastic Gradient Descent, the training instances must be independent and identically distributed (IID), to ensure that the parameters get pulled towards the global optimum, on average.\n",
    "\n",
    "\n",
    "## Mini-batch Gradient Descent\n",
    "\n",
    "Minibatch GD computes the gradients on small random sets of instances called minibatches. The main advantage of Mini-batch GD over Stochastic GD is that you can get a performance boost from hardware optimization of matrix operations, especially when using GPUs.\n",
    "\n",
    "The algorithm’s progress in parameter space is less erratic than with SGD, especially with fairly large minibatches. As a result, Mini-batch GD will end up walking around a bit closer to the minimum than SGD.\n",
    "\n",
    "Mini-batch GD will end up walking around a bit closer to the minimum than SGD. But, on the other hand, it may be\n",
    "harder for it to escape from local minima. \n"
   ]
  },
  {
   "cell_type": "markdown",
   "metadata": {},
   "source": [
    "## PLOLYNOMIAL REGRESSION\n"
   ]
  },
  {
   "cell_type": "code",
   "execution_count": 11,
   "metadata": {},
   "outputs": [],
   "source": [
    "m =100\n",
    "X = 6 * np.random.rand(m,1)-3\n",
    "y = 0.5* X**2 + X + 2 + np.random.randn(m,1)"
   ]
  },
  {
   "cell_type": "code",
   "execution_count": 12,
   "metadata": {},
   "outputs": [
    {
     "data": {
      "image/png": "[encoded data removed]",
      "text/plain": [
       "<Figure size 432x288 with 1 Axes>"
      ]
     },
     "metadata": {
      "needs_background": "light"
     },
     "output_type": "display_data"
    }
   ],
   "source": [
    "plt.scatter(X,y)\n",
    "plt.title('X,Y Quad')\n",
    "plt.xlabel('X')\n",
    "plt.ylabel('y')\n",
    "plt.show()"
   ]
  },
  {
   "cell_type": "code",
   "execution_count": 13,
   "metadata": {},
   "outputs": [
    {
     "data": {
      "text/html": [
       "<div>\n",
       "<style scoped>\n",
       "    .dataframe tbody tr th:only-of-type {\n",
       "        vertical-align: middle;\n",
       "    }\n",
       "\n",
       "    .dataframe tbody tr th {\n",
       "        vertical-align: top;\n",
       "    }\n",
       "\n",
       "    .dataframe thead th {\n",
       "        text-align: right;\n",
       "    }\n",
       "</style>\n",
       "<table border=\"1\" class=\"dataframe\">\n",
       "  <thead>\n",
       "    <tr style=\"text-align: right;\">\n",
       "      <th></th>\n",
       "      <th>x</th>\n",
       "      <th>y</th>\n",
       "      <th>z</th>\n",
       "    </tr>\n",
       "  </thead>\n",
       "  <tbody>\n",
       "    <tr>\n",
       "      <th>0</th>\n",
       "      <td>-1.218608</td>\n",
       "      <td>-1.218608</td>\n",
       "      <td>1.485006</td>\n",
       "    </tr>\n",
       "    <tr>\n",
       "      <th>1</th>\n",
       "      <td>-0.244144</td>\n",
       "      <td>-0.244144</td>\n",
       "      <td>0.059606</td>\n",
       "    </tr>\n",
       "    <tr>\n",
       "      <th>2</th>\n",
       "      <td>-1.296245</td>\n",
       "      <td>-1.296245</td>\n",
       "      <td>1.680252</td>\n",
       "    </tr>\n",
       "    <tr>\n",
       "      <th>3</th>\n",
       "      <td>-1.607974</td>\n",
       "      <td>-1.607974</td>\n",
       "      <td>2.585580</td>\n",
       "    </tr>\n",
       "    <tr>\n",
       "      <th>4</th>\n",
       "      <td>1.572560</td>\n",
       "      <td>1.572560</td>\n",
       "      <td>2.472946</td>\n",
       "    </tr>\n",
       "    <tr>\n",
       "      <th>...</th>\n",
       "      <td>...</td>\n",
       "      <td>...</td>\n",
       "      <td>...</td>\n",
       "    </tr>\n",
       "    <tr>\n",
       "      <th>95</th>\n",
       "      <td>-2.762192</td>\n",
       "      <td>-2.762192</td>\n",
       "      <td>7.629705</td>\n",
       "    </tr>\n",
       "    <tr>\n",
       "      <th>96</th>\n",
       "      <td>-1.333682</td>\n",
       "      <td>-1.333682</td>\n",
       "      <td>1.778708</td>\n",
       "    </tr>\n",
       "    <tr>\n",
       "      <th>97</th>\n",
       "      <td>-2.686964</td>\n",
       "      <td>-2.686964</td>\n",
       "      <td>7.219774</td>\n",
       "    </tr>\n",
       "    <tr>\n",
       "      <th>98</th>\n",
       "      <td>0.552611</td>\n",
       "      <td>0.552611</td>\n",
       "      <td>0.305379</td>\n",
       "    </tr>\n",
       "    <tr>\n",
       "      <th>99</th>\n",
       "      <td>-2.591920</td>\n",
       "      <td>-2.591920</td>\n",
       "      <td>6.718050</td>\n",
       "    </tr>\n",
       "  </tbody>\n",
       "</table>\n",
       "<p>100 rows × 3 columns</p>\n",
       "</div>"
      ],
      "text/plain": [
       "           x         y         z\n",
       "0  -1.218608 -1.218608  1.485006\n",
       "1  -0.244144 -0.244144  0.059606\n",
       "2  -1.296245 -1.296245  1.680252\n",
       "3  -1.607974 -1.607974  2.585580\n",
       "4   1.572560  1.572560  2.472946\n",
       "..       ...       ...       ...\n",
       "95 -2.762192 -2.762192  7.629705\n",
       "96 -1.333682 -1.333682  1.778708\n",
       "97 -2.686964 -2.686964  7.219774\n",
       "98  0.552611  0.552611  0.305379\n",
       "99 -2.591920 -2.591920  6.718050\n",
       "\n",
       "[100 rows x 3 columns]"
      ]
     },
     "execution_count": 13,
     "metadata": {},
     "output_type": "execute_result"
    }
   ],
   "source": [
    "from sklearn.preprocessing import PolynomialFeatures\n",
    "from sklearn.linear_model import LinearRegression\n",
    "# the following step creates the feature as x => [x,x^2]\n",
    "poly_features = PolynomialFeatures(degree=2, include_bias=False)\n",
    "X_poly  = poly_features.fit_transform(X)\n",
    "\n",
    "\n",
    "pd.DataFrame({'x':X[:,0], 'y':X_poly[:,0],'z': X_poly[:,1]})"
   ]
  },
  {
   "cell_type": "code",
   "execution_count": 14,
   "metadata": {},
   "outputs": [
    {
     "name": "stdout",
     "output_type": "stream",
     "text": [
      "[1.91927327] [[1.10361548 0.52106371]]\n"
     ]
    }
   ],
   "source": [
    "lin_reg = LinearRegression()\n",
    "lin_reg.fit(X_poly,y)\n",
    "print(lin_reg.intercept_, lin_reg.coef_)"
   ]
  },
  {
   "cell_type": "code",
   "execution_count": 15,
   "metadata": {},
   "outputs": [
    {
     "data": {
      "image/png": "[encoded data removed]",
      "text/plain": [
       "<Figure size 432x288 with 1 Axes>"
      ]
     },
     "metadata": {
      "needs_background": "light"
     },
     "output_type": "display_data"
    }
   ],
   "source": [
    "X_new = np.linspace(-3, 3, 100).reshape(100,1)\n",
    "X_new_plot = poly_features.transform(X_new)\n",
    "y_new = lin_reg.predict(X_new_plot)\n",
    "plt.plot(X,y, \"b.\")\n",
    "plt.plot(X_new, y_new, \"r-\", label=\"Predictions\")\n",
    "plt.title('X,Y Quad')\n",
    "plt.xlabel('X')\n",
    "plt.ylabel('y')\n",
    "plt.show()"
   ]
  },
  {
   "cell_type": "markdown",
   "metadata": {},
   "source": [
    "### Treating Polynomial Features\n",
    "\n",
    "When there are multiple features, Polynomial Regression is capable of finding relationships between features which is something a plain Linear Regression model cannot do). This is made possible by the fact that PolynomialFeatures also adds all combinations of features up to the given degree. For example, if there were two features a and b, PolynomialFeatures with degree=3 would not only add the features a2 , a3 , b2 , and b3 , but also the combinations ab, a 2 b, and ab 2.\n",
    "\n",
    "Increasing the degree of polynomial will surely fit the training data well but not with the test data. It result as the following type of fitting.\n",
    "<img src=\"notes_images/high_degree_reg.png\" height=250 width=250>"
   ]
  },
  {
   "cell_type": "code",
   "execution_count": 16,
   "metadata": {},
   "outputs": [],
   "source": [
    "# training and learning from the model in a continuous manner\n",
    "from sklearn.metrics import mean_squared_error\n",
    "from sklearn.model_selection import train_test_split\n",
    "\n",
    "def plot_learning_curve(model, X, y):\n",
    "    X_train, X_val, y_train, y_val = train_test_split(X, y, test_size=0.2)\n",
    "    train_errors, val_errors = [],[]\n",
    "    for m in range(1, len(X_train)):\n",
    "        model.fit(X_train[:m], y_train[:m])\n",
    "        y_train_predict = model.predict(X_train[:m])\n",
    "        y_val_predict = model.predict(X_val)\n",
    "        train_errors.append(mean_squared_error(y_train[:m], y_train_predict))\n",
    "        val_errors.append(mean_squared_error(y_val,y_val_predict))\n",
    "    print('validation errors:', val_errors)\n",
    "    plt.plot(np.sqrt(train_errors), 'r+-', linewidth=2, label=\"train\")\n",
    "    plt.plot(np.sqrt(val_errors), 'b-', linewidth=2, label=\"validation\")\n",
    "    plt.show()"
   ]
  },
  {
   "cell_type": "markdown",
   "metadata": {},
   "source": [
    "### Debugging for overfitting/underfitting\n",
    "\n",
    "`By looking at the results`\n",
    "1. Overfitting: If a model performs well on the training data but generalizes poorly according to the cross-validation metrics, then your model is overfitting.\n",
    "2. Underfitting: If a model performs badly on both training and the testing sample then it is underfitting.\n",
    "\n",
    "`By looking at the learning curves`\n",
    "1. If both the training and validation curves turn into almost a single line, but this point of plateau is high in value then this is the case of underfitting.\n",
    "2. If there is a significant gap between the training and the validation error. Than it means that the model does well on the training data and not on the validation data, hence it is a typical case of overfitting.\n",
    "\n",
    "## BIAS VARIANCE TRADEOFF\n",
    "\n",
    "The generalization is subdivided into three distinct errors:\n",
    "\n",
    "__Bias__:\n",
    "This part of the generalization error is due to wrong assumptions, such as assum‐\n",
    "ing that the data is linear when it is actually quadratic. A high-bias model is most\n",
    "likely to underfit the training data. 10\n",
    "\n",
    "__Variance__:\n",
    "This part is due to the model’s excessive sensitivity to small variations in the\n",
    "training data. A model with many degrees of freedom (such as a high-degree pol‐\n",
    "ynomial model) is likely to have high variance, and thus to overfit the training\n",
    "data.\n",
    "\n",
    "__Irreducible error__:\n",
    "This part is due to the noisiness of the data itself. The only way to reduce this\n",
    "part of the error is to clean up the data (e.g., fix the data sources, such as broken\n",
    "sensors, or detect and remove outliers). \n",
    "\n",
    "Increasing the complexity increases variance and reduces its bias\n",
    "\n",
    "Reducing the models complexity increases bias and decreases its variance\n",
    "\n",
    "$Bias \\propto \\frac{1}{Variance}$\n"
   ]
  },
  {
   "cell_type": "code",
   "execution_count": 17,
   "metadata": {},
   "outputs": [
    {
     "name": "stdout",
     "output_type": "stream",
     "text": [
      "validation errors: [7.392412305283362, 8.122191018006655, 6.325649698780514, 6.043663602384174, 6.1290866722679995, 6.1715370452392, 3.820327264751674, 4.1545542143227765, 4.2364106497750225, 4.755572052099473, 5.250004215788965, 4.647002241684307, 4.669864885974215, 4.891031620081275, 4.992085683773652, 5.173269376567001, 5.371919543380652, 5.449506566231955, 5.489264687158873, 5.698897423652521, 5.711163263785684, 6.106840092902397, 6.3549306775100005, 6.409497836464984, 6.465232517673906, 5.010283491430188, 4.998449641416745, 5.040946735045033, 5.01376782784498, 5.075215374413746, 4.6468789099877785, 4.675033734126829, 4.725176730110407, 4.736819687142655, 4.5797743150449355, 3.8044579209900773, 3.7384483732689517, 3.5234339006838047, 3.5138360186034836, 3.558782613232651, 3.56082776859598, 3.5652224936609285, 3.561113600835921, 3.5243428787381363, 3.5241747952923816, 3.5071694630863943, 3.50134924317977, 3.5106776507829913, 3.511476498631275, 3.560629620304929, 3.5681018494385954, 3.568311780771004, 3.6698501252681055, 3.6715449160607414, 3.7078662899749544, 3.8300039601780034, 3.847208018622807, 3.861308944316493, 3.852182575257298, 3.8576960503028657, 3.852904724850243, 3.858393030182472, 3.877179742040539, 3.9636604076501016, 3.949433148225443, 3.70716085378589, 3.706657185751682, 3.797583802103739, 3.967803469325414, 3.965621488605175, 4.028627089313195, 4.129505395782838, 4.1813349550698025, 4.252484969562364, 4.275650344290939, 4.293928659210899, 4.1316327625471665, 4.143566702612784, 3.7877403329412447]\n"
     ]
    },
    {
     "data": {
      "image/png": "[encoded data removed]",
      "text/plain": [
       "<Figure size 432x288 with 1 Axes>"
      ]
     },
     "metadata": {
      "needs_background": "light"
     },
     "output_type": "display_data"
    }
   ],
   "source": [
    "from sklearn.linear_model import LinearRegression\n",
    "lin_reg = LinearRegression()\n",
    "plot_learning_curve(lin_reg, X,y)"
   ]
  },
  {
   "cell_type": "markdown",
   "metadata": {},
   "source": [
    "## Regularized Linear Models\n",
    "\n",
    "Primary Aim Of Regularization is to restrict the _degrees of freedom_. Lesser the degree of freedom harder will it be to overfit the data. \n",
    "For e.g. to regularize a polynomial we can simply decrease the degrees of the polynomial.\n",
    "For a linear model, regularization is typically achieved by constraining the weights of the model.\n",
    "\n",
    "a. Penalizing the cost function. \n",
    "\n",
    "The aim throught the learning process is to __minimize__ the __cost function__\n",
    "In regularization we ensure that the higer power parameters are taxed such that they are penalized so that they do not take on the larger values.\n",
    "e.g.\n",
    "\n",
    "<img src=\"notes_images/regularization_by_penalizing.png\" height=750 width=750>\n",
    "\n",
    "Thus in the above fig. we make the values of $\\theta_{3},\\theta_{4} \\simeq 0$\n",
    "for minimizing the cost function\n",
    "\n",
    "1. Small values for parameters $\\theta_{0}, \\theta_{1},....., \\theta_{n}$ correspond to having:\n",
    "\n",
    "Simpler hypothesis\n",
    "\n",
    "Less prone to overfitting\n",
    "\n",
    "Equation for loss in regression:\n",
    "$J(\\theta) = \\frac{1}{2m} \\bigg[\\sum_{i=1}^{m} \\big(\\theta^{T}x^{(i)} - y^{i}\\big) ^{2} + \\lambda \\sum_{j}^{n}\\theta_{j}^{2}\\bigg]$\n",
    "\n",
    "If we start penalizing the $\\theta$ param too much with large values of `k` we'll just make every thing very close to 0.\n",
    "And if \n",
    "\n",
    "$h_{\\theta}(k) = \\theta_{0}+\\theta_{1}x+\\theta_{2}x^{2}+\\theta_{3}x^{3}$\n",
    "We'll make everything except the bias($\\theta_{0}$) equal to 0 \n",
    "Thus causing us to underfit"
   ]
  },
  {
   "cell_type": "markdown",
   "metadata": {},
   "source": [
    "### Ridge Regression\n",
    "\n",
    "Ridge Regression (also called Tikhonov regularization) is a regularized version of Lin‐\n",
    "ear Regression: a regularization term equal to \n",
    "\n",
    "$\\alpha \\sum_{i=1}^{n} \\theta_{i}^{2}$ \n",
    "\n",
    "is added to the cost function. This achieves two objectives:\n",
    "1. Keeps the model weights as small as possible.\n",
    "2. Fits to the data.\n",
    "\n",
    "$\\alpha$ controls how much regularization do we require.\n",
    "\n",
    "$\\alpha=0$, It is just linear regression.\n",
    "\n",
    "#### Loss equation of Ridge Regression\n",
    "$$J(\\theta) = MSE(\\theta) + \\alpha \\frac{1}{2}\\sum_{i=1}^{n}\\theta_{i}^{2}$$\n",
    "The bias term i.e. $\\theta_{0}$ is not regularized.\n",
    "\n",
    "If we define w as the vector of feature weights (θ 1 to θ n ), then the regularization term is simply equal to 1⁄2(∥ w ∥ 2 ) 2 , where ∥ w ∥ 2 represents the l 2 norm of the weight vector. 12\n",
    "For Gradient Descent, just add αw to the MSE gradient vector.\n",
    "\n",
    "Ridge Regression closed-form solution\n",
    "\n",
    "$\\hat{\\theta} = (X^{T} X + \\alpha A)^{-1} X^{T}y$\n",
    "\n",
    "where A is the (n + 1) × (n + 1) identity matrix 13 except with a 0 in the top-left cell, corresponding to the bias term"
   ]
  },
  {
   "cell_type": "code",
   "execution_count": 65,
   "metadata": {},
   "outputs": [
    {
     "data": {
      "text/plain": [
       "array([[0.00098021]])"
      ]
     },
     "execution_count": 65,
     "metadata": {},
     "output_type": "execute_result"
    }
   ],
   "source": [
    "from sklearn.linear_model import Ridge\n",
    "ridge_reg = Ridge(alpha=1, solver='cholesky')\n",
    "ridge_reg.fit(X,y)\n",
    "ridge_reg.predict([[-3.8279]])"
   ]
  },
  {
   "cell_type": "code",
   "execution_count": 66,
   "metadata": {},
   "outputs": [
    {
     "data": {
      "text/plain": [
       "array([0.00176343])"
      ]
     },
     "execution_count": 66,
     "metadata": {},
     "output_type": "execute_result"
    }
   ],
   "source": [
    "from sklearn.linear_model import SGDRegressor\n",
    "sgd_reg = SGDRegressor(penalty=\"l2\")\n",
    "sgd_reg.fit(X,y[:,0])\n",
    "sgd_reg.predict([[-3.8279]])"
   ]
  },
  {
   "cell_type": "markdown",
   "metadata": {},
   "source": [
    "\"l2\" indicates that you want SGD to add a regularization term to the cost function\n",
    "equal to half the square of the l 2 norm of the weight vector: this is simply Ridge\n",
    "Regression."
   ]
  },
  {
   "cell_type": "markdown",
   "metadata": {},
   "source": [
    "### Lasso Regression\n",
    "\n",
    "Least Absolute Shrinkage and Selection Operator Regression. Similar to ridge regression it adds a term to the loss function. Instead of a `l2` term it adds an `l1` term.\n",
    "\n",
    "$J(\\theta) = MSE(\\theta) + \\alpha \\sum_{i=1}^{n}|\\theta_{i}|$\n",
    "\n",
    "An important characteristic of Lasso Regression is that it tends to completely eliminate the weights of the least important features (i.e., set them to zero).\n",
    "\n",
    "All the weights for the high-degree polynomial features are equal to zero. In other words, Lasso Regression  automatically performs feature selection and outputs a sparse model (i.e., with few nonzero feature weights).\n",
    "\n",
    "The Lasso cost function is not differentiable at θ i = 0 (for i = 1, 2, ⋯, n), but Gradient Descent still works fine if you use a subgradient vector g 15 instead when any θ i = 0.\n",
    "(Non differentiable because it is a mod funtion, which is not continuous)\n",
    "\n",
    "equation for Lasso Regression subgradient vector:\n",
    "\n",
    "$$g(\\theta, J) = \\Delta_{\\theta}MSE(\\theta) + \\alpha \\left( {\\begin{array}{c}\n",
    "   sign(\\theta_{1}) \\\\\n",
    "   sign(\\theta_{2}) \\\\\n",
    "   . \\\\\n",
    "   . \\\\\n",
    "   . \\\\\n",
    "   sign(\\theta_{n}) \\\\\n",
    "  \\end{array} } \\right)\n",
    "  $$\n",
    "  \n",
    "  where $sign(\\theta_{i}) = -1,\\theta < 0 $\n",
    "  \n",
    "  $ 0,\\theta_{i}=0$\n",
    "  \n",
    "  $ +1 ,\\theta_{i}>0 $"
   ]
  },
  {
   "cell_type": "markdown",
   "metadata": {},
   "source": [
    "### Elastic Net\n",
    "Elastic Net is a middle ground between Ridge Regression and Lasso Regression. The regularization term is a simple mix of both Ridge and Lasso’s regularization terms, and you can control the mix ratio r. When r = 0, Elastic Net is equivalent to Ridge Regression, and when r = 1, it is equivalent to Lasso Regression.\n",
    "\n",
    "$J(\\theta)= MSE(\\theta)+ r \\alpha \\sum_{i=1}^{n} |\\theta_{i}| + \\frac{1-r}{2} \\alpha\\sum_{i=1}^{n}\\theta_{i}^{2}$\n",
    "\n",
    "ELastic Net is more useful than since Lasso may behave erratically when the number of features is greater than the number of training instances or when several features are strongly correlated."
   ]
  },
  {
   "cell_type": "code",
   "execution_count": 69,
   "metadata": {},
   "outputs": [
    {
     "data": {
      "text/plain": [
       "ElasticNet(alpha=0.1)"
      ]
     },
     "execution_count": 69,
     "metadata": {},
     "output_type": "execute_result"
    }
   ],
   "source": [
    "from sklearn.linear_model import ElasticNet\n",
    "elastic_net = ElasticNet(alpha=0.1, l1_ratio=0.5)\n",
    "elastic_net.fit(X,y)"
   ]
  },
  {
   "cell_type": "code",
   "execution_count": 72,
   "metadata": {},
   "outputs": [
    {
     "data": {
      "text/plain": [
       "array([3.91040455])"
      ]
     },
     "execution_count": 72,
     "metadata": {},
     "output_type": "execute_result"
    }
   ],
   "source": [
    "elastic_net.predict([[0.5]])"
   ]
  },
  {
   "cell_type": "markdown",
   "metadata": {},
   "source": [
    "### Early Stoppage\n",
    "\n",
    "A very different way to regularize iterative learning algorithms such as Gradient Descent is to stop training as soon as the validation error reaches a minimum. This is called early stopping.\n",
    "\n",
    "With early stopping you just stop training as soon as the validation error reaches the minimum. It is a very simple and efficient regularization technique.\n"
   ]
  },
  {
   "cell_type": "code",
   "execution_count": 93,
   "metadata": {},
   "outputs": [],
   "source": [
    "from sklearn.model_selection import train_test_split\n",
    "\n",
    "X_train, X_test, y_train, y_test = train_test_split(X, y, test_size=0.3,random_state=42)"
   ]
  },
  {
   "cell_type": "code",
   "execution_count": 98,
   "metadata": {},
   "outputs": [],
   "source": [
    "from sklearn.pipeline import Pipeline\n",
    "from sklearn.preprocessing import StandardScaler\n",
    "from sklearn.linear_model import SGDRegressor\n",
    "import numpy as np\n",
    "from sklearn.metrics import mean_squared_error\n",
    "from sklearn.base import clone\n",
    "poly_scalar = Pipeline([\n",
    "    (\"pf\", PolynomialFeatures(degree=90, include_bias=False)),\n",
    "    ('std_scalar', StandardScaler())\n",
    "])\n",
    "\n",
    "X_train_poly_scaled = poly_scalar.fit_transform(X_train)\n",
    "X_val_poly_scaled = poly_scalar.transform(X_test)"
   ]
  },
  {
   "cell_type": "code",
   "execution_count": 102,
   "metadata": {},
   "outputs": [],
   "source": [
    "sgd_reg = SGDRegressor(max_iter=1, tol=-np.infty, warm_start=True, penalty=None, learning_rate='constant', eta0=0.005)\n",
    "minimum_val_error = float(\"inf\")\n",
    "best_epoch = None\n",
    "best_model = None\n",
    "for epoch in range(1000):\n",
    "    sgd_reg.fit(X_train_poly_scaled, y_train[:,0])\n",
    "    y_val_predict = sgd_reg.predict(X_val_poly_scaled)\n",
    "    val_error = mean_squared_error(y_test,y_val_predict)\n",
    "    if val_error<minimum_val_error:\n",
    "        minimum_val_error = val_error\n",
    "        best_epoch=epoch\n",
    "        best_model = clone(sgd_reg)"
   ]
  },
  {
   "cell_type": "markdown",
   "metadata": {},
   "source": [
    "### LOGISTIC REGRESSION\n",
    "\n",
    "Logistic Regression (also called Logit Regression) is commonly used to estimate the probability that an instance belongs to a particular class. \n",
    "If the probabilty if >50% the it belongs to C1 otherwise not.\n",
    "\n",
    "#### Estimating Logistic Probabilities\n",
    "Logistic Regression model computes a weighted sum of the input features (plus a bias term), but instead of outputting the result directly like the Linear Regression model does, it outputs the logistic of this result.\n",
    "\n",
    "$\\hat{p} = h_{\\theta}(x) = \\sigma(x^{T}\\theta)$\n",
    "\n",
    "Where $\\sigma$ is the sigmoid function returning the value between 0 and 1.\n",
    "\n",
    "$\\sigma(t) = \\frac{1}{1+ e^{-t}}$\n",
    "\n",
    "Logistic Function Prediction is the same as sigmoid, i.e.\n",
    "\n",
    "<img src=\"notes_images/sigmoid.png\" height=200 width=750>\n",
    "\n",
    "$\n",
    "    y=\n",
    "    \\begin{cases}\n",
    "      0, & \\text{if}\\ \\hat{p}<0.5 \\\\\n",
    "      1, & \\text{if}\\ \\hat{p}\\geq0.5 \\\\\n",
    "    \\end{cases}\n",
    "$\n",
    "\n",
    "AND \n",
    "\n",
    "$\n",
    " \\sigma(t) = \n",
    "         \\begin{cases}\n",
    "         0.5-, & \\text{if}\\ t<0\\\\\n",
    "         0.5+, & \\text{if}\\ t>0\\\\\n",
    "         \\end{cases}\n",
    "$\n",
    "\n",
    "Logistic Regression model predicts 1 if x T θ is positive, and 0 if it is negative.\n",
    "\n",
    "Sometimes it is also called the logit function.\n",
    "$ logit(x) = log\\bigg(\\frac{p}{1-p}\\bigg)$\n",
    "\n",
    "Which is the inverse of the $\\sigma$ function.\n",
    "\n",
    "#### Cost Functions\n",
    "Cost function of a single training instance:\n",
    "\n",
    "$\n",
    " c(\\theta) = \n",
    "         \\begin{cases}\n",
    "         -log(\\hat{p}), & \\text{if}\\ y=1\\ at\\ large\\ value\\ of\\ `t`\\\\\n",
    "         -log(1-\\hat{p}), & \\text{if}\\ y=0\\ at\\ small\\ value\\ of\\ `t`\\\\\n",
    "         \\end{cases}\n",
    "$\n",
    "\n",
    "Cost function of overall training instance:\n",
    "$$J(\\theta) = \\frac{1}{m}\\sum_{i=1}^{m}\\bigg[y^{i}log(\\hat{p}^{(i)})+ (1-y^{i})log(1-\\hat{p}^{(i)})\\bigg]$$\n",
    "\n",
    "There is no known closed-form equation to compute the value of θ that minimizes this cost function (there is no equivalent of the Normal Equation). This cost function is convex, so Gradient Descent (or any other optimization algorithm) is guaranteed to find the global minimum (if the learning rate is not too large and you wait long enough).\n",
    "\n",
    "#### Regularization in Logistic Regression\n",
    "Logistic Regression models can be regularized using l 1 or l 2 penalties. \n",
    "Scitkit-Learn actually adds an l2 penalty by default.\n",
    "\n",
    "The hyperparameter controlling the regularization strength of a Scikit-Learn LogisticRegression model is not alpha (as in other linear models), but its inverse: C . The higher the value of C , the less the model is regularized.\n",
    "\n",
    "\n",
    "##### Note\n",
    "1. Scaling would make sure that the parameters do not have larger values which might take more time in training. Thus scaling would decrease the training time.\n",
    "2. In case we are using regularization either `l1` or `l2`, then the unscaled weights causing the parameters to have larger values will get penalized more.. without valid reason.\n"
   ]
  },
  {
   "cell_type": "code",
   "execution_count": 126,
   "metadata": {},
   "outputs": [],
   "source": [
    "# e.g. for logistic regression\n",
    "from sklearn import datasets\n",
    "iris = datasets.load_iris()"
   ]
  },
  {
   "cell_type": "code",
   "execution_count": 112,
   "metadata": {},
   "outputs": [],
   "source": [
    "X = iris[\"data\"][:,3:]"
   ]
  },
  {
   "cell_type": "code",
   "execution_count": 118,
   "metadata": {},
   "outputs": [],
   "source": [
    "y = (iris[\"target\"]==2).astype(int)"
   ]
  },
  {
   "cell_type": "code",
   "execution_count": 120,
   "metadata": {},
   "outputs": [
    {
     "data": {
      "text/plain": [
       "LogisticRegression()"
      ]
     },
     "execution_count": 120,
     "metadata": {},
     "output_type": "execute_result"
    }
   ],
   "source": [
    "from sklearn.linear_model import LogisticRegression\n",
    "log_reg = LogisticRegression()\n",
    "log_reg.fit(X,y)"
   ]
  },
  {
   "cell_type": "code",
   "execution_count": 125,
   "metadata": {},
   "outputs": [
    {
     "data": {
      "image/png": "[encoded data removed]",
      "text/plain": [
       "<Figure size 432x288 with 1 Axes>"
      ]
     },
     "metadata": {
      "needs_background": "light"
     },
     "output_type": "display_data"
    }
   ],
   "source": [
    "X_new = np.linspace(0, 3, 1000).reshape(-1, 1)\n",
    "y_proba = log_reg.predict_proba(X_new)\n",
    "plt.plot(X_new, y_proba[:, 1], \"g-\", label=\"Iris-Virginica\")\n",
    "plt.plot(X_new, y_proba[:,0], \"b--\", label=\"Non Iris Virginica\")\n",
    "plt.show()"
   ]
  },
  {
   "cell_type": "markdown",
   "metadata": {},
   "source": [
    "### Softmax Regression\n",
    "The Logistic Regression model can be generalized to support multiple classes directly, without having to train and combine multiple binary classifiers. This is called Softmax Regression, or Multinomial Logistic Regression.\n",
    "\n",
    "When given an instance x, the Softmax Regression model first computes a score $s_{k}(x)$ for each class k, then estimates the probability of each class by applying the softmax function (also called the __normalized exponential__) to the\n",
    "scores.\n",
    "\n",
    "The $s_{k}$ is similar to logistic regression equation:\n",
    "$s_{k}(x)=x^{T}\\theta^{(k)}$\n",
    "\n",
    "Each class has its own dedicated parameter vector $θ{(k)}$ . All these vectors are typically stored as rows in a parameter matrix Θ.\n",
    "\n",
    "Once you have computed the score of every class for the instance x, you can estimate the probability p k that the instance belongs to class k by running the scores through the softmax function. \n",
    "It computes exponential of each score and them normalizes them(/ by sum of all exponents).\n",
    "\n",
    "$$\\hat{p}_{k} = \\sigma(s(x))_{k} = \\frac{e^{s_{k}(x)}}{\\sum_{j=1}^{K}e^{s_{j}(x)}}$$\n",
    "\n",
    "* K is number of classes\n",
    "* s(x) is a vector containing the scores of each class for the instance x\n",
    "* $\\sigma(s(x))_{k}$ is the estimated probability that the instance x belongs to class k given\n",
    "the scores of each class for that instance.\n",
    "\n",
    "Note: The Softmax Regression classifier predicts only one class at a time (i.e., it is multiclass, not multioutput) so it should be used only with mutually exclusive classes such as different types of plants. You\n",
    "cannot use it to recognize multiple people in one picture.\n",
    "\n",
    "#### Cost function\n",
    "The objective is to have a model that estimates a high probability for the target class (and consequently a low probability for the other classes).\n",
    "It uses the cross entropy function should lead to this objective because it penalizes the model when it estimates\n",
    "a low probability for a target class.\n",
    "\n",
    "$$J(\\theta) = -\\frac{1}{m} \\sum_{i=1}^{m}\\sum_{k=1}^{K} y_{k}^{i}log(\\hat{p}_{k}^{(i)})$$"
   ]
  },
  {
   "cell_type": "code",
   "execution_count": 133,
   "metadata": {},
   "outputs": [
    {
     "data": {
      "text/plain": [
       "array([0, 0, 0, 0, 0, 0, 0, 0, 0, 0, 0, 0, 0, 0, 0, 0, 0, 0, 0, 0, 0, 0,\n",
       "       0, 0, 0, 0, 0, 0, 0, 0, 0, 0, 0, 0, 0, 0, 0, 0, 0, 0, 0, 0, 0, 0,\n",
       "       0, 0, 0, 0, 0, 0, 1, 1, 1, 1, 1, 1, 1, 1, 1, 1, 1, 1, 1, 1, 1, 1,\n",
       "       1, 1, 1, 1, 1, 1, 1, 1, 1, 1, 1, 1, 1, 1, 1, 1, 1, 1, 1, 1, 1, 1,\n",
       "       1, 1, 1, 1, 1, 1, 1, 1, 1, 1, 1, 1, 2, 2, 2, 2, 2, 2, 2, 2, 2, 2,\n",
       "       2, 2, 2, 2, 2, 2, 2, 2, 2, 2, 2, 2, 2, 2, 2, 2, 2, 2, 2, 2, 2, 2,\n",
       "       2, 2, 2, 2, 2, 2, 2, 2, 2, 2, 2, 2, 2, 2, 2, 2, 2, 2])"
      ]
     },
     "execution_count": 133,
     "metadata": {},
     "output_type": "execute_result"
    }
   ],
   "source": [
    "X = iris[\"data\"][:,(2,3)]\n",
    "y = iris[\"target\"]\n"
   ]
  },
  {
   "cell_type": "code",
   "execution_count": 130,
   "metadata": {},
   "outputs": [
    {
     "data": {
      "text/plain": [
       "LogisticRegression(C=10, multi_class='multinomial')"
      ]
     },
     "execution_count": 130,
     "metadata": {},
     "output_type": "execute_result"
    }
   ],
   "source": [
    "softmax_reg = LogisticRegression(multi_class=\"multinomial\", solver=\"lbfgs\", C=10)\n",
    "softmax_reg.fit(X,y)"
   ]
  },
  {
   "cell_type": "code",
   "execution_count": 132,
   "metadata": {},
   "outputs": [
    {
     "data": {
      "text/plain": [
       "array([[6.69688849e-52, 1.00000000e+00],\n",
       "       [2.51197097e-62, 1.00000000e+00]])"
      ]
     },
     "execution_count": 132,
     "metadata": {},
     "output_type": "execute_result"
    }
   ],
   "source": [
    "softmax_reg.predict_proba([[10,15],[15,15]])"
   ]
  },
  {
   "cell_type": "code",
   "execution_count": null,
   "metadata": {},
   "outputs": [],
   "source": []
  }
 ],
 "metadata": {
  "kernelspec": {
   "display_name": "tensorflow_dev",
   "language": "python",
   "name": "tf_dev"
  },
  "language_info": {
   "codemirror_mode": {
    "name": "ipython",
    "version": 3
   },
   "file_extension": ".py",
   "mimetype": "text/x-python",
   "name": "python",
   "nbconvert_exporter": "python",
   "pygments_lexer": "ipython3",
   "version": "3.7.7"
  },
  "varInspector": {
   "cols": {
    "lenName": 16,
    "lenType": 16,
    "lenVar": 40
   },
   "kernels_config": {
    "python": {
     "delete_cmd_postfix": "",
     "delete_cmd_prefix": "del ",
     "library": "var_list.py",
     "varRefreshCmd": "print(var_dic_list())"
    },
    "r": {
     "delete_cmd_postfix": ") ",
     "delete_cmd_prefix": "rm(",
     "library": "var_list.r",
     "varRefreshCmd": "cat(var_dic_list()) "
    }
   },
   "types_to_exclude": [
    "module",
    "function",
    "builtin_function_or_method",
    "instance",
    "_Feature"
   ],
   "window_display": false
  }
 },
 "nbformat": 4,
 "nbformat_minor": 2
}
