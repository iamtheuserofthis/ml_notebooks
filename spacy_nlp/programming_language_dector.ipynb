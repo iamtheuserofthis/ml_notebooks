{
 "cells": [
  {
   "cell_type": "code",
   "execution_count": 1,
   "metadata": {},
   "outputs": [],
   "source": [
    "import spacy\n",
    "import pandas as pd\n",
    "from spacy import displacy"
   ]
  },
  {
   "cell_type": "code",
   "execution_count": 2,
   "metadata": {},
   "outputs": [],
   "source": [
    "nlp = spacy.load(\"en_core_web_sm\")"
   ]
  },
  {
   "cell_type": "code",
   "execution_count": 36,
   "metadata": {},
   "outputs": [],
   "source": [
    "df=(pd.read_csv('/home/iamauser/Downloads/stack_overflow_ds/archive/Questions.csv', \n",
    "                nrows=1000000, encoding='ISO-8859-1', usecols=['Title','Id']))\n",
    "titles=[_ for _ in df['Title']]"
   ]
  },
  {
   "cell_type": "code",
   "execution_count": 6,
   "metadata": {},
   "outputs": [],
   "source": [
    "#level1 simple in_go functionn\n",
    "\n",
    "def has_golang(text):\n",
    "    return \"go\" in text\n",
    "\n",
    "g  = (title for title in titles if has_golang(title))"
   ]
  },
  {
   "cell_type": "code",
   "execution_count": 7,
   "metadata": {},
   "outputs": [
    {
     "data": {
      "text/plain": [
       "['My website got hacked... What should I do?',\n",
       " \"DVCS Choices - What's good for Windows?\",\n",
       " 'Is a \"Confirm Email\" input good practice when user changes email address?',\n",
       " 'Any good advice on using emacs for C++ project?']"
      ]
     },
     "execution_count": 7,
     "metadata": {},
     "output_type": "execute_result"
    }
   ],
   "source": [
    "[next(g) for i in range(4)]"
   ]
  },
  {
   "cell_type": "markdown",
   "metadata": {},
   "source": [
    "### Shortcomings\n",
    "1. It gives all instances of `go` which more often than not are verbs or undesirable elements.\n",
    "\n",
    "### Steps to overcome\n",
    "0. get all hits of go \n",
    "1. Use nlp model provided to us by spacy and avoid getting verbs."
   ]
  },
  {
   "cell_type": "code",
   "execution_count": 22,
   "metadata": {},
   "outputs": [],
   "source": [
    "titles_gen1=[_ for _ in df[df['Title'].str.lower().str.contains('go')]['Title']]"
   ]
  },
  {
   "cell_type": "code",
   "execution_count": 44,
   "metadata": {},
   "outputs": [
    {
     "name": "stdout",
     "output_type": "stream",
     "text": [
      "CPU times: user 3.39 s, sys: 370 µs, total: 3.39 s\n",
      "Wall time: 3.39 s\n"
     ]
    },
    {
     "data": {
      "text/plain": [
       "[Embedding instead of inheritance in Go,\n",
       " Shared library in Go?,\n",
       " multi package makefile example for go,\n",
       " What's the point of having pointers in Go?,\n",
       " Simulate a tcp connection in Go,\n",
       " Trouble reading from a socket in go,\n",
       " What's the simplest way to edit conflicted files in one go when using git and an editor like Vim or textmate?,\n",
       " Convert string to integer type in Go?,\n",
       " Is there any automated conversion from Go to Python?,\n",
       " Implementing the âdeferâ statement from Go in Objective-C?]"
      ]
     },
     "execution_count": 44,
     "metadata": {},
     "output_type": "execute_result"
    }
   ],
   "source": [
    "%%time\n",
    "def has_go_not_verb(doc):\n",
    "    for token in doc:\n",
    "        if token.lower_ in [\"go\", \"golang\"]:\n",
    "            if token.pos_!=\"VERB\":\n",
    "                if token.dep_==\"pobj\":\n",
    "                    return True\n",
    "    return False\n",
    "\n",
    "g = (doc for doc in nlp.pipe(titles_gen1) if has_go_not_verb(doc))\n",
    "[next(g) for _ in range(10)]\n"
   ]
  },
  {
   "cell_type": "code",
   "execution_count": 36,
   "metadata": {
    "scrolled": true
   },
   "outputs": [
    {
     "data": {
      "text/html": [
       "<span class=\"tex2jax_ignore\"><svg xmlns=\"http://www.w3.org/2000/svg\" xmlns:xlink=\"http://www.w3.org/1999/xlink\" xml:lang=\"en\" id=\"0146f4b27ba84d2c87792b80514c94f9-0\" class=\"displacy\" width=\"1975\" height=\"574.5\" direction=\"ltr\" style=\"max-width: none; height: 574.5px; color: #000000; background: #ffffff; font-family: Arial; direction: ltr\">\n",
       "<text class=\"displacy-token\" fill=\"currentColor\" text-anchor=\"middle\" y=\"484.5\">\n",
       "    <tspan class=\"displacy-word\" fill=\"currentColor\" x=\"50\">How</tspan>\n",
       "    <tspan class=\"displacy-tag\" dy=\"2em\" fill=\"currentColor\" x=\"50\">ADV</tspan>\n",
       "</text>\n",
       "\n",
       "<text class=\"displacy-token\" fill=\"currentColor\" text-anchor=\"middle\" y=\"484.5\">\n",
       "    <tspan class=\"displacy-word\" fill=\"currentColor\" x=\"225\">to</tspan>\n",
       "    <tspan class=\"displacy-tag\" dy=\"2em\" fill=\"currentColor\" x=\"225\">PART</tspan>\n",
       "</text>\n",
       "\n",
       "<text class=\"displacy-token\" fill=\"currentColor\" text-anchor=\"middle\" y=\"484.5\">\n",
       "    <tspan class=\"displacy-word\" fill=\"currentColor\" x=\"400\">Create</tspan>\n",
       "    <tspan class=\"displacy-tag\" dy=\"2em\" fill=\"currentColor\" x=\"400\">VERB</tspan>\n",
       "</text>\n",
       "\n",
       "<text class=\"displacy-token\" fill=\"currentColor\" text-anchor=\"middle\" y=\"484.5\">\n",
       "    <tspan class=\"displacy-word\" fill=\"currentColor\" x=\"575\">a</tspan>\n",
       "    <tspan class=\"displacy-tag\" dy=\"2em\" fill=\"currentColor\" x=\"575\">DET</tspan>\n",
       "</text>\n",
       "\n",
       "<text class=\"displacy-token\" fill=\"currentColor\" text-anchor=\"middle\" y=\"484.5\">\n",
       "    <tspan class=\"displacy-word\" fill=\"currentColor\" x=\"750\">Dropdown</tspan>\n",
       "    <tspan class=\"displacy-tag\" dy=\"2em\" fill=\"currentColor\" x=\"750\">PROPN</tspan>\n",
       "</text>\n",
       "\n",
       "<text class=\"displacy-token\" fill=\"currentColor\" text-anchor=\"middle\" y=\"484.5\">\n",
       "    <tspan class=\"displacy-word\" fill=\"currentColor\" x=\"925\">List</tspan>\n",
       "    <tspan class=\"displacy-tag\" dy=\"2em\" fill=\"currentColor\" x=\"925\">PROPN</tspan>\n",
       "</text>\n",
       "\n",
       "<text class=\"displacy-token\" fill=\"currentColor\" text-anchor=\"middle\" y=\"484.5\">\n",
       "    <tspan class=\"displacy-word\" fill=\"currentColor\" x=\"1100\">Hyperlink</tspan>\n",
       "    <tspan class=\"displacy-tag\" dy=\"2em\" fill=\"currentColor\" x=\"1100\">PROPN</tspan>\n",
       "</text>\n",
       "\n",
       "<text class=\"displacy-token\" fill=\"currentColor\" text-anchor=\"middle\" y=\"484.5\">\n",
       "    <tspan class=\"displacy-word\" fill=\"currentColor\" x=\"1275\">without</tspan>\n",
       "    <tspan class=\"displacy-tag\" dy=\"2em\" fill=\"currentColor\" x=\"1275\">ADP</tspan>\n",
       "</text>\n",
       "\n",
       "<text class=\"displacy-token\" fill=\"currentColor\" text-anchor=\"middle\" y=\"484.5\">\n",
       "    <tspan class=\"displacy-word\" fill=\"currentColor\" x=\"1450\">the</tspan>\n",
       "    <tspan class=\"displacy-tag\" dy=\"2em\" fill=\"currentColor\" x=\"1450\">DET</tspan>\n",
       "</text>\n",
       "\n",
       "<text class=\"displacy-token\" fill=\"currentColor\" text-anchor=\"middle\" y=\"484.5\">\n",
       "    <tspan class=\"displacy-word\" fill=\"currentColor\" x=\"1625\">GO</tspan>\n",
       "    <tspan class=\"displacy-tag\" dy=\"2em\" fill=\"currentColor\" x=\"1625\">PROPN</tspan>\n",
       "</text>\n",
       "\n",
       "<text class=\"displacy-token\" fill=\"currentColor\" text-anchor=\"middle\" y=\"484.5\">\n",
       "    <tspan class=\"displacy-word\" fill=\"currentColor\" x=\"1800\">button?</tspan>\n",
       "    <tspan class=\"displacy-tag\" dy=\"2em\" fill=\"currentColor\" x=\"1800\">NOUN</tspan>\n",
       "</text>\n",
       "\n",
       "<g class=\"displacy-arrow\">\n",
       "    <path class=\"displacy-arc\" id=\"arrow-0146f4b27ba84d2c87792b80514c94f9-0-0\" stroke-width=\"2px\" d=\"M70,439.5 C70,264.5 385.0,264.5 385.0,439.5\" fill=\"none\" stroke=\"currentColor\"/>\n",
       "    <text dy=\"1.25em\" style=\"font-size: 0.8em; letter-spacing: 1px\">\n",
       "        <textPath xlink:href=\"#arrow-0146f4b27ba84d2c87792b80514c94f9-0-0\" class=\"displacy-label\" startOffset=\"50%\" side=\"left\" fill=\"currentColor\" text-anchor=\"middle\">advmod</textPath>\n",
       "    </text>\n",
       "    <path class=\"displacy-arrowhead\" d=\"M70,441.5 L62,429.5 78,429.5\" fill=\"currentColor\"/>\n",
       "</g>\n",
       "\n",
       "<g class=\"displacy-arrow\">\n",
       "    <path class=\"displacy-arc\" id=\"arrow-0146f4b27ba84d2c87792b80514c94f9-0-1\" stroke-width=\"2px\" d=\"M245,439.5 C245,352.0 380.0,352.0 380.0,439.5\" fill=\"none\" stroke=\"currentColor\"/>\n",
       "    <text dy=\"1.25em\" style=\"font-size: 0.8em; letter-spacing: 1px\">\n",
       "        <textPath xlink:href=\"#arrow-0146f4b27ba84d2c87792b80514c94f9-0-1\" class=\"displacy-label\" startOffset=\"50%\" side=\"left\" fill=\"currentColor\" text-anchor=\"middle\">aux</textPath>\n",
       "    </text>\n",
       "    <path class=\"displacy-arrowhead\" d=\"M245,441.5 L237,429.5 253,429.5\" fill=\"currentColor\"/>\n",
       "</g>\n",
       "\n",
       "<g class=\"displacy-arrow\">\n",
       "    <path class=\"displacy-arc\" id=\"arrow-0146f4b27ba84d2c87792b80514c94f9-0-2\" stroke-width=\"2px\" d=\"M595,439.5 C595,177.0 1090.0,177.0 1090.0,439.5\" fill=\"none\" stroke=\"currentColor\"/>\n",
       "    <text dy=\"1.25em\" style=\"font-size: 0.8em; letter-spacing: 1px\">\n",
       "        <textPath xlink:href=\"#arrow-0146f4b27ba84d2c87792b80514c94f9-0-2\" class=\"displacy-label\" startOffset=\"50%\" side=\"left\" fill=\"currentColor\" text-anchor=\"middle\">det</textPath>\n",
       "    </text>\n",
       "    <path class=\"displacy-arrowhead\" d=\"M595,441.5 L587,429.5 603,429.5\" fill=\"currentColor\"/>\n",
       "</g>\n",
       "\n",
       "<g class=\"displacy-arrow\">\n",
       "    <path class=\"displacy-arc\" id=\"arrow-0146f4b27ba84d2c87792b80514c94f9-0-3\" stroke-width=\"2px\" d=\"M770,439.5 C770,352.0 905.0,352.0 905.0,439.5\" fill=\"none\" stroke=\"currentColor\"/>\n",
       "    <text dy=\"1.25em\" style=\"font-size: 0.8em; letter-spacing: 1px\">\n",
       "        <textPath xlink:href=\"#arrow-0146f4b27ba84d2c87792b80514c94f9-0-3\" class=\"displacy-label\" startOffset=\"50%\" side=\"left\" fill=\"currentColor\" text-anchor=\"middle\">compound</textPath>\n",
       "    </text>\n",
       "    <path class=\"displacy-arrowhead\" d=\"M770,441.5 L762,429.5 778,429.5\" fill=\"currentColor\"/>\n",
       "</g>\n",
       "\n",
       "<g class=\"displacy-arrow\">\n",
       "    <path class=\"displacy-arc\" id=\"arrow-0146f4b27ba84d2c87792b80514c94f9-0-4\" stroke-width=\"2px\" d=\"M945,439.5 C945,352.0 1080.0,352.0 1080.0,439.5\" fill=\"none\" stroke=\"currentColor\"/>\n",
       "    <text dy=\"1.25em\" style=\"font-size: 0.8em; letter-spacing: 1px\">\n",
       "        <textPath xlink:href=\"#arrow-0146f4b27ba84d2c87792b80514c94f9-0-4\" class=\"displacy-label\" startOffset=\"50%\" side=\"left\" fill=\"currentColor\" text-anchor=\"middle\">compound</textPath>\n",
       "    </text>\n",
       "    <path class=\"displacy-arrowhead\" d=\"M945,441.5 L937,429.5 953,429.5\" fill=\"currentColor\"/>\n",
       "</g>\n",
       "\n",
       "<g class=\"displacy-arrow\">\n",
       "    <path class=\"displacy-arc\" id=\"arrow-0146f4b27ba84d2c87792b80514c94f9-0-5\" stroke-width=\"2px\" d=\"M420,439.5 C420,89.5 1095.0,89.5 1095.0,439.5\" fill=\"none\" stroke=\"currentColor\"/>\n",
       "    <text dy=\"1.25em\" style=\"font-size: 0.8em; letter-spacing: 1px\">\n",
       "        <textPath xlink:href=\"#arrow-0146f4b27ba84d2c87792b80514c94f9-0-5\" class=\"displacy-label\" startOffset=\"50%\" side=\"left\" fill=\"currentColor\" text-anchor=\"middle\">dobj</textPath>\n",
       "    </text>\n",
       "    <path class=\"displacy-arrowhead\" d=\"M1095.0,441.5 L1103.0,429.5 1087.0,429.5\" fill=\"currentColor\"/>\n",
       "</g>\n",
       "\n",
       "<g class=\"displacy-arrow\">\n",
       "    <path class=\"displacy-arc\" id=\"arrow-0146f4b27ba84d2c87792b80514c94f9-0-6\" stroke-width=\"2px\" d=\"M420,439.5 C420,2.0 1275.0,2.0 1275.0,439.5\" fill=\"none\" stroke=\"currentColor\"/>\n",
       "    <text dy=\"1.25em\" style=\"font-size: 0.8em; letter-spacing: 1px\">\n",
       "        <textPath xlink:href=\"#arrow-0146f4b27ba84d2c87792b80514c94f9-0-6\" class=\"displacy-label\" startOffset=\"50%\" side=\"left\" fill=\"currentColor\" text-anchor=\"middle\">prep</textPath>\n",
       "    </text>\n",
       "    <path class=\"displacy-arrowhead\" d=\"M1275.0,441.5 L1283.0,429.5 1267.0,429.5\" fill=\"currentColor\"/>\n",
       "</g>\n",
       "\n",
       "<g class=\"displacy-arrow\">\n",
       "    <path class=\"displacy-arc\" id=\"arrow-0146f4b27ba84d2c87792b80514c94f9-0-7\" stroke-width=\"2px\" d=\"M1470,439.5 C1470,264.5 1785.0,264.5 1785.0,439.5\" fill=\"none\" stroke=\"currentColor\"/>\n",
       "    <text dy=\"1.25em\" style=\"font-size: 0.8em; letter-spacing: 1px\">\n",
       "        <textPath xlink:href=\"#arrow-0146f4b27ba84d2c87792b80514c94f9-0-7\" class=\"displacy-label\" startOffset=\"50%\" side=\"left\" fill=\"currentColor\" text-anchor=\"middle\">det</textPath>\n",
       "    </text>\n",
       "    <path class=\"displacy-arrowhead\" d=\"M1470,441.5 L1462,429.5 1478,429.5\" fill=\"currentColor\"/>\n",
       "</g>\n",
       "\n",
       "<g class=\"displacy-arrow\">\n",
       "    <path class=\"displacy-arc\" id=\"arrow-0146f4b27ba84d2c87792b80514c94f9-0-8\" stroke-width=\"2px\" d=\"M1645,439.5 C1645,352.0 1780.0,352.0 1780.0,439.5\" fill=\"none\" stroke=\"currentColor\"/>\n",
       "    <text dy=\"1.25em\" style=\"font-size: 0.8em; letter-spacing: 1px\">\n",
       "        <textPath xlink:href=\"#arrow-0146f4b27ba84d2c87792b80514c94f9-0-8\" class=\"displacy-label\" startOffset=\"50%\" side=\"left\" fill=\"currentColor\" text-anchor=\"middle\">compound</textPath>\n",
       "    </text>\n",
       "    <path class=\"displacy-arrowhead\" d=\"M1645,441.5 L1637,429.5 1653,429.5\" fill=\"currentColor\"/>\n",
       "</g>\n",
       "\n",
       "<g class=\"displacy-arrow\">\n",
       "    <path class=\"displacy-arc\" id=\"arrow-0146f4b27ba84d2c87792b80514c94f9-0-9\" stroke-width=\"2px\" d=\"M1295,439.5 C1295,177.0 1790.0,177.0 1790.0,439.5\" fill=\"none\" stroke=\"currentColor\"/>\n",
       "    <text dy=\"1.25em\" style=\"font-size: 0.8em; letter-spacing: 1px\">\n",
       "        <textPath xlink:href=\"#arrow-0146f4b27ba84d2c87792b80514c94f9-0-9\" class=\"displacy-label\" startOffset=\"50%\" side=\"left\" fill=\"currentColor\" text-anchor=\"middle\">pobj</textPath>\n",
       "    </text>\n",
       "    <path class=\"displacy-arrowhead\" d=\"M1790.0,441.5 L1798.0,429.5 1782.0,429.5\" fill=\"currentColor\"/>\n",
       "</g>\n",
       "</svg></span>"
      ],
      "text/plain": [
       "<IPython.core.display.HTML object>"
      ]
     },
     "metadata": {},
     "output_type": "display_data"
    }
   ],
   "source": [
    "displacy.render(nlp('How to Create a Dropdown List Hyperlink without the GO button?'))"
   ]
  },
  {
   "cell_type": "code",
   "execution_count": 58,
   "metadata": {},
   "outputs": [],
   "source": [
    "#dep_= pobj\n",
    "spacy.explain('pobj')\n",
    "def has_go_token(doc):\n",
    "    for t in doc:\n",
    "        if t.lower_ in ['go','golang']:\n",
    "            return True\n",
    "    return False"
   ]
  },
  {
   "cell_type": "code",
   "execution_count": 50,
   "metadata": {},
   "outputs": [],
   "source": [
    "df_tags = pd.read_csv('/home/iamauser/Downloads/stack_overflow_ds/archive/Tags.csv')"
   ]
  },
  {
   "cell_type": "code",
   "execution_count": 51,
   "metadata": {},
   "outputs": [
    {
     "name": "stdout",
     "output_type": "stream",
     "text": [
      "Tags Index(['Id', 'Tag'], dtype='object')\n",
      "Title Index(['Id', 'Title'], dtype='object')\n"
     ]
    }
   ],
   "source": [
    "print('Tags',df_tags.columns)\n",
    "print('Title', df.columns)"
   ]
  },
  {
   "cell_type": "code",
   "execution_count": 59,
   "metadata": {},
   "outputs": [
    {
     "name": "stdout",
     "output_type": "stream",
     "text": [
      "CPU times: user 1.13 s, sys: 7.97 ms, total: 1.14 s\n",
      "Wall time: 1.14 s\n"
     ]
    }
   ],
   "source": [
    "%%time\n",
    "go_ids = df_tags[lambda d:d['Tag']=='go']['Id']\n",
    "all_go_sentence_array = df.loc[lambda d:d['Id'].isin(go_ids)]['Title'].tolist()\n",
    "detectable = [d.text for d in nlp.pipe(all_go_sentence_array) if has_go_token(d)]\n"
   ]
  },
  {
   "cell_type": "code",
   "execution_count": 61,
   "metadata": {},
   "outputs": [],
   "source": [
    "non_detectable =(df\n",
    "                .loc[lambda d: ~d['Id'].isin(go_ids)]\n",
    "                .loc[lambda d: d['Title'].str.lower().str.contains(\"go\")]\n",
    "                ['Title']\n",
    "                .tolist())\n",
    "non_detectable = [d.text for d in nlp.pipe(non_detectable) if has_go_token(d)]                "
   ]
  },
  {
   "cell_type": "code",
   "execution_count": 65,
   "metadata": {},
   "outputs": [
    {
     "name": "stdout",
     "output_type": "stream",
     "text": [
      "All go related titles:1167\n",
      "All go related titles that has word 'go':762\n",
      "All the non go related titles that has go in them:1345\n"
     ]
    }
   ],
   "source": [
    "print(\"All go related titles:%s\\nAll go related titles that has word 'go':%s\\nAll the non go related titles that has go in them:%s\"%(len(all_go_sentence_array), len(detectable), len(non_detectable)))"
   ]
  },
  {
   "cell_type": "code",
   "execution_count": 78,
   "metadata": {},
   "outputs": [],
   "source": [
    "def has_go_lang_2(doc):\n",
    "    for token in doc:\n",
    "        if token.lower_ in [\"go\", \"golang\"]:\n",
    "            if token.pos_!=\"VERB\":\n",
    "                #if token.dep_==\"pobj\":\n",
    "                 return True\n",
    "    return False\n"
   ]
  },
  {
   "cell_type": "code",
   "execution_count": 80,
   "metadata": {},
   "outputs": [],
   "source": [
    "correct = sum(has_go_lang_2(doc) for doc in nlp.pipe(detectable))\n",
    "wrong = sum(has_go_lang_2(doc) for doc in nlp.pipe(non_detectable))"
   ]
  },
  {
   "cell_type": "code",
   "execution_count": 77,
   "metadata": {},
   "outputs": [
    {
     "name": "stdout",
     "output_type": "stream",
     "text": [
      "accuracy:0.7593735168485999, recall:0.3543307086614173, precision:0.9473684210526315\n"
     ]
    }
   ],
   "source": [
    "### benchmarking\n",
    "precision = correct/(correct+wrong)\n",
    "recall = correct/len(detectable)\n",
    "accuracy = (correct+len(non_detectable)-wrong)/(len(detectable)+len(non_detectable))\n",
    "print('accuracy:%s, recall:%s, precision:%s' % (accuracy, recall, precision)) \n"
   ]
  },
  {
   "cell_type": "code",
   "execution_count": 81,
   "metadata": {},
   "outputs": [
    {
     "name": "stdout",
     "output_type": "stream",
     "text": [
      "accuracy:0.8713811105837684, recall:0.7139107611548556, precision:0.9112227805695142\n"
     ]
    }
   ],
   "source": [
    "precision = correct/(correct+wrong)\n",
    "recall = correct/len(detectable)\n",
    "accuracy = (correct+len(non_detectable)-wrong)/(len(detectable)+len(non_detectable))\n",
    "print('accuracy:%s, recall:%s, precision:%s' % (accuracy, recall, precision)) \n"
   ]
  },
  {
   "cell_type": "code",
   "execution_count": 57,
   "metadata": {},
   "outputs": [],
   "source": [
    "# for matching with items spanning over multiple tokens like `objective-C`\n",
    "from spacy.matcher import Matcher\n",
    "obj_c_pattern1 = [{\"LOWER\":\"objective\"},\n",
    "                 {\"IS_PUNCT\":True, \"OP\":\"?\"}, \n",
    "                 {\"LOWER\":\"c\"}]\n",
    "obj_c_pattern2 = [{\"LOWER\": \"objectivec\"}]\n",
    "goland_pattern1 = [{\"LOWER\":\"golang\"}]\n",
    "goland_pattern2 = [{\"LOWER\":\"go\",\n",
    "                    \"POS\":{\"NOT_IN\":['VERB']}}]\n",
    "python_pattern = [{\"LOWER\":\"python\"}]\n",
    "ruby_pattern = [{\"LOWER\":\"ruby\"}]\n",
    "js_pattern = [{\"LOWER\":{\"IN\":[\"js\", \"javascript\"]}}]\n",
    "java_pattern = [{\"LOWER\":\"java\"}]\n",
    "\n",
    "matcher = Matcher(nlp.vocab)\n",
    "matcher.add(\"OBJ_C_LANG\", [obj_c_pattern1, obj_c_pattern2])\n",
    "matcher.add(\"GOLANG_LANG\", [goland_pattern1,goland_pattern2])\n",
    "matcher.add(\"PYTHON_LANG\",[python_pattern])\n",
    "matcher.add(\"RUBY_LANG\",[ruby_pattern])\n",
    "matcher.add(\"JS_LANG\",[js_pattern])\n",
    "matcher.add(\"JAVA_LANG\",[java_pattern])"
   ]
  },
  {
   "cell_type": "code",
   "execution_count": 59,
   "metadata": {},
   "outputs": [
    {
     "name": "stdout",
     "output_type": "stream",
     "text": [
      "Where'd my generic ActionLink go?\n",
      "Where does Console.WriteLine go in ASP.NET?\n",
      "Should try...catch go inside or outside a loop?\n",
      "Way to go from recursion to iteration\n",
      "With wicket where does hibernate.cfg.xml file go?\n",
      "When are API methods marked \"deprecated\" actually going to go away?\n",
      "How to go to main stack\n",
      "In Mac OS X, is there a programmatic way to get the machine to go to sleep/hibernate?\n",
      "How to Convince Programming Team to Let Go of Old Ways?\n",
      "When working with domain models and POCO classes, where do queries go?\n",
      "Is .NET already the right way to go for small app development?\n",
      "Go to the end of the C++ function in Vim\n",
      "Make multiple monitors go to sleep with Windows API?\n",
      "Where to go to browse for open source projects to work on?\n",
      "Can I append an Ajax requestXML object to my document tree all in one go?\n",
      "Should we go open-source?\n",
      "SQL Server 2008 - Go From Select to Edit Quickly\n",
      "How can i connect MySQL database with objective project?\n",
      "preg_replace(), and the abbreviations that go with it?\n",
      "pl/sql Stored procedure... where does the execution time go?\n",
      "How should I go about writing a Joomla! template?\n",
      "'app --help' should go to stdout or stderr?\n",
      "Including Objective C++ Type in C++ Class Definition\n",
      "Exception handling: how granular would you go when it comes to argument validation?\n",
      "Best way in Oracle to go from this data to this result\n",
      "Is it possible to go into ipython from code?\n",
      "__OBJC__ equivalent for Objective-C++\n",
      "If writing your own authentication, does authenticate() go in the application_controller?\n",
      "Aspect ratios - how to go about them? (D3D viewport setup)\n",
      "Intercepting requests before they go to the controller in an annotation-based Spring web-app\n",
      "Where should I go to ramp up to complex .NET 3.5 and WPF applications coming from a .NET 2.0/WinForms background?\n",
      "Working Solo On Small Projects: Cowboy Coding The Way To Go?\n",
      "Can an STL map iterator go out of bounds through incrementing?\n",
      "When debugging on Windows where does stderr go?\n",
      "How do I go about becoming an organized programmer?\n",
      "Why does my comboBox go blank after selecting a value?\n",
      "vs.net go to parent class (shortcut)\n",
      "go back to the first form in windows mobile application\n",
      "Paypal integration to serve multiple sellers in one go for a shopping site\n"
     ]
    }
   ],
   "source": [
    "lang_gen = (doc for doc in nlp.pipe(titles) if any([t.lower_ in [\"go\", \"java\", \"objective\",\"python\",\"ruby\"] for t in doc]) is True)\n",
    "for i in range(2000):\n",
    "    doc = next(lang_gen)\n",
    "    if len(matcher(doc)) == 0:\n",
    "        print(doc)"
   ]
  },
  {
   "cell_type": "code",
   "execution_count": 44,
   "metadata": {},
   "outputs": [
    {
     "name": "stdout",
     "output_type": "stream",
     "text": [
      "Having to set objectives for developers, even though objectives don't work\n",
      "How can i connect MySQL database with objective project?\n",
      "Downloading multiple files in iphone app(Objective c)\n",
      "Including Objective C++ Type in C++ Class Definition\n",
      "Storing UIImages with ObjectiveRecord and ObjectiveSync\n",
      "__OBJC__ equivalent for Objective-C++\n",
      "iPhone Device/Simulator memory oddities using Objective-C++\n",
      "How well is Objective-J documented? Is the documentation good enough to start using it seriously?\n"
     ]
    }
   ],
   "source": [
    "for _ in range(200):\n",
    "    doc= nlp(next(lang_gen))\n",
    "    if(len(matcher(doc)) == 0):\n",
    "        print(doc)\n",
    "    "
   ]
  },
  {
   "cell_type": "code",
   "execution_count": 48,
   "metadata": {},
   "outputs": [
    {
     "data": {
      "text/plain": [
       "[Downloading, multiple, files, in, iphone, app(Objective, c, )]"
      ]
     },
     "execution_count": 48,
     "metadata": {},
     "output_type": "execute_result"
    }
   ],
   "source": [
    "[token for token in nlp('Downloading multiple files in iphone app(Objective c)')]"
   ]
  },
  {
   "cell_type": "markdown",
   "metadata": {},
   "source": [
    "## MORE MODEL BASED APPROACH"
   ]
  },
  {
   "cell_type": "code",
   "execution_count": null,
   "metadata": {},
   "outputs": [],
   "source": []
  }
 ],
 "metadata": {
  "kernelspec": {
   "display_name": "tensorflow_dev",
   "language": "python",
   "name": "tf_dev"
  },
  "language_info": {
   "codemirror_mode": {
    "name": "ipython",
    "version": 3
   },
   "file_extension": ".py",
   "mimetype": "text/x-python",
   "name": "python",
   "nbconvert_exporter": "python",
   "pygments_lexer": "ipython3",
   "version": "3.7.7"
  },
  "varInspector": {
   "cols": {
    "lenName": 16,
    "lenType": 16,
    "lenVar": 40
   },
   "kernels_config": {
    "python": {
     "delete_cmd_postfix": "",
     "delete_cmd_prefix": "del ",
     "library": "var_list.py",
     "varRefreshCmd": "print(var_dic_list())"
    },
    "r": {
     "delete_cmd_postfix": ") ",
     "delete_cmd_prefix": "rm(",
     "library": "var_list.r",
     "varRefreshCmd": "cat(var_dic_list()) "
    }
   },
   "types_to_exclude": [
    "module",
    "function",
    "builtin_function_or_method",
    "instance",
    "_Feature"
   ],
   "window_display": false
  }
 },
 "nbformat": 4,
 "nbformat_minor": 2
}
