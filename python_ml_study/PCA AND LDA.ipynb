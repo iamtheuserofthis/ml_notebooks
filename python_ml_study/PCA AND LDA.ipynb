{
 "cells": [
  {
   "cell_type": "markdown",
   "metadata": {},
   "source": [
    "## Dimension Reduction\n",
    "Highdimensional datasets are at risk of being very sparse: most training instances are likely to be far away from each other. Of course, this also means that a new instance will likely be far away from any training instance, making predictions much less reliable than in lower dimensions, since they will be based on much larger  extrapolations.\n",
    "\n",
    "Reasons for dimensionlity reduction:\n",
    "1. Data Compression\n",
    "2. Speeding up the learining process"
   ]
  },
  {
   "cell_type": "markdown",
   "metadata": {},
   "source": [
    "### Approaches For Dimension Reduction\n",
    "\n",
    "#### Projection\n",
    "In most real-world problems, training instances are not spread out uniformly across all dimensions. Many features are almost constant, while others are highly correlated. All training instances actually lie within (or close to) a much lower-dimensional subspace of the high-dimensional space. \n",
    "If we project every training instance perpendicularly onto this subspace (as represented by the short lines con‐\n",
    "necting the instances to the plane), we get the new 2D dataset. The two axis of new 2-D plan will be different from the original plane.\n",
    "\n",
    "<table>\n",
    "    <tr>\n",
    "        <td><img src=\"../notes_images/dimen_red_projection1.png\" width=300 height=350></td>\n",
    "        <td><img src=\"../notes_images/dimen_red_projection2.png\" width=300 height=350></td>\n",
    "    </tr>\n",
    "    <tr>\n",
    "        <td>3D projection close to 2D subspace</td>\n",
    "        <td>Projected on 2D subspaces</td>\n",
    "    </tr>\n",
    "</table>\n",
    "\n",
    "However, projection is not always the best approach to dimensionality reduction. In many cases the subspace may twist and turn, such as in the famous Swiss roll toy dataset.\n",
    "Simply projecting onto a plane (e.g., by dropping x 3 ) would squash different layers of the Swiss roll together.\n",
    "\n",
    "<img src=\"../notes_images/swiss_role_ds.png\" width=300 height=350>\n",
    "swiss role dataset \n",
    "<img src=\"../notes_images/squished_swiss_role.png\" width=500 height=350>\n",
    "Squished swiss role\n"
   ]
  },
  {
   "cell_type": "markdown",
   "metadata": {},
   "source": [
    "## Manifold Learning\n",
    "\n",
    "A 2D manifold is a 2D shape that can be bent and twisted in a higher-dimensional space. More generally, a\n",
    "d-dimensional manifold is a part of an n-dimensional space (where d < n) that locally resembles a d-dimensional hyperplane.\n",
    "\n",
    "In the case of the Swiss roll, d = 2 and n = 3: it locally resembles a 2D plane, but it is rolled in the third dimension.\n",
    "\n",
    "Many dimensionality reduction algorithms work by modeling the manifold on which the training instances lie; this is called Manifold Learning. It relies on the manifold assumption, also called the manifold hypothesis, which holds that most real-world high-dimensional datasets lie close to a much lower-dimensional manifold. This\n",
    "assumption is very often empirically observed."
   ]
  },
  {
   "cell_type": "markdown",
   "metadata": {},
   "source": [
    "## PCA\n",
    "\n",
    "Principal Component Analysis (PCA) is by far the most popular dimensionality reduction algorithm. First it identifies the hyperplane that lies closest to the data, and then it projects the data onto it.\n",
    "\n",
    "The PCA tries to calculate a projection plane, so as to minimize the projction error of all the data points.\n",
    "\n",
    "** Common practise is to calculate mean and standardize the dataset.\n",
    "\n",
    "In general it first finds the `k` vectors $u^{(1)},u^{(2)},u^{(3)},...u^{(k)}$ from n vectors, onto which to project the data so as to minimize the projection error.\n",
    "\n",
    "These `k` vectors are the vectors that __preserve the most variance__, as it will most likely lose less information than the other projections. \n",
    "\n",
    "Another way to justify this choice is that it is the axis that __minimizes the mean squared distance__ between the original dataset and its projection onto that axis.\n",
    "\n",
    "PCA identifies the axis that accounts for the largest amount of variance in the training set. \n",
    "\n",
    "It also finds a second axis, orthogonal to the first one, that accounts for the largest amount of remaining variance. \n",
    "\n",
    "If it were a higher-dimensional dataset, PCA would also find a third axis, orthogonal to both previous axes, and a fourth and fifth, and so on—as many axes as the number of dimensions in the dataset.\n",
    "\n",
    "There exists a technique called SVD(Single Value Decomposition) that factorises(or decomposes) the matrix `X` into the multiplication of three vectors $U\\sum V^T$. Where V contains all the PCs(Principle Components)\n",
    "\n",
    "Procedure to calculate Principle Component Analysis algorithm:\n",
    "\n",
    "1. Reduce data from n-dimensions to k-dimensions.\n",
    "2. Compute `covariance matrix`\n",
    "\n",
    "$$\\sum = \\frac{1}{m}\\sum_{i=1}^{n} (x^{(i)})(x^{(i)})^{T}$$\n",
    "\n",
    "3. Compute eigenvectors of matrix $\\sum$:\n",
    "\n",
    "    [u,s,v] = svd(Sigma)  ,where svd = singular value decomposition\n",
    "\n",
    "#### Steps to calculate PCA:\n",
    "1. Standardize the data.\n",
    "2. "
   ]
  },
  {
   "cell_type": "code",
   "execution_count": 4,
   "metadata": {},
   "outputs": [],
   "source": [
    "from sklearn.datasets import load_wine\n",
    "from sklearn.model_selection import train_test_split\n",
    "from sklearn.preprocessing import StandardScaler\n",
    "import numpy as np\n",
    "import pandas as pd\n",
    "wine_ds = load_wine()\n",
    "\n",
    "X_train, X_test, y_train, y_test = train_test_split(wine_ds['data'], wine_ds['target'])\n"
   ]
  },
  {
   "cell_type": "code",
   "execution_count": 5,
   "metadata": {},
   "outputs": [],
   "source": [
    "#1.Standardization\n",
    "std_sca = StandardScaler()\n",
    "X_train_norm = std_sca.fit_transform(X_train)"
   ]
  },
  {
   "cell_type": "markdown",
   "metadata": {},
   "source": [
    "### Covariance Matrix\n",
    "$$\\sum = \\frac{\\big((X - \\bar{x})^T (X - \\bar{x})\\big)}{n-1}$$\n",
    "\n",
    "where, $\\bar{x} = \\frac{1}{n}\\sum_{i=1}^{n}x_i$\n",
    "\n",
    "### EigenVectors vs EigenValues \n",
    "The vectors that are not knocked off from their basis vector before/after the transformations they are merely squished or streched.\n",
    "\n",
    "If roation operation is performed on a 3D space, then if eigen value remains unchanged than its the axis of that rotation.\n",
    "\n",
    "$$A\\vec{v} = \\lambda \\vec{v}$$\n",
    "$$det(\\vec{v}(A  - I\\lambda)) = 0$$\n"
   ]
  },
  {
   "cell_type": "code",
   "execution_count": 11,
   "metadata": {},
   "outputs": [],
   "source": [
    "mean_vec = np.mean(X_train_norm,axis=0)\n",
    "cov_mat = (X_train_norm - mean_vec).T.dot((X_train_norm - mean_vec))/(X_train_norm.shape[0]-1)"
   ]
  },
  {
   "cell_type": "code",
   "execution_count": 17,
   "metadata": {},
   "outputs": [],
   "source": [
    "eig_val, eig_vecs = np.linalg.eig(cov_mat)"
   ]
  },
  {
   "cell_type": "markdown",
   "metadata": {},
   "source": [
    "### Correlation Matrix\n",
    "Especially, in the field of “Finance,” the correlation matrix typically used instead of the covariance matrix. However, the eigendecomposition of the covariance matrix (if the input data was standardized) yields the same results as a eigendecomposition on the correlation matrix, since the correlation matrix can be understood as the normalized covariance matrix.\n",
    "This yields the same result in this case.\n",
    "\n",
    "In probability theory and statistics, a covariance matrix (also known as auto-covariance matrix, dispersion matrix, variance matrix, or variance–covariance matrix) is a square matrix giving the covariance between each pair of elements of a given random vector. Any covariance matrix is symmetric and positive semi-definite and its main diagonal contains variances "
   ]
  },
  {
   "cell_type": "code",
   "execution_count": 19,
   "metadata": {},
   "outputs": [
    {
     "name": "stdout",
     "output_type": "stream",
     "text": [
      "(13, 13)\n"
     ]
    }
   ],
   "source": [
    "u,s,v = np.linalg.svd(X_train_norm.T)\n",
    "print(u.shape) #eigen vectors"
   ]
  },
  {
   "cell_type": "markdown",
   "metadata": {},
   "source": [
    "#### Sorting Eigen Pairs\n",
    "The typical goal of a PCA is to reduce the dimensionality of the original feature space by projecting it onto a smaller subspace, where the eigenvectors will form the axes. However, the eigenvectors only define the directions of the new axis, since they have all the same unit length 1.\n",
    "\n",
    "In order to decide which eigenvector(s) can dropped without losing too much information for the construction of lower-dimensional subspace, we need to inspect the corresponding eigenvalues: The eigenvectors with the lowest eigenvalues bear the least information about the distribution of the data; those are the ones can be dropped.\n",
    "In order to do so, the common approach is to rank the eigenvalues from highest to lowest in order choose the top k eigenvectors."
   ]
  },
  {
   "cell_type": "code",
   "execution_count": 25,
   "metadata": {},
   "outputs": [],
   "source": [
    "eig_pairs = [(eig_val[i], eig_vecs[:,i]) for i in range(len(eig_val))]"
   ]
  },
  {
   "cell_type": "code",
   "execution_count": 30,
   "metadata": {},
   "outputs": [],
   "source": [
    "eig_pairs.sort(key=lambda x: x[0], reverse=True)"
   ]
  },
  {
   "cell_type": "code",
   "execution_count": 33,
   "metadata": {},
   "outputs": [],
   "source": [
    "total = sum(eig_val)\n",
    "var_exp = [(val[0]/total) for val in eig_pairs]"
   ]
  },
  {
   "cell_type": "code",
   "execution_count": 37,
   "metadata": {},
   "outputs": [],
   "source": [
    "cs=np.cumsum(var_exp)"
   ]
  },
  {
   "cell_type": "code",
   "execution_count": 36,
   "metadata": {},
   "outputs": [],
   "source": [
    "from matplotlib import pyplot as plt"
   ]
  },
  {
   "cell_type": "code",
   "execution_count": 44,
   "metadata": {},
   "outputs": [
    {
     "data": {
      "text/plain": [
       "[<matplotlib.lines.Line2D at 0x7f09f7d2b310>]"
      ]
     },
     "execution_count": 44,
     "metadata": {},
     "output_type": "execute_result"
    },
    {
     "data": {
      "image/png": "[encoded data removed]",
      "text/plain": [
       "<Figure size 432x288 with 1 Axes>"
      ]
     },
     "metadata": {
      "needs_background": "light"
     },
     "output_type": "display_data"
    }
   ],
   "source": [
    "plt.plot(cs)\n"
   ]
  },
  {
   "cell_type": "markdown",
   "metadata": {},
   "source": [
    "### Projection Matrix\n",
    "It’s about time to get to the really interesting part: The  construction of the projection matrix that will be used to transform the Iris data onto the new feature subspace. Although, the name “projection matrix” has a nice ring to it, it is basically just a matrix of our concatenated top k eigenvectors.\n",
    "\n",
    "If we want 4 features i.e. around 80% variance explanation. We use:\n",
    "\n",
    "X.shape = (m x features)\n",
    "\n",
    "X(m x features) DOT EigVec(features x 4)"
   ]
  },
  {
   "cell_type": "code",
   "execution_count": 50,
   "metadata": {},
   "outputs": [],
   "source": [
    "proj_matrix = np.hstack((eig_pairs[0][1].reshape(13,1),\n",
    "eig_pairs[0][1].reshape(13,1),\n",
    "eig_pairs[0][1].reshape(13,1),\n",
    "eig_pairs[0][1].reshape(13,1)))"
   ]
  },
  {
   "cell_type": "code",
   "execution_count": 52,
   "metadata": {},
   "outputs": [],
   "source": [
    "new_feats = X_train_norm.dot(proj_matrix)"
   ]
  },
  {
   "cell_type": "code",
   "execution_count": 54,
   "metadata": {},
   "outputs": [],
   "source": [
    "# doing the same with sklearn\n",
    "from sklearn.decomposition import PCA\n",
    "sklearn_pca = PCA(n_components=4)\n",
    "new_feats_sk = sklearn_pca.fit_transform(X_train_norm)"
   ]
  },
  {
   "cell_type": "code",
   "execution_count": 58,
   "metadata": {},
   "outputs": [
    {
     "data": {
      "text/plain": [
       "array([0.37087359, 0.20293922, 0.10839221, 0.06717944])"
      ]
     },
     "execution_count": 58,
     "metadata": {},
     "output_type": "execute_result"
    }
   ],
   "source": [
    "sklearn_pca.explained_variance_ratio_"
   ]
  },
  {
   "cell_type": "markdown",
   "metadata": {},
   "source": [
    "# Linear Discriminant Analysis\n",
    "\n",
    "PCA is unsupervised and LDA is supervised."
   ]
  },
  {
   "cell_type": "code",
   "execution_count": null,
   "metadata": {},
   "outputs": [],
   "source": []
  }
 ],
 "metadata": {
  "kernelspec": {
   "display_name": "tensorflow_dev",
   "language": "python",
   "name": "tf_dev"
  },
  "language_info": {
   "codemirror_mode": {
    "name": "ipython",
    "version": 3
   },
   "file_extension": ".py",
   "mimetype": "text/x-python",
   "name": "python",
   "nbconvert_exporter": "python",
   "pygments_lexer": "ipython3",
   "version": "3.7.7"
  },
  "varInspector": {
   "cols": {
    "lenName": 16,
    "lenType": 16,
    "lenVar": 40
   },
   "kernels_config": {
    "python": {
     "delete_cmd_postfix": "",
     "delete_cmd_prefix": "del ",
     "library": "var_list.py",
     "varRefreshCmd": "print(var_dic_list())"
    },
    "r": {
     "delete_cmd_postfix": ") ",
     "delete_cmd_prefix": "rm(",
     "library": "var_list.r",
     "varRefreshCmd": "cat(var_dic_list()) "
    }
   },
   "types_to_exclude": [
    "module",
    "function",
    "builtin_function_or_method",
    "instance",
    "_Feature"
   ],
   "window_display": false
  }
 },
 "nbformat": 4,
 "nbformat_minor": 2
}
