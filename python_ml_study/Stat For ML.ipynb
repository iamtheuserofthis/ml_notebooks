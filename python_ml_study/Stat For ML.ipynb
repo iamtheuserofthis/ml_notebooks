{
 "cells": [
  {
   "cell_type": "markdown",
   "metadata": {},
   "source": [
    "## Statistics Basics\n",
    "\n"
   ]
  },
  {
   "cell_type": "markdown",
   "metadata": {},
   "source": [
    "### BIAS\n",
    "Bias is the error in estimates due to systematic mistakes that lead to consistently high or low results as compared to the actual values.\n",
    "\n",
    "The individual bias of an estimate known to be biased is the difference between the estimated and actual values.\n",
    "If the estimate is not known to be biased, the difference could also be due to random error or other inaccuracies. Contrary to bias, which always acts in one direction, these errors can be positive or negative.\n",
    "\n",
    "When estimates are biased they are consistently wrong in one direction due to mistakes in the system used for the estimates If the forecast method is unbiased, it may still predict temperatures that are not correct, but the incorrect temperatures will sometimes be higher and sometimes lower than the temperatures observed.the bias is the difference between the mean of the distribution and the actual value. If there is bias, there will always be a difference even though some individual estimates may fall either side of the actual value.\n"
   ]
  },
  {
   "cell_type": "code",
   "execution_count": null,
   "metadata": {},
   "outputs": [],
   "source": []
  }
 ],
 "metadata": {
  "kernelspec": {
   "display_name": "tensorflow_dev",
   "language": "python",
   "name": "tf_dev"
  },
  "language_info": {
   "codemirror_mode": {
    "name": "ipython",
    "version": 3
   },
   "file_extension": ".py",
   "mimetype": "text/x-python",
   "name": "python",
   "nbconvert_exporter": "python",
   "pygments_lexer": "ipython3",
   "version": "3.7.7"
  },
  "varInspector": {
   "cols": {
    "lenName": 16,
    "lenType": 16,
    "lenVar": 40
   },
   "kernels_config": {
    "python": {
     "delete_cmd_postfix": "",
     "delete_cmd_prefix": "del ",
     "library": "var_list.py",
     "varRefreshCmd": "print(var_dic_list())"
    },
    "r": {
     "delete_cmd_postfix": ") ",
     "delete_cmd_prefix": "rm(",
     "library": "var_list.r",
     "varRefreshCmd": "cat(var_dic_list()) "
    }
   },
   "types_to_exclude": [
    "module",
    "function",
    "builtin_function_or_method",
    "instance",
    "_Feature"
   ],
   "window_display": false
  }
 },
 "nbformat": 4,
 "nbformat_minor": 2
}
