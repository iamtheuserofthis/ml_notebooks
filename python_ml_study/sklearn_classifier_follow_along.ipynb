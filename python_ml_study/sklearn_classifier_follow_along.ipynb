{
 "cells": [
  {
   "cell_type": "markdown",
   "metadata": {},
   "source": [
    "### Classification Tasks\n"
   ]
  },
  {
   "cell_type": "code",
   "execution_count": 1,
   "metadata": {
    "ExecuteTime": {
     "end_time": "2021-01-05T10:24:35.054560Z",
     "start_time": "2021-01-05T10:24:33.063451Z"
    }
   },
   "outputs": [],
   "source": [
    "import pandas as pd\n",
    "import numpy as np"
   ]
  },
  {
   "cell_type": "code",
   "execution_count": 2,
   "metadata": {
    "ExecuteTime": {
     "end_time": "2021-01-05T10:24:51.485072Z",
     "start_time": "2021-01-05T10:24:35.065328Z"
    }
   },
   "outputs": [
    {
     "data": {
      "text/plain": [
       "dict_keys(['data', 'target', 'frame', 'categories', 'feature_names', 'target_names', 'DESCR', 'details', 'url'])"
      ]
     },
     "execution_count": 2,
     "metadata": {},
     "output_type": "execute_result"
    }
   ],
   "source": [
    "from sklearn.datasets import fetch_openml\n",
    "mnist = fetch_openml('mnist_784', version=1)\n",
    "mnist.keys()"
   ]
  },
  {
   "cell_type": "code",
   "execution_count": 3,
   "metadata": {
    "ExecuteTime": {
     "end_time": "2021-01-05T10:24:51.495880Z",
     "start_time": "2021-01-05T10:24:51.489748Z"
    }
   },
   "outputs": [],
   "source": [
    "# splitting the data \n",
    "X,y = mnist[\"data\"], mnist[\"target\"]\n",
    "y  = y.astype('uint8')\n",
    "\n",
    "X_train, X_test, y_train, y_test = X[:60000],X[60000:],y[:60000],y[60000:]"
   ]
  },
  {
   "cell_type": "code",
   "execution_count": 2,
   "metadata": {
    "ExecuteTime": {
     "end_time": "2021-01-05T10:24:52.375047Z",
     "start_time": "2021-01-05T10:24:51.546275Z"
    }
   },
   "outputs": [],
   "source": [
    "import matplotlib as mpl\n",
    "import matplotlib.pyplot as plt"
   ]
  },
  {
   "cell_type": "code",
   "execution_count": 5,
   "metadata": {
    "ExecuteTime": {
     "end_time": "2021-01-05T10:24:52.384556Z",
     "start_time": "2021-01-05T10:24:52.382601Z"
    }
   },
   "outputs": [],
   "source": [
    "# dig = X[0]\n",
    "# img = dig.reshape(28,28)\n",
    "# plt.imshow(img, cmap=mpl.cm.binary, interpolation='nearest')\n",
    "# plt.axis(\"off\")\n",
    "# print('')"
   ]
  },
  {
   "cell_type": "code",
   "execution_count": 6,
   "metadata": {
    "ExecuteTime": {
     "end_time": "2021-01-05T10:24:52.475734Z",
     "start_time": "2021-01-05T10:24:52.390859Z"
    }
   },
   "outputs": [],
   "source": [
    "#Converting and training the problem for binary classifier\n",
    "y_train_5 = (y_train==5)\n",
    "y_test_5  = (y_test==5)"
   ]
  },
  {
   "cell_type": "code",
   "execution_count": 7,
   "metadata": {
    "ExecuteTime": {
     "end_time": "2021-01-05T10:25:07.414536Z",
     "start_time": "2021-01-05T10:24:52.499323Z"
    }
   },
   "outputs": [
    {
     "data": {
      "text/plain": [
       "SGDClassifier(random_state=42)"
      ]
     },
     "execution_count": 7,
     "metadata": {},
     "output_type": "execute_result"
    }
   ],
   "source": [
    "from sklearn.linear_model import SGDClassifier\n",
    "sgd_clf = SGDClassifier(random_state=42)\n",
    "sgd_clf.fit(X_train, y_train_5)"
   ]
  },
  {
   "cell_type": "code",
   "execution_count": 8,
   "metadata": {
    "ExecuteTime": {
     "end_time": "2021-01-05T10:25:07.422251Z",
     "start_time": "2021-01-05T10:25:07.420493Z"
    }
   },
   "outputs": [],
   "source": [
    "some_digits = X_test[:100]\n",
    "some_labels = y_test_5[:100]\n",
    "some_labels_real = y_test[:100]\n",
    "# preds = sgd_clf.predict(some_digits)"
   ]
  },
  {
   "cell_type": "markdown",
   "metadata": {},
   "source": [
    "### Measuring Accuracy & Cross-Validation\n",
    "Accuracy is generally not the preferred performance measure for classifiers, especially when you are dealing with skewed datasets (i.e., when some classes are much more frequent than others).\n",
    "\n",
    "#### Confusion Matrix\n",
    "Each row in a confusion matrix represents an actual class, while each column represents a predicted class\n",
    "\n",
    "|--|Predicted FALSE|Predicted TRUE|\n",
    "|--|-------------------------|------------------------|\n",
    "|ACTUAL FALSE|False And Predicted False|False But Predicted True|\n",
    "|ACTUAL TRUE|True But predicted False|True AND Predicted True|\n",
    "\n",
    "__FORMALLY__:\n",
    "\n",
    "|-|-|Predicted|-|\n",
    "|-|-|--------------|----------------|\n",
    "|-|-|Negative|Positive|\n",
    "|Actual|Negative|True Negatives(TN)| False Positives(FP)|\n",
    "|-|Positive|False Negatives(FN)| True Positives(TP)|\n",
    "\n",
    "1. precision = $\\frac{TP}{TP+FP}$\n",
    "\n",
    "2. Recall, Sensitivity or True Positive Rate:\n",
    "   \n",
    "   recall = $\\frac{TP}{TP+FN}$\n",
    "\n",
    "**F1 Score**\n",
    "* Metric that combines precision and recall into one\n",
    "* It is the harmonic mean of precision and recall\n",
    "* Regular mean treats all the values equally but harmonic mean gives more weight to low values.\n",
    "* High F1 values when both precision and recall are high\n",
    "\n",
    "$$F_{1} = \\frac{2}{\\frac{1}{precision}+\\frac{1}{recall}} = 2 \\times \\frac{precision \\times recall}{precision+recall} = \\frac{TP}{TP + \\frac{FN+FP}{2}}$$\n",
    "\n",
    "#### Characterstics\n",
    "1. The F1 score favours classifiers having the similar values of precision and recall.\n",
    "\n",
    "2. In some cases we prefer high precision such as censoring videos.\n",
    "\n",
    "3. High recall where we don't mind false alarms. Such as shop-lifting detection etc.\n",
    "\n",
    "4. Both cannot be increased simultaneously, its called *precision/recall tradeoff*"
   ]
  },
  {
   "cell_type": "code",
   "execution_count": 9,
   "metadata": {
    "ExecuteTime": {
     "end_time": "2021-01-05T10:25:30.702098Z",
     "start_time": "2021-01-05T10:25:07.428959Z"
    }
   },
   "outputs": [
    {
     "name": "stdout",
     "output_type": "stream",
     "text": [
      "0.9669\n",
      "0.91625\n",
      "0.96785\n"
     ]
    }
   ],
   "source": [
    "## Cross validation implementation\n",
    "from sklearn.model_selection import StratifiedKFold\n",
    "from sklearn.base import clone\n",
    "skfolds = StratifiedKFold(n_splits=3, random_state=42, shuffle=True)\n",
    "\n",
    "for train_index, test_index in skfolds.split(X_train, y_train_5):\n",
    "    \n",
    "    clone_clf = clone(sgd_clf)\n",
    "    X_train_folds = X_train[train_index]\n",
    "    y_train_folds = y_train_5[train_index]\n",
    "    X_test_folds = X_train[test_index]\n",
    "    y_test_folds = y_train_5[test_index]\n",
    "    \n",
    "    clone_clf.fit(X_train_folds, y_train_folds)\n",
    "    y_pred = clone_clf.predict(X_test_folds)\n",
    "    n_correct = sum(y_pred==y_test_folds)\n",
    "    print(n_correct/len(y_pred))\n",
    "    "
   ]
  },
  {
   "cell_type": "code",
   "execution_count": 3,
   "metadata": {
    "ExecuteTime": {
     "end_time": "2021-01-05T10:25:49.004482Z",
     "start_time": "2021-01-05T10:25:30.715404Z"
    }
   },
   "outputs": [
    {
     "ename": "NameError",
     "evalue": "name 'sgd_clf' is not defined",
     "output_type": "error",
     "traceback": [
      "\u001b[0;31m---------------------------------------------------------------------------\u001b[0m",
      "\u001b[0;31mNameError\u001b[0m                                 Traceback (most recent call last)",
      "\u001b[0;32m<ipython-input-3-3ae488fe1fe7>\u001b[0m in \u001b[0;36m<module>\u001b[0;34m\u001b[0m\n\u001b[1;32m      1\u001b[0m \u001b[0;32mfrom\u001b[0m \u001b[0msklearn\u001b[0m\u001b[0;34m.\u001b[0m\u001b[0mmodel_selection\u001b[0m \u001b[0;32mimport\u001b[0m \u001b[0mcross_val_predict\u001b[0m\u001b[0;34m\u001b[0m\u001b[0;34m\u001b[0m\u001b[0m\n\u001b[0;32m----> 2\u001b[0;31m \u001b[0my_train_pred\u001b[0m \u001b[0;34m=\u001b[0m \u001b[0mcross_val_predict\u001b[0m\u001b[0;34m(\u001b[0m\u001b[0msgd_clf\u001b[0m\u001b[0;34m,\u001b[0m \u001b[0mX_train\u001b[0m\u001b[0;34m,\u001b[0m \u001b[0my_train_5\u001b[0m\u001b[0;34m,\u001b[0m \u001b[0mcv\u001b[0m\u001b[0;34m=\u001b[0m\u001b[0;36m3\u001b[0m\u001b[0;34m)\u001b[0m\u001b[0;34m\u001b[0m\u001b[0;34m\u001b[0m\u001b[0m\n\u001b[0m",
      "\u001b[0;31mNameError\u001b[0m: name 'sgd_clf' is not defined"
     ]
    }
   ],
   "source": [
    "from sklearn.model_selection import cross_val_predict\n",
    "y_train_pred = cross_val_predict(sgd_clf, X_train, y_train_5, cv=3)"
   ]
  },
  {
   "cell_type": "code",
   "execution_count": 11,
   "metadata": {
    "ExecuteTime": {
     "end_time": "2021-01-05T10:25:49.088333Z",
     "start_time": "2021-01-05T10:25:49.024801Z"
    }
   },
   "outputs": [
    {
     "data": {
      "text/plain": [
       "array([[53892,   687],\n",
       "       [ 1891,  3530]])"
      ]
     },
     "execution_count": 11,
     "metadata": {},
     "output_type": "execute_result"
    }
   ],
   "source": [
    "from sklearn.metrics import confusion_matrix\n",
    "confusion_matrix(y_train_5,y_train_pred)"
   ]
  },
  {
   "cell_type": "markdown",
   "metadata": {},
   "source": [
    "Just like the ```cross_val_score()``` function, ```cross_val_predict()``` performs K-fold\n",
    "cross-validation, but instead of returning the evaluation scores, it returns the prediction made on each test fold. This means that you get a clean prediction for each instance in the training set (“clean” meaning that the prediction is made by a model that never saw the data during training)."
   ]
  },
  {
   "cell_type": "code",
   "execution_count": 12,
   "metadata": {
    "ExecuteTime": {
     "end_time": "2021-01-05T10:25:49.157261Z",
     "start_time": "2021-01-05T10:25:49.102778Z"
    }
   },
   "outputs": [
    {
     "name": "stdout",
     "output_type": "stream",
     "text": [
      "precision score: 0.8370879772350012\n",
      "recall score: 0.6511713705958311\n",
      "f1 score: 0.7325171197343846\n"
     ]
    }
   ],
   "source": [
    "from sklearn.metrics import precision_score, recall_score, f1_score\n",
    "print('precision score:',precision_score(y_train_5, y_train_pred))\n",
    "print('recall score:', recall_score(y_train_5, y_train_pred))\n",
    "print('f1 score:', f1_score(y_train_5, y_train_pred))"
   ]
  },
  {
   "cell_type": "code",
   "execution_count": 13,
   "metadata": {
    "ExecuteTime": {
     "end_time": "2021-01-05T10:25:49.196287Z",
     "start_time": "2021-01-05T10:25:49.171262Z"
    }
   },
   "outputs": [],
   "source": [
    "y_scores = sgd_clf.decision_function(some_digits)\n",
    "y_predsx = sgd_clf.predict(some_digits)"
   ]
  },
  {
   "cell_type": "code",
   "execution_count": 14,
   "metadata": {
    "ExecuteTime": {
     "end_time": "2021-01-05T10:25:49.263499Z",
     "start_time": "2021-01-05T10:25:49.210827Z"
    }
   },
   "outputs": [],
   "source": [
    "test_res_df=pd.DataFrame({'scores':y_scores, 'predicts':y_predsx, 'actual':some_labels})"
   ]
  },
  {
   "cell_type": "code",
   "execution_count": 15,
   "metadata": {
    "ExecuteTime": {
     "end_time": "2021-01-05T10:25:49.517001Z",
     "start_time": "2021-01-05T10:25:49.408563Z"
    }
   },
   "outputs": [
    {
     "data": {
      "text/html": [
       "<div>\n",
       "<style scoped>\n",
       "    .dataframe tbody tr th:only-of-type {\n",
       "        vertical-align: middle;\n",
       "    }\n",
       "\n",
       "    .dataframe tbody tr th {\n",
       "        vertical-align: top;\n",
       "    }\n",
       "\n",
       "    .dataframe thead th {\n",
       "        text-align: right;\n",
       "    }\n",
       "</style>\n",
       "<table border=\"1\" class=\"dataframe\">\n",
       "  <thead>\n",
       "    <tr style=\"text-align: right;\">\n",
       "      <th></th>\n",
       "      <th>scores</th>\n",
       "      <th>predicts</th>\n",
       "      <th>actual</th>\n",
       "    </tr>\n",
       "  </thead>\n",
       "  <tbody>\n",
       "    <tr>\n",
       "      <th>15</th>\n",
       "      <td>2609.524008</td>\n",
       "      <td>True</td>\n",
       "      <td>True</td>\n",
       "    </tr>\n",
       "    <tr>\n",
       "      <th>23</th>\n",
       "      <td>6474.066499</td>\n",
       "      <td>True</td>\n",
       "      <td>True</td>\n",
       "    </tr>\n",
       "    <tr>\n",
       "      <th>45</th>\n",
       "      <td>2197.350491</td>\n",
       "      <td>True</td>\n",
       "      <td>True</td>\n",
       "    </tr>\n",
       "    <tr>\n",
       "      <th>52</th>\n",
       "      <td>1794.587057</td>\n",
       "      <td>True</td>\n",
       "      <td>True</td>\n",
       "    </tr>\n",
       "    <tr>\n",
       "      <th>53</th>\n",
       "      <td>2452.784579</td>\n",
       "      <td>True</td>\n",
       "      <td>True</td>\n",
       "    </tr>\n",
       "    <tr>\n",
       "      <th>59</th>\n",
       "      <td>1774.666548</td>\n",
       "      <td>True</td>\n",
       "      <td>True</td>\n",
       "    </tr>\n",
       "    <tr>\n",
       "      <th>98</th>\n",
       "      <td>1483.461591</td>\n",
       "      <td>True</td>\n",
       "      <td>False</td>\n",
       "    </tr>\n",
       "  </tbody>\n",
       "</table>\n",
       "</div>"
      ],
      "text/plain": [
       "         scores  predicts  actual\n",
       "15  2609.524008      True    True\n",
       "23  6474.066499      True    True\n",
       "45  2197.350491      True    True\n",
       "52  1794.587057      True    True\n",
       "53  2452.784579      True    True\n",
       "59  1774.666548      True    True\n",
       "98  1483.461591      True   False"
      ]
     },
     "execution_count": 15,
     "metadata": {},
     "output_type": "execute_result"
    }
   ],
   "source": [
    "test_res_df[test_res_df['predicts']==True]"
   ]
  },
  {
   "cell_type": "markdown",
   "metadata": {},
   "source": [
    "### Effect of changing the thresholds of the scores for prediction\n",
    "\n",
    "$precision  = \\frac{TP}{TP+FP}$, $recall = \\frac{TP}{TP+FN}$\n",
    "\n",
    "1. If the threshold is increased then by the formula above:\n",
    "   \n",
    "   a. False Positive: i.e. The values which are False but classified as True will decrease. Hence **PRECISION INCREASES**.\n",
    "   \n",
    "   b. False Negative: The values which are Not False but classified as false will increase because True values with lower scores will be ignored. Hence **RECALL DECREASES**\n",
    "   \n",
    "#### STRATEGIES for deciding the THRESHOLD values\n",
    "\n",
    "1. Get scores of all instances in the training set using cross_val_predict() for deciding the threshold score\n",
    "\n",
    "\n",
    "**NOTE**\n",
    "\n",
    "$$Precision=\\frac{Corretly Predicted Positive}{Total Predicted Positives}$$\n",
    "\n",
    "----\n",
    "\n",
    "$$Recall=\\frac{Correctly Predicted Positive}{Actual Positives IN Dataset}$$"
   ]
  },
  {
   "cell_type": "code",
   "execution_count": 16,
   "metadata": {
    "ExecuteTime": {
     "end_time": "2021-01-05T10:26:07.899889Z",
     "start_time": "2021-01-05T10:25:49.548949Z"
    }
   },
   "outputs": [
    {
     "data": {
      "text/plain": [
       "array([  1200.93051237, -26883.79202424, -33072.03475406, ...,\n",
       "        13272.12718981,  -7258.47203373, -16877.50840447])"
      ]
     },
     "execution_count": 16,
     "metadata": {},
     "output_type": "execute_result"
    }
   ],
   "source": [
    "y_scores = cross_val_predict(sgd_clf, X_train, y_train_5, cv=3, method='decision_function')\n",
    "y_scores"
   ]
  },
  {
   "cell_type": "code",
   "execution_count": 17,
   "metadata": {
    "ExecuteTime": {
     "end_time": "2021-01-05T10:26:07.948465Z",
     "start_time": "2021-01-05T10:26:07.922924Z"
    }
   },
   "outputs": [],
   "source": [
    "from sklearn.metrics import precision_recall_curve\n",
    "precisions, recalls, thresholds = precision_recall_curve(y_train_5, y_scores)"
   ]
  },
  {
   "cell_type": "code",
   "execution_count": 18,
   "metadata": {
    "ExecuteTime": {
     "end_time": "2021-01-05T10:26:08.430272Z",
     "start_time": "2021-01-05T10:26:07.967666Z"
    }
   },
   "outputs": [
    {
     "data": {
      "image/png": "[encoded data removed]",
      "text/plain": [
       "<Figure size 432x288 with 1 Axes>"
      ]
     },
     "metadata": {
      "needs_background": "light"
     },
     "output_type": "display_data"
    }
   ],
   "source": [
    "def plot_precision_recall_vs_threshold(precisions, recalls, thresholds):\n",
    "    plt.plot(thresholds, precisions[:-1],'b--', label=\"Precision\")\n",
    "    plt.plot(thresholds, recalls[:-1], 'g-', label=\"Recall\")\n",
    "\n",
    "plot_precision_recall_vs_threshold(precisions, recalls, thresholds)\n",
    "plt.xlabel('Threshold')\n",
    "plt.title('Precision & Recall vs Threshold')\n",
    "plt.legend()\n",
    "plt.show()"
   ]
  },
  {
   "cell_type": "code",
   "execution_count": 19,
   "metadata": {
    "ExecuteTime": {
     "end_time": "2021-01-05T10:26:08.550778Z",
     "start_time": "2021-01-05T10:26:08.442074Z"
    }
   },
   "outputs": [
    {
     "data": {
      "image/png": "[encoded data removed]",
      "text/plain": [
       "<Figure size 432x288 with 1 Axes>"
      ]
     },
     "metadata": {
      "needs_background": "light"
     },
     "output_type": "display_data"
    }
   ],
   "source": [
    "plt.plot(recalls,precisions)\n",
    "plt.xlabel('Recall')\n",
    "plt.ylabel('Precision')\n",
    "plt.title('Precision/Recall')\n",
    "plt.show()"
   ]
  },
  {
   "cell_type": "markdown",
   "metadata": {},
   "source": [
    "#### Pit falls:\n",
    "It might appear that if we want to create a model with any precision value by just setting up a high threshold.\n",
    "E.g. From precision/recall we know that at 90% precision we have around 0.45 recall value, we can accoringly get the threshold at \n",
    "\n",
    "\n",
    "### The ROC Curve (Receiver Operating Characteristic)\n",
    "It is a tool that is used with binary classifiers. It is a plot of `true positive rate(recall)` against the `false positive rate`.\n",
    "\n",
    "**False Positive Rate(FPR)** = 1-true_negative_rate\n",
    "\n",
    "The **FPR** is the ratio of negative instances that are incorrectly classified as positive.\n",
    "\n",
    "**True Negative Rate(TNR)**: Ratio of negative instances that are correctly classified as negative. TNR is also called specificity."
   ]
  },
  {
   "cell_type": "code",
   "execution_count": 20,
   "metadata": {
    "ExecuteTime": {
     "end_time": "2021-01-05T10:26:08.573821Z",
     "start_time": "2021-01-05T10:26:08.563077Z"
    }
   },
   "outputs": [],
   "source": [
    "from sklearn.metrics import roc_curve\n",
    "\n",
    "fpr, tpr, thresholds = roc_curve(y_train_5, y_scores)"
   ]
  },
  {
   "cell_type": "code",
   "execution_count": 21,
   "metadata": {
    "ExecuteTime": {
     "end_time": "2021-01-05T10:26:08.735849Z",
     "start_time": "2021-01-05T10:26:08.585105Z"
    }
   },
   "outputs": [
    {
     "data": {
      "image/png": "[encoded data removed]",
      "text/plain": [
       "<Figure size 432x288 with 1 Axes>"
      ]
     },
     "metadata": {
      "needs_background": "light"
     },
     "output_type": "display_data"
    }
   ],
   "source": [
    "def plot_roc_curve(fpr,tpr,label=None):\n",
    "    plt.plot(fpr, tpr, linewidth=2, label=label)\n",
    "    plt.plot([0,1],[0,1],'k--')\n",
    "    plt.xlabel('False Positive Rate')\n",
    "    plt.ylabel('True Positive Rate(Recall)')\n",
    "\n",
    "plot_roc_curve(fpr, tpr)"
   ]
  },
  {
   "cell_type": "markdown",
   "metadata": {},
   "source": [
    "The dotted line represents the ROC of a purely random classifier. \n",
    "A good classifier must stay as far as possible from this line.They are calculated at different thresholds and plotted against each other in the ROC Plot.\n",
    "\n",
    "* AUC(Area Under Curve): The methods to measure the classifiers against each other is by comparing the `Area Under the Curve`(AUC) of the ROC of the two classifiers. "
   ]
  },
  {
   "cell_type": "code",
   "execution_count": 22,
   "metadata": {
    "ExecuteTime": {
     "end_time": "2021-01-05T10:26:08.973138Z",
     "start_time": "2021-01-05T10:26:08.746764Z"
    }
   },
   "outputs": [
    {
     "data": {
      "text/plain": [
       "0.9604938554008616"
      ]
     },
     "execution_count": 22,
     "metadata": {},
     "output_type": "execute_result"
    }
   ],
   "source": [
    "# calculating the area under the curve:\n",
    "from sklearn.metrics import roc_auc_score\n",
    "roc_auc_score(y_train_5, y_scores)"
   ]
  },
  {
   "cell_type": "markdown",
   "metadata": {},
   "source": [
    "As a rule of thumb, prefer the **PR curve whenever the positive class is rare or when you care more about the false positives than the false negatives**, and the **ROC curve otherwise**.\n",
    "\n",
    "*** In our case not sign/random article is being classified as them. I.E. The problem of FP(False Positive)"
   ]
  },
  {
   "cell_type": "code",
   "execution_count": 23,
   "metadata": {
    "ExecuteTime": {
     "end_time": "2021-01-05T10:28:47.544966Z",
     "start_time": "2021-01-05T10:26:08.988364Z"
    }
   },
   "outputs": [],
   "source": [
    "# training with RandomForestClassifier\n",
    "from sklearn.ensemble import RandomForestClassifier\n",
    "\n",
    "forest_clf = RandomForestClassifier(random_state=42)\n",
    "y_probas_forest = cross_val_predict(forest_clf, X_train, y_train_5, \n",
    "                                    cv=5, method = 'predict_proba')\n",
    "y_pred_forest = cross_val_predict(forest_clf, X_train, y_train_5, \n",
    "                                    cv=5, method = 'predict_proba')"
   ]
  },
  {
   "cell_type": "code",
   "execution_count": 24,
   "metadata": {
    "ExecuteTime": {
     "end_time": "2021-01-05T10:28:47.562332Z",
     "start_time": "2021-01-05T10:28:47.556443Z"
    }
   },
   "outputs": [],
   "source": [
    "y_scores_forest = y_probas_forest[:,1]\n",
    "fpr_forest, tpr_forest, thresholds_forest = roc_curve(y_train_5, y_scores_forest)"
   ]
  },
  {
   "cell_type": "code",
   "execution_count": 25,
   "metadata": {
    "ExecuteTime": {
     "end_time": "2021-01-05T10:28:47.752932Z",
     "start_time": "2021-01-05T10:28:47.575320Z"
    }
   },
   "outputs": [
    {
     "data": {
      "image/png": "[encoded data removed]",
      "text/plain": [
       "<Figure size 432x288 with 1 Axes>"
      ]
     },
     "metadata": {
      "needs_background": "light"
     },
     "output_type": "display_data"
    }
   ],
   "source": [
    "plt.plot(fpr, tpr, \"b:\", label=\"SGD\")\n",
    "plot_roc_curve(fpr_forest, tpr_forest, \"Random Forest\")\n",
    "plt.legend()\n",
    "plt.show()\n"
   ]
  },
  {
   "cell_type": "code",
   "execution_count": 26,
   "metadata": {
    "ExecuteTime": {
     "end_time": "2021-01-05T10:29:27.077409Z",
     "start_time": "2021-01-05T10:28:47.767168Z"
    }
   },
   "outputs": [],
   "source": [
    "y_results = cross_val_predict(forest_clf,X_train, y_train_5,cv=3)\n",
    "#calculating its precision and recall\n"
   ]
  },
  {
   "cell_type": "code",
   "execution_count": 27,
   "metadata": {
    "ExecuteTime": {
     "end_time": "2021-01-05T10:29:27.143781Z",
     "start_time": "2021-01-05T10:29:27.093375Z"
    }
   },
   "outputs": [
    {
     "name": "stdout",
     "output_type": "stream",
     "text": [
      "ROC_AUC Score : 0.998402186461512\n",
      "precision     : 0.9905083315756169\n",
      "recall        : 0.8662608374838591\n",
      "f1-score      : 0.9242275142688446\n"
     ]
    }
   ],
   "source": [
    "apply_padding = lambda x,y: x.ljust(len(x)+len(y)-len(x))\n",
    "print(apply_padding('ROC_AUC Score','ROC_AUC Score'),':',roc_auc_score(y_train_5, y_scores_forest))\n",
    "print(apply_padding('precision','ROC_AUC Score'),':',precision_score(y_train_5, y_results))\n",
    "print(apply_padding('recall','ROC_AUC Score'),':', recall_score(y_train_5, y_results))\n",
    "print(apply_padding('f1-score','ROC_AUC Score'),':', f1_score(y_train_5, y_results))"
   ]
  },
  {
   "cell_type": "markdown",
   "metadata": {},
   "source": [
    "### Multiclass Classification\n",
    "\n",
    "*multiclass classifiers* or *multinomial classifiers* can distinguish between more than two classifiers.\n",
    "\n",
    "Multiclass classification can be achieve with Binary classifiers also.\n",
    "Types of classifying methods built from binary classifiers:\n",
    "\n",
    "1. **One-Versus-All**: One way to create a system that can classify the digit images into 10 classes (from 0 to 9) is to train 10 binary classifiers, one for each digit (a 0-detector, a 1-detector, a 2-detector, and so on). Then when you want to classify an image, you get the decision score from each classifier for that image and you select the class whose classifier outputs the highest score. This is called the one-versus-all (OvA) strategy (also called one-versus-the-rest).\n",
    "\n",
    "\n",
    "2. **One-Versus-One Strategy**: Another strategy is to train a binary classifier for every pair of digits: one to distinguish 0s and 1s, another to distinguish 0s and 2s, another for 1s and 2s, and so on. This is called the one-versus-one (OvO) strategy. If there are N classes, you need to train N × (N – 1) / 2 classifiers.\n",
    "\n",
    "\n",
    "** Scikit-Learn detects when you try to use a binary classification algorithm for a multiclass classification task, and it automatically runs OvA (except for SVM classifiers for which it uses OvO)."
   ]
  },
  {
   "cell_type": "code",
   "execution_count": 28,
   "metadata": {
    "ExecuteTime": {
     "end_time": "2021-01-05T10:31:19.185176Z",
     "start_time": "2021-01-05T10:29:27.169904Z"
    }
   },
   "outputs": [
    {
     "data": {
      "text/plain": [
       "SGDClassifier(random_state=42)"
      ]
     },
     "execution_count": 28,
     "metadata": {},
     "output_type": "execute_result"
    }
   ],
   "source": [
    "sgd_clf.fit(X_train, y_train)"
   ]
  },
  {
   "cell_type": "code",
   "execution_count": 29,
   "metadata": {
    "ExecuteTime": {
     "end_time": "2021-01-05T10:31:19.243971Z",
     "start_time": "2021-01-05T10:31:19.200172Z"
    }
   },
   "outputs": [],
   "source": [
    "preds = sgd_clf.predict(some_digits)\n",
    "#pd.Series(some_labels_real).value_counts()\n",
    "some_scores = sgd_clf.decision_function(some_digits)"
   ]
  },
  {
   "cell_type": "code",
   "execution_count": 30,
   "metadata": {
    "ExecuteTime": {
     "end_time": "2021-01-05T10:31:19.305738Z",
     "start_time": "2021-01-05T10:31:19.284481Z"
    }
   },
   "outputs": [
    {
     "data": {
      "text/plain": [
       "array([7, 2, 1, 0, 4, 1, 5, 1, 6, 9, 0, 6, 9, 0, 1, 5, 9, 7, 5, 4, 9, 6,\n",
       "       6, 5, 4, 0, 7, 4, 0, 1, 3, 1, 3, 0, 7, 2, 7, 1, 3, 1, 1, 7, 9, 2,\n",
       "       3, 5, 1, 2, 8, 4, 6, 3, 5, 5, 6, 0, 4, 1, 9, 7, 7, 8, 9, 3, 7, 4,\n",
       "       3, 4, 3, 0, 7, 0, 2, 9, 1, 7, 3, 2, 9, 7, 7, 6, 2, 7, 8, 4, 7, 3,\n",
       "       6, 1, 3, 6, 9, 3, 1, 4, 1, 7, 6, 9])"
      ]
     },
     "execution_count": 30,
     "metadata": {},
     "output_type": "execute_result"
    }
   ],
   "source": [
    "#pd.DataFrame({'predicted':preds, 'ground_truths': some_labels_real})\n",
    "np.argmax(some_scores, axis=1)\n"
   ]
  },
  {
   "cell_type": "markdown",
   "metadata": {},
   "source": [
    "In the case of SGD we did't have to explicitly declare a 'OVA' type of the classifier, it automatically did the following:\n",
    "1. It trained One-versus-all model for all the distinct classifiers.\n",
    "2. Ran the test set on all the models\n",
    "3. Calculates the argmax for all the Binary classifier.\n",
    "4. Returns its label as a result.\n",
    "\n",
    "For forcing the one-vs-one or one-vs-all use predefined classes:"
   ]
  },
  {
   "cell_type": "code",
   "execution_count": 31,
   "metadata": {
    "ExecuteTime": {
     "end_time": "2021-01-05T10:31:50.848829Z",
     "start_time": "2021-01-05T10:31:19.327792Z"
    }
   },
   "outputs": [
    {
     "data": {
      "text/plain": [
       "OneVsOneClassifier(estimator=SGDClassifier(random_state=45))"
      ]
     },
     "execution_count": 31,
     "metadata": {},
     "output_type": "execute_result"
    }
   ],
   "source": [
    "from sklearn.multiclass import OneVsOneClassifier\n",
    "ovo_clf = OneVsOneClassifier(SGDClassifier(random_state=45))\n",
    "ovo_clf.fit(X_train, y_train)"
   ]
  },
  {
   "cell_type": "code",
   "execution_count": 32,
   "metadata": {
    "ExecuteTime": {
     "end_time": "2021-01-05T10:31:50.899955Z",
     "start_time": "2021-01-05T10:31:50.869509Z"
    }
   },
   "outputs": [
    {
     "data": {
      "text/plain": [
       "45"
      ]
     },
     "execution_count": 32,
     "metadata": {},
     "output_type": "execute_result"
    }
   ],
   "source": [
    "ovo_clf.predict(some_digits)\n",
    "len(ovo_clf.estimators_)"
   ]
  },
  {
   "cell_type": "markdown",
   "metadata": {},
   "source": [
    "These steps are not required for already multiclass classifiers.\n",
    "For e.g. RandomForestClassifiers"
   ]
  },
  {
   "cell_type": "code",
   "execution_count": 33,
   "metadata": {
    "ExecuteTime": {
     "end_time": "2021-01-05T10:32:18.382691Z",
     "start_time": "2021-01-05T10:31:50.940493Z"
    }
   },
   "outputs": [
    {
     "data": {
      "text/plain": [
       "RandomForestClassifier()"
      ]
     },
     "execution_count": 33,
     "metadata": {},
     "output_type": "execute_result"
    }
   ],
   "source": [
    "from sklearn.ensemble import RandomForestClassifier\n",
    "from sklearn.model_selection import cross_val_score\n",
    "forest_clf_rf = RandomForestClassifier()\n",
    "forest_clf_rf.fit(X_train, y_train)"
   ]
  },
  {
   "cell_type": "code",
   "execution_count": 34,
   "metadata": {
    "ExecuteTime": {
     "end_time": "2021-01-05T10:33:07.377395Z",
     "start_time": "2021-01-05T10:32:18.408833Z"
    }
   },
   "outputs": [
    {
     "data": {
      "text/plain": [
       "array([0.96495, 0.9629 , 0.9669 ])"
      ]
     },
     "execution_count": 34,
     "metadata": {},
     "output_type": "execute_result"
    }
   ],
   "source": [
    "cross_val_score(forest_clf_rf, X_train, y_train, cv=3, scoring='accuracy')"
   ]
  },
  {
   "cell_type": "markdown",
   "metadata": {},
   "source": [
    "## General Approach Classification Training\n",
    "Using grid search for turing **hyperparameters**.\n",
    "This can be used to train/retrain until correct params are found.\n",
    "\n",
    "#### RANDOM SEARCH VS GRID SEARCH\n",
    "GridSearchCV function is used to simplify the process of hyperparameter tuning but it would be an extremely costly execution both in computing power and time.\n",
    "\n"
   ]
  },
  {
   "cell_type": "code",
   "execution_count": 35,
   "metadata": {
    "ExecuteTime": {
     "end_time": "2021-01-05T11:39:35.377390Z",
     "start_time": "2021-01-05T11:39:35.370409Z"
    }
   },
   "outputs": [],
   "source": [
    "from sklearn.model_selection import GridSearchCV\n",
    "\n",
    "grid_parameters = [\n",
    "    {'n_estimators':[10,50,100,125], 'criterion':[\"gini\"], 'random_state':[42]},\n",
    "    {'n_estimators':[50,100], 'max_depth':[10,30, 70,150], 'random_state':[42]},\n",
    "    {'n_estimators':[100], 'min_samples_leaf':[1,2,4], 'min_samples_split':[2,5,10], 'random_state':[42]}\n",
    "]\n",
    "\n",
    "rfc = RandomForestClassifier()\n",
    "\n",
    "gsearch = GridSearchCV(estimator= rfc, param_grid=grid_parameters, cv=3, verbose=2, n_jobs=2)"
   ]
  },
  {
   "cell_type": "code",
   "execution_count": 36,
   "metadata": {
    "ExecuteTime": {
     "end_time": "2021-01-05T11:47:36.466688Z",
     "start_time": "2021-01-05T11:39:39.129718Z"
    }
   },
   "outputs": [
    {
     "name": "stdout",
     "output_type": "stream",
     "text": [
      "Fitting 3 folds for each of 21 candidates, totalling 63 fits\n"
     ]
    },
    {
     "name": "stderr",
     "output_type": "stream",
     "text": [
      "[Parallel(n_jobs=2)]: Using backend LokyBackend with 2 concurrent workers.\n",
      "[Parallel(n_jobs=2)]: Done  37 tasks      | elapsed:  3.8min\n",
      "[Parallel(n_jobs=2)]: Done  63 out of  63 | elapsed:  7.3min finished\n"
     ]
    },
    {
     "data": {
      "text/plain": [
       "GridSearchCV(cv=3, estimator=RandomForestClassifier(), n_jobs=2,\n",
       "             param_grid=[{'criterion': ['gini'],\n",
       "                          'n_estimators': [10, 50, 100, 125],\n",
       "                          'random_state': [42]},\n",
       "                         {'max_depth': [10, 30, 70, 150],\n",
       "                          'n_estimators': [50, 100], 'random_state': [42]},\n",
       "                         {'min_samples_leaf': [1, 2, 4],\n",
       "                          'min_samples_split': [2, 5, 10],\n",
       "                          'n_estimators': [100], 'random_state': [42]}],\n",
       "             verbose=2)"
      ]
     },
     "execution_count": 36,
     "metadata": {},
     "output_type": "execute_result"
    }
   ],
   "source": [
    "gsearch.fit(X_train, y_train)"
   ]
  },
  {
   "cell_type": "code",
   "execution_count": 37,
   "metadata": {
    "ExecuteTime": {
     "end_time": "2021-01-05T12:06:00.250789Z",
     "start_time": "2021-01-05T12:06:00.244999Z"
    }
   },
   "outputs": [
    {
     "data": {
      "text/plain": [
       "{'criterion': 'gini', 'n_estimators': 125, 'random_state': 42}"
      ]
     },
     "execution_count": 37,
     "metadata": {},
     "output_type": "execute_result"
    }
   ],
   "source": [
    "dir(gsearch)\n",
    "gsearch.best_params_\n"
   ]
  },
  {
   "cell_type": "code",
   "execution_count": 64,
   "metadata": {
    "ExecuteTime": {
     "end_time": "2021-01-05T12:12:25.812374Z",
     "start_time": "2021-01-05T12:11:51.506454Z"
    }
   },
   "outputs": [
    {
     "data": {
      "text/plain": [
       "RandomForestClassifier(n_estimators=125)"
      ]
     },
     "execution_count": 64,
     "metadata": {},
     "output_type": "execute_result"
    }
   ],
   "source": [
    "from sklearn.preprocessing import StandardScaler\n",
    "s = StandardScaler()\n",
    "X_train_scaled = s.fit_transform(X_train)\n",
    "rfc_opti = RandomForestClassifier(criterion='gini', n_estimators=125)\n",
    "rfc_opti.fit(X_train_scaled, y_train)"
   ]
  },
  {
   "cell_type": "code",
   "execution_count": 65,
   "metadata": {
    "ExecuteTime": {
     "end_time": "2021-01-05T12:12:57.079143Z",
     "start_time": "2021-01-05T12:12:56.780017Z"
    }
   },
   "outputs": [],
   "source": [
    "opti_preds_y = rfc_opti.predict(s.fit_transform(X_test))\n"
   ]
  },
  {
   "cell_type": "code",
   "execution_count": 66,
   "metadata": {},
   "outputs": [],
   "source": [
    "#from sklearn.metrics import precision_score, recall_score, f1_score\n",
    "xs = precision_score(y_test, opti_preds_y, average=None)\n"
   ]
  },
  {
   "cell_type": "code",
   "execution_count": 67,
   "metadata": {},
   "outputs": [
    {
     "data": {
      "text/plain": [
       "array([0.95009785, 0.9929078 , 0.95744681, 0.94778325, 0.96843177,\n",
       "       0.92596567, 0.9860515 , 0.9837233 , 0.93413174, 0.97010309])"
      ]
     },
     "execution_count": 67,
     "metadata": {},
     "output_type": "execute_result"
    }
   ],
   "source": [
    "xs"
   ]
  },
  {
   "cell_type": "code",
   "execution_count": 59,
   "metadata": {},
   "outputs": [
    {
     "data": {
      "text/plain": [
       "array([0.97097097, 0.99204947, 0.95610687, 0.96428571, 0.97341513,\n",
       "       0.96942242, 0.9760666 , 0.97249509, 0.96086509, 0.95908184])"
      ]
     },
     "execution_count": 59,
     "metadata": {},
     "output_type": "execute_result"
    }
   ],
   "source": [
    "precision_score(y_test, opti_preds_y, labels=[0,1,2,3,4,5,6,7,8,9],average=None)"
   ]
  },
  {
   "cell_type": "markdown",
   "metadata": {},
   "source": [
    "### Error Analysis Multiclass\n",
    "\n",
    "1. Confusion Matrix\n",
    "Generate predictions for all the datapoints using the cross_val_predict."
   ]
  },
  {
   "cell_type": "code",
   "execution_count": 69,
   "metadata": {},
   "outputs": [],
   "source": [
    "from sklearn.metrics import confusion_matrix\n",
    "\n",
    "y_train_preds = cross_val_predict(rfc_opti, X_train_scaled, y_train, cv=3)"
   ]
  },
  {
   "cell_type": "code",
   "execution_count": 74,
   "metadata": {},
   "outputs": [
    {
     "data": {
      "image/png": "[encoded data removed]",
      "text/plain": [
       "<Figure size 288x288 with 1 Axes>"
      ]
     },
     "metadata": {
      "needs_background": "light"
     },
     "output_type": "display_data"
    }
   ],
   "source": [
    "conf_mx = confusion_matrix(y_train,y_train_preds) #(rows,columns)\n",
    "plt.matshow(conf_mx, cmap = plt.cm.gray)\n",
    "plt.show()"
   ]
  },
  {
   "cell_type": "code",
   "execution_count": 81,
   "metadata": {},
   "outputs": [
    {
     "data": {
      "text/plain": [
       "array([[0.16666667, 0.33333333, 0.5       ],\n",
       "       [0.26666667, 0.33333333, 0.4       ],\n",
       "       [0.29166667, 0.33333333, 0.375     ]])"
      ]
     },
     "execution_count": 81,
     "metadata": {},
     "output_type": "execute_result"
    }
   ],
   "source": [
    "res = np.array([1,2,3,4,5,6,7,8,9]).reshape(3,3)\n",
    "row_sum = res.sum(axis=1, keepdims=True) # all columns added\n",
    "res/row_sum"
   ]
  },
  {
   "cell_type": "code",
   "execution_count": 91,
   "metadata": {},
   "outputs": [
    {
     "data": {
      "text/plain": [
       "<matplotlib.image.AxesImage at 0x7f67c1321f10>"
      ]
     },
     "execution_count": 91,
     "metadata": {},
     "output_type": "execute_result"
    },
    {
     "data": {
      "image/png": "[encoded data removed]",
      "text/plain": [
       "<Figure size 288x288 with 1 Axes>"
      ]
     },
     "metadata": {
      "needs_background": "light"
     },
     "output_type": "display_data"
    }
   ],
   "source": [
    "row_sum = conf_mx.sum(axis=1, keepdims=True)\n",
    "norm_conf_mx =conf_mx/row_sum\n",
    "np.fill_diagonal(norm_conf_mx,0)\n",
    "plt.matshow(norm_conf_mx, cmap=plt.cm.gray)\n",
    "# white color means relatively higher value"
   ]
  },
  {
   "cell_type": "code",
   "execution_count": 100,
   "metadata": {},
   "outputs": [],
   "source": [
    "wrong_res_dict = {}\n",
    "\n",
    "for i in range(10):\n",
    "    wrong_res_dict[str(i)] = X_train[(y_train_preds!=y_train) & (y_train==i)]"
   ]
  },
  {
   "cell_type": "code",
   "execution_count": 103,
   "metadata": {},
   "outputs": [
    {
     "data": {
      "text/plain": [
       "(76, 784)"
      ]
     },
     "execution_count": 103,
     "metadata": {},
     "output_type": "execute_result"
    }
   ],
   "source": [
    "wrong_res_dict['0']"
   ]
  },
  {
   "cell_type": "code",
   "execution_count": 105,
   "metadata": {},
   "outputs": [],
   "source": [
    "def plot_digits(instances, images_per_row=10, **options):\n",
    "    size = 28\n",
    "    images_per_row = min(len(instances), images_per_row)\n",
    "    images = [instance.reshape(size,size) for instance in instances]\n",
    "    n_rows = (len(instances) - 1) // images_per_row + 1\n",
    "    row_images = []\n",
    "    n_empty = n_rows * images_per_row - len(instances)\n",
    "    images.append(np.zeros((size, size * n_empty)))\n",
    "    for row in range(n_rows):\n",
    "        rimages = images[row * images_per_row : (row + 1) * images_per_row]\n",
    "        row_images.append(np.concatenate(rimages, axis=1))\n",
    "    image = np.concatenate(row_images, axis=0)\n",
    "    plt.imshow(image, cmap = mpl.cm.binary, **options)\n",
    "    plt.axis(\"off\")"
   ]
  },
  {
   "cell_type": "code",
   "execution_count": 115,
   "metadata": {},
   "outputs": [
    {
     "data": {
      "image/png": "[encoded data removed]",
      "text/plain": [
       "<Figure size 432x288 with 1 Axes>"
      ]
     },
     "metadata": {
      "needs_background": "light"
     },
     "output_type": "display_data"
    }
   ],
   "source": [
    "plot_digits(wrong_res_dict['7'][:25])"
   ]
  },
  {
   "cell_type": "markdown",
   "metadata": {},
   "source": [
    "## Multilabel Classification\n",
    "\n",
    "The classification system that outputs multiple binary tags  is called multilabel classification systems.\n",
    "\n",
    "### EVALUATION OF MULTILABEL CLASSIFICATION\n",
    "1. F1 Score: Calculate F1 score for all the labels individually, then compute their average.\n",
    "Can be weighted in the circumstances where it is required.\n",
    "e.g. When samples of a particular label is larger than others."
   ]
  },
  {
   "cell_type": "code",
   "execution_count": 137,
   "metadata": {},
   "outputs": [
    {
     "data": {
      "text/plain": [
       "KNeighborsClassifier()"
      ]
     },
     "execution_count": 137,
     "metadata": {},
     "output_type": "execute_result"
    }
   ],
   "source": [
    "from sklearn.neighbors import KNeighborsClassifier\n",
    "y_train_large = y_train>=7\n",
    "y_train_odd = y_train%2 ==1\n",
    "y_multilabel = np.c_[y_train_large, y_train_odd]\n",
    "knn_clf = KNeighborsClassifier()\n",
    "knn_clf.fit(X_train, y_multilabel)"
   ]
  },
  {
   "cell_type": "markdown",
   "metadata": {},
   "source": [
    "## Multioutput Classification\n",
    "It is a generalization of multilabel classification where each label can be multiclass i.e. have more than two possible value.\n",
    "\n",
    "e.g. \n",
    "The approach is simple we first add noise in the data and train the KNN to map the noisy image to the target image"
   ]
  },
  {
   "cell_type": "code",
   "execution_count": 155,
   "metadata": {},
   "outputs": [
    {
     "data": {
      "text/plain": [
       "KNeighborsClassifier()"
      ]
     },
     "execution_count": 155,
     "metadata": {},
     "output_type": "execute_result"
    }
   ],
   "source": [
    "# adding noise to image matrix by adding random ints\n",
    "\n",
    "noise_train = np.random.randint(0, 100,X_train.shape)\n",
    "X_train_mod = X_train+noise_train\n",
    "\n",
    "noise_test = np.random.randint(0, 100,X_test.shape)\n",
    "X_test_mod = X_test+noise_test\n",
    "\n",
    "y_train_mod = X_train\n",
    "y_test_mod = X_test\n",
    "\n",
    "# plt.imshow(X_train_mod[:1].reshape((28,28)), mpl.cm.binary)\n",
    "# plt.show()\n",
    "\n",
    "# plt.imshow(y_train_mod[:1].reshape((28,28)), mpl.cm.binary)\n",
    "# plt.show()\n",
    "\n",
    "knn_class = KNeighborsClassifier()\n",
    "knn_class.fit(X_train_mod, y_train_large)"
   ]
  }
 ],
 "metadata": {
  "kernelspec": {
   "display_name": "tensorflow_dev",
   "language": "python",
   "name": "tf_dev"
  },
  "language_info": {
   "codemirror_mode": {
    "name": "ipython",
    "version": 3
   },
   "file_extension": ".py",
   "mimetype": "text/x-python",
   "name": "python",
   "nbconvert_exporter": "python",
   "pygments_lexer": "ipython3",
   "version": "3.7.7"
  },
  "varInspector": {
   "cols": {
    "lenName": 16,
    "lenType": 16,
    "lenVar": 40
   },
   "kernels_config": {
    "python": {
     "delete_cmd_postfix": "",
     "delete_cmd_prefix": "del ",
     "library": "var_list.py",
     "varRefreshCmd": "print(var_dic_list())"
    },
    "r": {
     "delete_cmd_postfix": ") ",
     "delete_cmd_prefix": "rm(",
     "library": "var_list.r",
     "varRefreshCmd": "cat(var_dic_list()) "
    }
   },
   "types_to_exclude": [
    "module",
    "function",
    "builtin_function_or_method",
    "instance",
    "_Feature"
   ],
   "window_display": false
  }
 },
 "nbformat": 4,
 "nbformat_minor": 2
}
